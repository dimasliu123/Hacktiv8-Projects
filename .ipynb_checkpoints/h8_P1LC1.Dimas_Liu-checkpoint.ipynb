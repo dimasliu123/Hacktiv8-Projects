{
 "cells": [
  {
   "cell_type": "code",
   "execution_count": 1,
   "id": "b30312b6",
   "metadata": {},
   "outputs": [],
   "source": [
    "import numpy as np\n",
    "import pandas as pd\n",
    "import matplotlib.pyplot as plt\n",
    "import seaborn as sns\n",
    "%matplotlib inline"
   ]
  },
  {
   "cell_type": "markdown",
   "id": "8ba1a2ce",
   "metadata": {},
   "source": [
    "# Insurance :"
   ]
  },
  {
   "cell_type": "code",
   "execution_count": 2,
   "id": "1e24fc74",
   "metadata": {},
   "outputs": [
    {
     "data": {
      "text/html": [
       "<div>\n",
       "<style scoped>\n",
       "    .dataframe tbody tr th:only-of-type {\n",
       "        vertical-align: middle;\n",
       "    }\n",
       "\n",
       "    .dataframe tbody tr th {\n",
       "        vertical-align: top;\n",
       "    }\n",
       "\n",
       "    .dataframe thead th {\n",
       "        text-align: right;\n",
       "    }\n",
       "</style>\n",
       "<table border=\"1\" class=\"dataframe\">\n",
       "  <thead>\n",
       "    <tr style=\"text-align: right;\">\n",
       "      <th></th>\n",
       "      <th>age</th>\n",
       "      <th>sex</th>\n",
       "      <th>bmi</th>\n",
       "      <th>children</th>\n",
       "      <th>smoker</th>\n",
       "      <th>region</th>\n",
       "      <th>charges</th>\n",
       "    </tr>\n",
       "  </thead>\n",
       "  <tbody>\n",
       "    <tr>\n",
       "      <th>0</th>\n",
       "      <td>19</td>\n",
       "      <td>female</td>\n",
       "      <td>27.900</td>\n",
       "      <td>0</td>\n",
       "      <td>yes</td>\n",
       "      <td>southwest</td>\n",
       "      <td>16884.92400</td>\n",
       "    </tr>\n",
       "    <tr>\n",
       "      <th>1</th>\n",
       "      <td>18</td>\n",
       "      <td>male</td>\n",
       "      <td>33.770</td>\n",
       "      <td>1</td>\n",
       "      <td>no</td>\n",
       "      <td>southeast</td>\n",
       "      <td>1725.55230</td>\n",
       "    </tr>\n",
       "    <tr>\n",
       "      <th>2</th>\n",
       "      <td>28</td>\n",
       "      <td>male</td>\n",
       "      <td>33.000</td>\n",
       "      <td>3</td>\n",
       "      <td>no</td>\n",
       "      <td>southeast</td>\n",
       "      <td>4449.46200</td>\n",
       "    </tr>\n",
       "    <tr>\n",
       "      <th>3</th>\n",
       "      <td>33</td>\n",
       "      <td>male</td>\n",
       "      <td>22.705</td>\n",
       "      <td>0</td>\n",
       "      <td>no</td>\n",
       "      <td>northwest</td>\n",
       "      <td>21984.47061</td>\n",
       "    </tr>\n",
       "    <tr>\n",
       "      <th>4</th>\n",
       "      <td>32</td>\n",
       "      <td>male</td>\n",
       "      <td>28.880</td>\n",
       "      <td>0</td>\n",
       "      <td>no</td>\n",
       "      <td>northwest</td>\n",
       "      <td>3866.85520</td>\n",
       "    </tr>\n",
       "  </tbody>\n",
       "</table>\n",
       "</div>"
      ],
      "text/plain": [
       "   age     sex     bmi  children smoker     region      charges\n",
       "0   19  female  27.900         0    yes  southwest  16884.92400\n",
       "1   18    male  33.770         1     no  southeast   1725.55230\n",
       "2   28    male  33.000         3     no  southeast   4449.46200\n",
       "3   33    male  22.705         0     no  northwest  21984.47061\n",
       "4   32    male  28.880         0     no  northwest   3866.85520"
      ]
     },
     "execution_count": 2,
     "metadata": {},
     "output_type": "execute_result"
    }
   ],
   "source": [
    "df=pd.read_csv('insurance.csv')\n",
    "df.head()"
   ]
  },
  {
   "cell_type": "code",
   "execution_count": 3,
   "id": "8f50c433",
   "metadata": {
    "scrolled": false
   },
   "outputs": [
    {
     "data": {
      "text/plain": [
       "<AxesSubplot:>"
      ]
     },
     "execution_count": 3,
     "metadata": {},
     "output_type": "execute_result"
    },
    {
     "data": {
      "image/png": "[encoded data removed]",
      "text/plain": [
       "<Figure size 432x288 with 2 Axes>"
      ]
     },
     "metadata": {
      "needs_background": "light"
     },
     "output_type": "display_data"
    }
   ],
   "source": [
    "sns.heatmap(df.corr(), annot=True)"
   ]
  },
  {
   "cell_type": "markdown",
   "id": "2fbda850",
   "metadata": {},
   "source": [
    "# Does BMI increasess based on their age ?"
   ]
  },
  {
   "cell_type": "markdown",
   "id": "9727d597",
   "metadata": {},
   "source": [
    "# Data for Training :"
   ]
  },
  {
   "cell_type": "code",
   "execution_count": 4,
   "id": "e647d8ee",
   "metadata": {},
   "outputs": [
    {
     "data": {
      "text/plain": [
       "<AxesSubplot:ylabel='Density'>"
      ]
     },
     "execution_count": 4,
     "metadata": {},
     "output_type": "execute_result"
    },
    {
     "data": {
      "image/png": "[encoded data removed]",
      "text/plain": [
       "<Figure size 432x288 with 1 Axes>"
      ]
     },
     "metadata": {
      "needs_background": "light"
     },
     "output_type": "display_data"
    }
   ],
   "source": [
    "df['bmi'].plot.kde()"
   ]
  },
  {
   "cell_type": "code",
   "execution_count": 5,
   "id": "2511d558",
   "metadata": {},
   "outputs": [],
   "source": [
    "df_train = df[['bmi', 'age']]"
   ]
  },
  {
   "cell_type": "code",
   "execution_count": 6,
   "id": "eb9f5f8a",
   "metadata": {},
   "outputs": [],
   "source": [
    "X = df_train.iloc[:,1]"
   ]
  },
  {
   "cell_type": "code",
   "execution_count": 7,
   "id": "044c508a",
   "metadata": {},
   "outputs": [],
   "source": [
    "y = df_train.iloc[:,0]"
   ]
  },
  {
   "cell_type": "code",
   "execution_count": 13,
   "id": "5cd5673d",
   "metadata": {},
   "outputs": [],
   "source": [
    "from sklearn.pipeline import make_pipeline\n",
    "from sklearn.preprocessing import normalize\n",
    "from sklearn.linear_model import LinearRegression"
   ]
  },
  {
   "cell_type": "code",
   "execution_count": 14,
   "id": "625e0c59",
   "metadata": {},
   "outputs": [],
   "source": [
    "from sklearn.model_selection import train_test_split"
   ]
  },
  {
   "cell_type": "code",
   "execution_count": 15,
   "id": "a071a145",
   "metadata": {},
   "outputs": [],
   "source": [
    "X = df_train.iloc[:, 1].values\n",
    "y = df_train.iloc[:, 0].values\n",
    "\n",
    "X_train, X_test, y_train, y_test = train_test_split(X, y, test_size = 0.3, random_state = 0)\n",
    "\n",
    "X_train= X_train.reshape(-1, 1)\n",
    "X_test = X_test.reshape(-1,1)\n",
    "y_train= y_train.reshape(-1, 1)\n",
    "\n",
    "norm = normalize(X_train, norm='l2') #Normalize data, to normally distributed\n",
    "\n",
    "lr = LinearRegression()\n",
    "lr.fit(X_train, y_train)\n",
    "\n",
    "pred = lr.predict(X_test)"
   ]
  },
  {
   "cell_type": "code",
   "execution_count": 16,
   "id": "51835b56",
   "metadata": {},
   "outputs": [
    {
     "name": "stdout",
     "output_type": "stream",
     "text": [
      "RMSE : 2.166411682813541\n"
     ]
    }
   ],
   "source": [
    "from sklearn import metrics\n",
    "print('RMSE :', np.sqrt(metrics.mean_absolute_error(y_test,pred)))"
   ]
  },
  {
   "cell_type": "markdown",
   "id": "ab240770",
   "metadata": {},
   "source": [
    "# Galaxy Morphology :"
   ]
  },
  {
   "cell_type": "code",
   "execution_count": 17,
   "id": "3f2c7117",
   "metadata": {},
   "outputs": [],
   "source": [
    "df2 = pd.read_csv('GalaxyMorphology.csv')"
   ]
  },
  {
   "cell_type": "code",
   "execution_count": 18,
   "id": "a85d2106",
   "metadata": {
    "scrolled": true
   },
   "outputs": [
    {
     "data": {
      "text/html": [
       "<div>\n",
       "<style scoped>\n",
       "    .dataframe tbody tr th:only-of-type {\n",
       "        vertical-align: middle;\n",
       "    }\n",
       "\n",
       "    .dataframe tbody tr th {\n",
       "        vertical-align: top;\n",
       "    }\n",
       "\n",
       "    .dataframe thead th {\n",
       "        text-align: right;\n",
       "    }\n",
       "</style>\n",
       "<table border=\"1\" class=\"dataframe\">\n",
       "  <thead>\n",
       "    <tr style=\"text-align: right;\">\n",
       "      <th></th>\n",
       "      <th>Unnamed: 0</th>\n",
       "      <th>TType</th>\n",
       "      <th>K</th>\n",
       "      <th>C</th>\n",
       "      <th>A</th>\n",
       "      <th>S</th>\n",
       "      <th>G2</th>\n",
       "      <th>H</th>\n",
       "      <th>CNN2classes1stClass</th>\n",
       "    </tr>\n",
       "  </thead>\n",
       "  <tbody>\n",
       "    <tr>\n",
       "      <th>0</th>\n",
       "      <td>0</td>\n",
       "      <td>1.854829</td>\n",
       "      <td>6.560199</td>\n",
       "      <td>0.357051</td>\n",
       "      <td>0.932151</td>\n",
       "      <td>0.850992</td>\n",
       "      <td>1.588183</td>\n",
       "      <td>0.697214</td>\n",
       "      <td>1</td>\n",
       "    </tr>\n",
       "    <tr>\n",
       "      <th>1</th>\n",
       "      <td>1</td>\n",
       "      <td>4.815538</td>\n",
       "      <td>25.950829</td>\n",
       "      <td>0.313292</td>\n",
       "      <td>0.610999</td>\n",
       "      <td>0.723122</td>\n",
       "      <td>1.533653</td>\n",
       "      <td>0.719412</td>\n",
       "      <td>1</td>\n",
       "    </tr>\n",
       "    <tr>\n",
       "      <th>2</th>\n",
       "      <td>2</td>\n",
       "      <td>0.678056</td>\n",
       "      <td>6.867416</td>\n",
       "      <td>0.408286</td>\n",
       "      <td>0.881524</td>\n",
       "      <td>0.813231</td>\n",
       "      <td>1.743747</td>\n",
       "      <td>0.750872</td>\n",
       "      <td>1</td>\n",
       "    </tr>\n",
       "    <tr>\n",
       "      <th>3</th>\n",
       "      <td>3</td>\n",
       "      <td>-0.547708</td>\n",
       "      <td>11.877941</td>\n",
       "      <td>-9999.999999</td>\n",
       "      <td>0.838779</td>\n",
       "      <td>0.816965</td>\n",
       "      <td>1.672529</td>\n",
       "      <td>0.771995</td>\n",
       "      <td>1</td>\n",
       "    </tr>\n",
       "    <tr>\n",
       "      <th>4</th>\n",
       "      <td>4</td>\n",
       "      <td>2.028543</td>\n",
       "      <td>20.458965</td>\n",
       "      <td>0.446453</td>\n",
       "      <td>0.839216</td>\n",
       "      <td>0.801140</td>\n",
       "      <td>1.107665</td>\n",
       "      <td>0.610453</td>\n",
       "      <td>1</td>\n",
       "    </tr>\n",
       "    <tr>\n",
       "      <th>...</th>\n",
       "      <td>...</td>\n",
       "      <td>...</td>\n",
       "      <td>...</td>\n",
       "      <td>...</td>\n",
       "      <td>...</td>\n",
       "      <td>...</td>\n",
       "      <td>...</td>\n",
       "      <td>...</td>\n",
       "      <td>...</td>\n",
       "    </tr>\n",
       "    <tr>\n",
       "      <th>19995</th>\n",
       "      <td>19995</td>\n",
       "      <td>4.631655</td>\n",
       "      <td>29.018608</td>\n",
       "      <td>0.358020</td>\n",
       "      <td>0.602471</td>\n",
       "      <td>0.832848</td>\n",
       "      <td>1.611594</td>\n",
       "      <td>0.735315</td>\n",
       "      <td>1</td>\n",
       "    </tr>\n",
       "    <tr>\n",
       "      <th>19996</th>\n",
       "      <td>19996</td>\n",
       "      <td>-2.179893</td>\n",
       "      <td>15.245582</td>\n",
       "      <td>0.470026</td>\n",
       "      <td>0.842624</td>\n",
       "      <td>0.868289</td>\n",
       "      <td>1.313089</td>\n",
       "      <td>0.649996</td>\n",
       "      <td>1</td>\n",
       "    </tr>\n",
       "    <tr>\n",
       "      <th>19997</th>\n",
       "      <td>19997</td>\n",
       "      <td>1.876151</td>\n",
       "      <td>6.907812</td>\n",
       "      <td>0.323334</td>\n",
       "      <td>0.830340</td>\n",
       "      <td>0.950820</td>\n",
       "      <td>1.406042</td>\n",
       "      <td>0.671217</td>\n",
       "      <td>1</td>\n",
       "    </tr>\n",
       "    <tr>\n",
       "      <th>19998</th>\n",
       "      <td>19998</td>\n",
       "      <td>5.053256</td>\n",
       "      <td>27.981613</td>\n",
       "      <td>0.393574</td>\n",
       "      <td>0.632766</td>\n",
       "      <td>0.825990</td>\n",
       "      <td>1.659363</td>\n",
       "      <td>0.379448</td>\n",
       "      <td>1</td>\n",
       "    </tr>\n",
       "    <tr>\n",
       "      <th>19999</th>\n",
       "      <td>19999</td>\n",
       "      <td>-0.558501</td>\n",
       "      <td>6.557439</td>\n",
       "      <td>0.346322</td>\n",
       "      <td>0.878231</td>\n",
       "      <td>0.882251</td>\n",
       "      <td>1.616493</td>\n",
       "      <td>0.738060</td>\n",
       "      <td>1</td>\n",
       "    </tr>\n",
       "  </tbody>\n",
       "</table>\n",
       "<p>20000 rows × 9 columns</p>\n",
       "</div>"
      ],
      "text/plain": [
       "       Unnamed: 0     TType          K            C         A         S  \\\n",
       "0               0  1.854829   6.560199     0.357051  0.932151  0.850992   \n",
       "1               1  4.815538  25.950829     0.313292  0.610999  0.723122   \n",
       "2               2  0.678056   6.867416     0.408286  0.881524  0.813231   \n",
       "3               3 -0.547708  11.877941 -9999.999999  0.838779  0.816965   \n",
       "4               4  2.028543  20.458965     0.446453  0.839216  0.801140   \n",
       "...           ...       ...        ...          ...       ...       ...   \n",
       "19995       19995  4.631655  29.018608     0.358020  0.602471  0.832848   \n",
       "19996       19996 -2.179893  15.245582     0.470026  0.842624  0.868289   \n",
       "19997       19997  1.876151   6.907812     0.323334  0.830340  0.950820   \n",
       "19998       19998  5.053256  27.981613     0.393574  0.632766  0.825990   \n",
       "19999       19999 -0.558501   6.557439     0.346322  0.878231  0.882251   \n",
       "\n",
       "             G2         H  CNN2classes1stClass  \n",
       "0      1.588183  0.697214                    1  \n",
       "1      1.533653  0.719412                    1  \n",
       "2      1.743747  0.750872                    1  \n",
       "3      1.672529  0.771995                    1  \n",
       "4      1.107665  0.610453                    1  \n",
       "...         ...       ...                  ...  \n",
       "19995  1.611594  0.735315                    1  \n",
       "19996  1.313089  0.649996                    1  \n",
       "19997  1.406042  0.671217                    1  \n",
       "19998  1.659363  0.379448                    1  \n",
       "19999  1.616493  0.738060                    1  \n",
       "\n",
       "[20000 rows x 9 columns]"
      ]
     },
     "execution_count": 18,
     "metadata": {},
     "output_type": "execute_result"
    }
   ],
   "source": [
    "df2"
   ]
  },
  {
   "cell_type": "code",
   "execution_count": 19,
   "id": "97f9ecc6",
   "metadata": {
    "scrolled": true
   },
   "outputs": [
    {
     "data": {
      "text/plain": [
       "Unnamed: 0             0\n",
       "TType                  0\n",
       "K                      0\n",
       "C                      0\n",
       "A                      0\n",
       "S                      0\n",
       "G2                     0\n",
       "H                      0\n",
       "CNN2classes1stClass    0\n",
       "dtype: int64"
      ]
     },
     "execution_count": 19,
     "metadata": {},
     "output_type": "execute_result"
    }
   ],
   "source": [
    "df2.isna().sum()"
   ]
  },
  {
   "cell_type": "markdown",
   "id": "65f35a3f",
   "metadata": {},
   "source": [
    "0 : galaksi elips, \n",
    "1 : galaksi spiral"
   ]
  },
  {
   "cell_type": "code",
   "execution_count": 20,
   "id": "c93f2b88",
   "metadata": {},
   "outputs": [],
   "source": [
    "df2_train = df2[['C', 'A','S','G2','H', 'CNN2classes1stClass']]"
   ]
  },
  {
   "cell_type": "code",
   "execution_count": 21,
   "id": "96f52fff",
   "metadata": {
    "scrolled": false
   },
   "outputs": [
    {
     "data": {
      "text/html": [
       "<div>\n",
       "<style scoped>\n",
       "    .dataframe tbody tr th:only-of-type {\n",
       "        vertical-align: middle;\n",
       "    }\n",
       "\n",
       "    .dataframe tbody tr th {\n",
       "        vertical-align: top;\n",
       "    }\n",
       "\n",
       "    .dataframe thead th {\n",
       "        text-align: right;\n",
       "    }\n",
       "</style>\n",
       "<table border=\"1\" class=\"dataframe\">\n",
       "  <thead>\n",
       "    <tr style=\"text-align: right;\">\n",
       "      <th></th>\n",
       "      <th>C</th>\n",
       "      <th>A</th>\n",
       "      <th>S</th>\n",
       "      <th>G2</th>\n",
       "      <th>H</th>\n",
       "      <th>CNN2classes1stClass</th>\n",
       "    </tr>\n",
       "  </thead>\n",
       "  <tbody>\n",
       "    <tr>\n",
       "      <th>0</th>\n",
       "      <td>0.357051</td>\n",
       "      <td>0.932151</td>\n",
       "      <td>0.850992</td>\n",
       "      <td>1.588183</td>\n",
       "      <td>0.697214</td>\n",
       "      <td>1</td>\n",
       "    </tr>\n",
       "    <tr>\n",
       "      <th>1</th>\n",
       "      <td>0.313292</td>\n",
       "      <td>0.610999</td>\n",
       "      <td>0.723122</td>\n",
       "      <td>1.533653</td>\n",
       "      <td>0.719412</td>\n",
       "      <td>1</td>\n",
       "    </tr>\n",
       "    <tr>\n",
       "      <th>2</th>\n",
       "      <td>0.408286</td>\n",
       "      <td>0.881524</td>\n",
       "      <td>0.813231</td>\n",
       "      <td>1.743747</td>\n",
       "      <td>0.750872</td>\n",
       "      <td>1</td>\n",
       "    </tr>\n",
       "    <tr>\n",
       "      <th>3</th>\n",
       "      <td>-9999.999999</td>\n",
       "      <td>0.838779</td>\n",
       "      <td>0.816965</td>\n",
       "      <td>1.672529</td>\n",
       "      <td>0.771995</td>\n",
       "      <td>1</td>\n",
       "    </tr>\n",
       "    <tr>\n",
       "      <th>4</th>\n",
       "      <td>0.446453</td>\n",
       "      <td>0.839216</td>\n",
       "      <td>0.801140</td>\n",
       "      <td>1.107665</td>\n",
       "      <td>0.610453</td>\n",
       "      <td>1</td>\n",
       "    </tr>\n",
       "    <tr>\n",
       "      <th>...</th>\n",
       "      <td>...</td>\n",
       "      <td>...</td>\n",
       "      <td>...</td>\n",
       "      <td>...</td>\n",
       "      <td>...</td>\n",
       "      <td>...</td>\n",
       "    </tr>\n",
       "    <tr>\n",
       "      <th>19995</th>\n",
       "      <td>0.358020</td>\n",
       "      <td>0.602471</td>\n",
       "      <td>0.832848</td>\n",
       "      <td>1.611594</td>\n",
       "      <td>0.735315</td>\n",
       "      <td>1</td>\n",
       "    </tr>\n",
       "    <tr>\n",
       "      <th>19996</th>\n",
       "      <td>0.470026</td>\n",
       "      <td>0.842624</td>\n",
       "      <td>0.868289</td>\n",
       "      <td>1.313089</td>\n",
       "      <td>0.649996</td>\n",
       "      <td>1</td>\n",
       "    </tr>\n",
       "    <tr>\n",
       "      <th>19997</th>\n",
       "      <td>0.323334</td>\n",
       "      <td>0.830340</td>\n",
       "      <td>0.950820</td>\n",
       "      <td>1.406042</td>\n",
       "      <td>0.671217</td>\n",
       "      <td>1</td>\n",
       "    </tr>\n",
       "    <tr>\n",
       "      <th>19998</th>\n",
       "      <td>0.393574</td>\n",
       "      <td>0.632766</td>\n",
       "      <td>0.825990</td>\n",
       "      <td>1.659363</td>\n",
       "      <td>0.379448</td>\n",
       "      <td>1</td>\n",
       "    </tr>\n",
       "    <tr>\n",
       "      <th>19999</th>\n",
       "      <td>0.346322</td>\n",
       "      <td>0.878231</td>\n",
       "      <td>0.882251</td>\n",
       "      <td>1.616493</td>\n",
       "      <td>0.738060</td>\n",
       "      <td>1</td>\n",
       "    </tr>\n",
       "  </tbody>\n",
       "</table>\n",
       "<p>20000 rows × 6 columns</p>\n",
       "</div>"
      ],
      "text/plain": [
       "                 C         A         S        G2         H  \\\n",
       "0         0.357051  0.932151  0.850992  1.588183  0.697214   \n",
       "1         0.313292  0.610999  0.723122  1.533653  0.719412   \n",
       "2         0.408286  0.881524  0.813231  1.743747  0.750872   \n",
       "3     -9999.999999  0.838779  0.816965  1.672529  0.771995   \n",
       "4         0.446453  0.839216  0.801140  1.107665  0.610453   \n",
       "...            ...       ...       ...       ...       ...   \n",
       "19995     0.358020  0.602471  0.832848  1.611594  0.735315   \n",
       "19996     0.470026  0.842624  0.868289  1.313089  0.649996   \n",
       "19997     0.323334  0.830340  0.950820  1.406042  0.671217   \n",
       "19998     0.393574  0.632766  0.825990  1.659363  0.379448   \n",
       "19999     0.346322  0.878231  0.882251  1.616493  0.738060   \n",
       "\n",
       "       CNN2classes1stClass  \n",
       "0                        1  \n",
       "1                        1  \n",
       "2                        1  \n",
       "3                        1  \n",
       "4                        1  \n",
       "...                    ...  \n",
       "19995                    1  \n",
       "19996                    1  \n",
       "19997                    1  \n",
       "19998                    1  \n",
       "19999                    1  \n",
       "\n",
       "[20000 rows x 6 columns]"
      ]
     },
     "execution_count": 21,
     "metadata": {},
     "output_type": "execute_result"
    }
   ],
   "source": [
    "df2_train"
   ]
  },
  {
   "cell_type": "code",
   "execution_count": 22,
   "id": "3bb9cd79",
   "metadata": {},
   "outputs": [
    {
     "data": {
      "text/plain": [
       "<AxesSubplot:>"
      ]
     },
     "execution_count": 22,
     "metadata": {},
     "output_type": "execute_result"
    },
    {
     "data": {
      "image/png": "[encoded data removed]",
      "text/plain": [
       "<Figure size 432x288 with 2 Axes>"
      ]
     },
     "metadata": {
      "needs_background": "light"
     },
     "output_type": "display_data"
    }
   ],
   "source": [
    "sns.heatmap(df2_train.corr(),annot=True)"
   ]
  },
  {
   "cell_type": "code",
   "execution_count": 23,
   "id": "08f18e96",
   "metadata": {
    "scrolled": true
   },
   "outputs": [],
   "source": [
    "bar = df2_train['CNN2classes1stClass'].value_counts()"
   ]
  },
  {
   "cell_type": "code",
   "execution_count": 24,
   "id": "8610fb1a",
   "metadata": {},
   "outputs": [
    {
     "data": {
      "text/plain": [
       "<AxesSubplot:>"
      ]
     },
     "execution_count": 24,
     "metadata": {},
     "output_type": "execute_result"
    },
    {
     "data": {
      "image/png": "[encoded data removed]",
      "text/plain": [
       "<Figure size 432x288 with 1 Axes>"
      ]
     },
     "metadata": {
      "needs_background": "light"
     },
     "output_type": "display_data"
    }
   ],
   "source": [
    "bar.plot.bar()"
   ]
  },
  {
   "cell_type": "code",
   "execution_count": 25,
   "id": "930b8a88",
   "metadata": {},
   "outputs": [],
   "source": [
    "def make_meshgrid(x, y, h=.02):\n",
    "    x_min, x_max = x.min() - 1, x.max() + 1\n",
    "    y_min, y_max = y.min() - 1, y.max() + 1\n",
    "    xx, yy = np.meshgrid(np.arange(x_min, x_max, h), np.arange(y_min, y_max, h))\n",
    "    return xx, yy\n",
    "\n",
    "def plot_contours(ax, clf, xx, yy, **params):\n",
    "    Z = clf.predict(np.c_[xx.ravel(), yy.ravel()])\n",
    "    Z = Z.reshape(xx.shape)\n",
    "    out = ax.contourf(xx, yy, Z, **params)\n",
    "    return out"
   ]
  },
  {
   "cell_type": "markdown",
   "id": "19b732ee",
   "metadata": {},
   "source": [
    "# Classification SVM (SVC) :"
   ]
  },
  {
   "cell_type": "code",
   "execution_count": 26,
   "id": "39023362",
   "metadata": {},
   "outputs": [],
   "source": [
    "X = df2_train.iloc[:,[0,1,2,3,4]]\n",
    "y = df2_train.iloc[:,5]"
   ]
  },
  {
   "cell_type": "code",
   "execution_count": 27,
   "id": "9bf8bc0a",
   "metadata": {},
   "outputs": [],
   "source": [
    "from sklearn.pipeline import make_pipeline\n",
    "from sklearn.preprocessing import StandardScaler\n",
    "from sklearn.svm import SVC\n",
    "sc = StandardScaler()"
   ]
  },
  {
   "cell_type": "code",
   "execution_count": 35,
   "id": "cfe0ad80",
   "metadata": {},
   "outputs": [],
   "source": [
    "from sklearn.model_selection import train_test_split\n",
    "X_train, X_val, y_train, y_val = train_test_split(X, y, test_size= 0.25, random_state= 150)"
   ]
  },
  {
   "cell_type": "code",
   "execution_count": 36,
   "id": "8fdb7ee9",
   "metadata": {},
   "outputs": [],
   "source": [
    "model_svc = make_pipeline(StandardScaler(),SVC(kernel = 'rbf',gamma=20, C=15, random_state = 100))"
   ]
  },
  {
   "cell_type": "code",
   "execution_count": 37,
   "id": "3fa62e43",
   "metadata": {},
   "outputs": [
    {
     "data": {
      "text/plain": [
       "Pipeline(steps=[('standardscaler', StandardScaler()),\n",
       "                ('svc', SVC(C=15, gamma=20, random_state=100))])"
      ]
     },
     "execution_count": 37,
     "metadata": {},
     "output_type": "execute_result"
    }
   ],
   "source": [
    "model_svc.fit(X_train, y_train)"
   ]
  },
  {
   "cell_type": "code",
   "execution_count": 38,
   "id": "ea7b201d",
   "metadata": {},
   "outputs": [],
   "source": [
    "predict = model_svc.predict(X_val)"
   ]
  },
  {
   "cell_type": "code",
   "execution_count": 39,
   "id": "629134f0",
   "metadata": {
    "scrolled": true
   },
   "outputs": [
    {
     "name": "stdout",
     "output_type": "stream",
     "text": [
      "              precision    recall  f1-score   support\n",
      "\n",
      "           0       0.51      0.06      0.10       961\n",
      "           1       0.81      0.99      0.89      4039\n",
      "\n",
      "    accuracy                           0.81      5000\n",
      "   macro avg       0.66      0.52      0.50      5000\n",
      "weighted avg       0.76      0.81      0.74      5000\n",
      "\n"
     ]
    }
   ],
   "source": [
    "from sklearn.metrics import classification_report\n",
    "print(classification_report(y_val, predict))"
   ]
  },
  {
   "cell_type": "code",
   "execution_count": 40,
   "id": "4a578998",
   "metadata": {},
   "outputs": [
    {
     "data": {
      "text/plain": [
       "array([[  54,  907],\n",
       "       [  51, 3988]])"
      ]
     },
     "execution_count": 40,
     "metadata": {},
     "output_type": "execute_result"
    }
   ],
   "source": [
    "from sklearn.metrics import confusion_matrix\n",
    "confusion_matrix(y_val, predict)"
   ]
  },
  {
   "cell_type": "code",
   "execution_count": 41,
   "id": "a0c999e5",
   "metadata": {},
   "outputs": [
    {
     "data": {
      "text/plain": [
       "Counter({1: 4895, 0: 105})"
      ]
     },
     "execution_count": 41,
     "metadata": {},
     "output_type": "execute_result"
    }
   ],
   "source": [
    "import collections\n",
    "collections.Counter(predict)"
   ]
  },
  {
   "cell_type": "markdown",
   "id": "4a7dc58b",
   "metadata": {},
   "source": [
    "# Tujuan :\n",
    "\n",
    "- Meningkatkan precision dari 0.\n",
    "\n",
    "- Meningkatkan akurasi.\n",
    "\n",
    "- Membuat mesin semakin notice jumlah 0 yang ada di dataset.\n",
    "\n",
    "- Confusion Matrix memiliki nilai yg mirip secara diagonal."
   ]
  },
  {
   "cell_type": "markdown",
   "id": "a4a3d16c",
   "metadata": {},
   "source": [
    "# Hasil dari parameter tuning : "
   ]
  },
  {
   "cell_type": "markdown",
   "id": "a9ca6523",
   "metadata": {},
   "source": [
    "# C = 20, gamma = auto, kernel = rbf, random_state = 100\n",
    "\n",
    "Classification Report :\n",
    "\n",
    "precision    recall  f1-score   support\n",
    "\n",
    "           0       0.74      0.04      0.07       988\n",
    "           1       0.81      1.00      0.89      4012\n",
    "\n",
    "    accuracy                           0.81      5000\n",
    "   macro avg       0.78      0.52      0.48      5000\n",
    "weighted avg       0.80      0.81      0.73      5000\n",
    "\n",
    "Jumlah :\n",
    "\n",
    "1 : 4953, 0 : 47\n",
    "\n",
    "Confusion Matrix :\n",
    "\n",
    "[[  35,  953],\n",
    "\n",
    "[  12, 4000]]"
   ]
  },
  {
   "cell_type": "markdown",
   "id": "00ed63c2",
   "metadata": {},
   "source": [
    "# C = 20, gamma = 10, kernel = rbf, random_state = 100\n",
    "\n",
    "Classification Report :\n",
    " \n",
    " precision    recall  f1-score   support\n",
    "\n",
    "           0       0.57      0.23      0.33       988\n",
    "           1       0.83      0.96      0.89      4012\n",
    "\n",
    "    accuracy                           0.81      5000\n",
    "   macro avg       0.70      0.59      0.61      5000\n",
    "weighted avg       0.78      0.81      0.78      5000\n",
    "\n",
    "Jumlah :\n",
    "\n",
    "1: 4598, 0: 402\n",
    "\n",
    "\n",
    "Confusion Matrix :\n",
    "\n",
    "[ 229,  759],\n",
    "\n",
    "[ 173, 3839]]"
   ]
  },
  {
   "cell_type": "markdown",
   "id": "7892bee4",
   "metadata": {},
   "source": [
    "# C= 100.0, gamma = 5, kernel = 'linear', random_state = 100\n",
    "\n",
    "Classification Report :\n",
    "\n",
    "\n",
    "precision    recall  f1-score   support\n",
    "\n",
    "           0       0.00      0.00      0.00       988\n",
    "           1       0.80      1.00      0.89      4012\n",
    "\n",
    "    accuracy                           0.80      5000\n",
    "   macro avg       0.40      0.50      0.45      5000\n",
    "weighted avg       0.64      0.80      0.71      5000\n",
    "\n",
    "Jumlah : \n",
    "\n",
    "1 : 5000, 0: 0\n",
    "\n",
    "Confusion Matrix :\n",
    "\n",
    "[[   0,  988],\n",
    "\n",
    "[   0, 4012]])"
   ]
  },
  {
   "cell_type": "markdown",
   "id": "fd7b55b1",
   "metadata": {},
   "source": [
    "# C = 25, gamma = 15, kernel = 'rbf',random_state = 100\n",
    "\n",
    "Classification Report :\n",
    "\n",
    "      precision    recall  f1-score   support\n",
    "\n",
    "           0       0.54      0.26      0.35       988\n",
    "           1       0.84      0.94      0.89      4012\n",
    "\n",
    "    accuracy                           0.81      5000\n",
    "   macro avg       0.69      0.60      0.62      5000\n",
    "weighted avg       0.78      0.81      0.78      5000\n",
    "\n",
    "Jumlah :\n",
    "\n",
    "1: 4524, 0: 476\n",
    "\n",
    "Confusion Matrix :\n",
    "\n",
    "[[ 255,  733],\n",
    "\n",
    "[ 221, 3791]]"
   ]
  },
  {
   "cell_type": "markdown",
   "id": "2efd6dd4",
   "metadata": {},
   "source": [
    "# C = 20, gamma = 15, kernel = rbf, random_state = 100\n",
    "\n",
    "precision    recall  f1-score   support\n",
    "\n",
    "           0       0.54      0.26      0.35       988\n",
    "           1       0.84      0.95      0.89      4012\n",
    "\n",
    "    accuracy                           0.81      5000\n",
    "   macro avg       0.69      0.60      0.62      5000\n",
    "weighted avg       0.78      0.81      0.78      5000\n",
    "\n",
    "Jumlah :\n",
    "\n",
    "1: 4528, 0: 472\n",
    "\n",
    "Confusion Matrix :\n",
    "\n",
    "[[ 254,  734],\n",
    "\n",
    "[ 218, 3794]]"
   ]
  },
  {
   "cell_type": "markdown",
   "id": "b28c20b0",
   "metadata": {},
   "source": [
    "# C= 25, gamma = 20 , kernel = rbf, random_State = 150\n",
    "\n",
    "precision    recall  f1-score   support\n",
    "\n",
    "           0       0.51      0.06      0.10       961\n",
    "           1       0.81      0.99      0.89      4039\n",
    "\n",
    "    accuracy                           0.81      5000\n",
    "   macro avg       0.66      0.52      0.50      5000\n",
    "weighted avg       0.76      0.81      0.74      5000\n",
    "\n",
    "Jumlah :\n",
    "\n",
    "1: 4895, 0: 105\n",
    "\n",
    "Confusion Matrix :\n",
    "\n",
    "[  54,  907],\n",
    "\n",
    "[  51, 3988]]"
   ]
  }
 ],
 "metadata": {
  "kernelspec": {
   "display_name": "Python 3",
   "language": "python",
   "name": "python3"
  },
  "language_info": {
   "codemirror_mode": {
    "name": "ipython",
    "version": 3
   },
   "file_extension": ".py",
   "mimetype": "text/x-python",
   "name": "python",
   "nbconvert_exporter": "python",
   "pygments_lexer": "ipython3",
   "version": "3.8.8"
  }
 },
 "nbformat": 4,
 "nbformat_minor": 5
}
