{
 "cells": [
  {
   "cell_type": "code",
   "execution_count": 3,
   "id": "807f1042",
   "metadata": {},
   "outputs": [],
   "source": [
    "import pandas as pd\n",
    "import numpy as np\n",
    "import matplotlib.pyplot as plt\n",
    "%matplotlib inline\n",
    "plt.style.use('seaborn-dark')\n",
    "import seaborn as sns"
   ]
  },
  {
   "cell_type": "code",
   "execution_count": 4,
   "id": "0dd25047",
   "metadata": {
    "scrolled": false
   },
   "outputs": [
    {
     "data": {
      "text/html": [
       "<div>\n",
       "<style scoped>\n",
       "    .dataframe tbody tr th:only-of-type {\n",
       "        vertical-align: middle;\n",
       "    }\n",
       "\n",
       "    .dataframe tbody tr th {\n",
       "        vertical-align: top;\n",
       "    }\n",
       "\n",
       "    .dataframe thead th {\n",
       "        text-align: right;\n",
       "    }\n",
       "</style>\n",
       "<table border=\"1\" class=\"dataframe\">\n",
       "  <thead>\n",
       "    <tr style=\"text-align: right;\">\n",
       "      <th></th>\n",
       "      <th>Date</th>\n",
       "      <th>Location</th>\n",
       "      <th>MinTemp</th>\n",
       "      <th>MaxTemp</th>\n",
       "      <th>Rainfall</th>\n",
       "      <th>Evaporation</th>\n",
       "      <th>Sunshine</th>\n",
       "      <th>WindGustDir</th>\n",
       "      <th>WindGustSpeed</th>\n",
       "      <th>WindDir9am</th>\n",
       "      <th>...</th>\n",
       "      <th>Humidity9am</th>\n",
       "      <th>Humidity3pm</th>\n",
       "      <th>Pressure9am</th>\n",
       "      <th>Pressure3pm</th>\n",
       "      <th>Cloud9am</th>\n",
       "      <th>Cloud3pm</th>\n",
       "      <th>Temp9am</th>\n",
       "      <th>Temp3pm</th>\n",
       "      <th>RainToday</th>\n",
       "      <th>RainTomorrow</th>\n",
       "    </tr>\n",
       "  </thead>\n",
       "  <tbody>\n",
       "    <tr>\n",
       "      <th>0</th>\n",
       "      <td>2008-12-01</td>\n",
       "      <td>Albury</td>\n",
       "      <td>13.4</td>\n",
       "      <td>22.9</td>\n",
       "      <td>0.6</td>\n",
       "      <td>NaN</td>\n",
       "      <td>NaN</td>\n",
       "      <td>W</td>\n",
       "      <td>44.0</td>\n",
       "      <td>W</td>\n",
       "      <td>...</td>\n",
       "      <td>71.0</td>\n",
       "      <td>22.0</td>\n",
       "      <td>1007.7</td>\n",
       "      <td>1007.1</td>\n",
       "      <td>8.0</td>\n",
       "      <td>NaN</td>\n",
       "      <td>16.9</td>\n",
       "      <td>21.8</td>\n",
       "      <td>No</td>\n",
       "      <td>No</td>\n",
       "    </tr>\n",
       "    <tr>\n",
       "      <th>1</th>\n",
       "      <td>2008-12-02</td>\n",
       "      <td>Albury</td>\n",
       "      <td>7.4</td>\n",
       "      <td>25.1</td>\n",
       "      <td>0.0</td>\n",
       "      <td>NaN</td>\n",
       "      <td>NaN</td>\n",
       "      <td>WNW</td>\n",
       "      <td>44.0</td>\n",
       "      <td>NNW</td>\n",
       "      <td>...</td>\n",
       "      <td>44.0</td>\n",
       "      <td>25.0</td>\n",
       "      <td>1010.6</td>\n",
       "      <td>1007.8</td>\n",
       "      <td>NaN</td>\n",
       "      <td>NaN</td>\n",
       "      <td>17.2</td>\n",
       "      <td>24.3</td>\n",
       "      <td>No</td>\n",
       "      <td>No</td>\n",
       "    </tr>\n",
       "    <tr>\n",
       "      <th>2</th>\n",
       "      <td>2008-12-03</td>\n",
       "      <td>Albury</td>\n",
       "      <td>12.9</td>\n",
       "      <td>25.7</td>\n",
       "      <td>0.0</td>\n",
       "      <td>NaN</td>\n",
       "      <td>NaN</td>\n",
       "      <td>WSW</td>\n",
       "      <td>46.0</td>\n",
       "      <td>W</td>\n",
       "      <td>...</td>\n",
       "      <td>38.0</td>\n",
       "      <td>30.0</td>\n",
       "      <td>1007.6</td>\n",
       "      <td>1008.7</td>\n",
       "      <td>NaN</td>\n",
       "      <td>2.0</td>\n",
       "      <td>21.0</td>\n",
       "      <td>23.2</td>\n",
       "      <td>No</td>\n",
       "      <td>No</td>\n",
       "    </tr>\n",
       "    <tr>\n",
       "      <th>3</th>\n",
       "      <td>2008-12-04</td>\n",
       "      <td>Albury</td>\n",
       "      <td>9.2</td>\n",
       "      <td>28.0</td>\n",
       "      <td>0.0</td>\n",
       "      <td>NaN</td>\n",
       "      <td>NaN</td>\n",
       "      <td>NE</td>\n",
       "      <td>24.0</td>\n",
       "      <td>SE</td>\n",
       "      <td>...</td>\n",
       "      <td>45.0</td>\n",
       "      <td>16.0</td>\n",
       "      <td>1017.6</td>\n",
       "      <td>1012.8</td>\n",
       "      <td>NaN</td>\n",
       "      <td>NaN</td>\n",
       "      <td>18.1</td>\n",
       "      <td>26.5</td>\n",
       "      <td>No</td>\n",
       "      <td>No</td>\n",
       "    </tr>\n",
       "    <tr>\n",
       "      <th>4</th>\n",
       "      <td>2008-12-05</td>\n",
       "      <td>Albury</td>\n",
       "      <td>17.5</td>\n",
       "      <td>32.3</td>\n",
       "      <td>1.0</td>\n",
       "      <td>NaN</td>\n",
       "      <td>NaN</td>\n",
       "      <td>W</td>\n",
       "      <td>41.0</td>\n",
       "      <td>ENE</td>\n",
       "      <td>...</td>\n",
       "      <td>82.0</td>\n",
       "      <td>33.0</td>\n",
       "      <td>1010.8</td>\n",
       "      <td>1006.0</td>\n",
       "      <td>7.0</td>\n",
       "      <td>8.0</td>\n",
       "      <td>17.8</td>\n",
       "      <td>29.7</td>\n",
       "      <td>No</td>\n",
       "      <td>No</td>\n",
       "    </tr>\n",
       "  </tbody>\n",
       "</table>\n",
       "<p>5 rows × 23 columns</p>\n",
       "</div>"
      ],
      "text/plain": [
       "         Date Location  MinTemp  MaxTemp  Rainfall  Evaporation  Sunshine  \\\n",
       "0  2008-12-01   Albury     13.4     22.9       0.6          NaN       NaN   \n",
       "1  2008-12-02   Albury      7.4     25.1       0.0          NaN       NaN   \n",
       "2  2008-12-03   Albury     12.9     25.7       0.0          NaN       NaN   \n",
       "3  2008-12-04   Albury      9.2     28.0       0.0          NaN       NaN   \n",
       "4  2008-12-05   Albury     17.5     32.3       1.0          NaN       NaN   \n",
       "\n",
       "  WindGustDir  WindGustSpeed WindDir9am  ... Humidity9am  Humidity3pm  \\\n",
       "0           W           44.0          W  ...        71.0         22.0   \n",
       "1         WNW           44.0        NNW  ...        44.0         25.0   \n",
       "2         WSW           46.0          W  ...        38.0         30.0   \n",
       "3          NE           24.0         SE  ...        45.0         16.0   \n",
       "4           W           41.0        ENE  ...        82.0         33.0   \n",
       "\n",
       "   Pressure9am  Pressure3pm  Cloud9am  Cloud3pm  Temp9am  Temp3pm  RainToday  \\\n",
       "0       1007.7       1007.1       8.0       NaN     16.9     21.8         No   \n",
       "1       1010.6       1007.8       NaN       NaN     17.2     24.3         No   \n",
       "2       1007.6       1008.7       NaN       2.0     21.0     23.2         No   \n",
       "3       1017.6       1012.8       NaN       NaN     18.1     26.5         No   \n",
       "4       1010.8       1006.0       7.0       8.0     17.8     29.7         No   \n",
       "\n",
       "   RainTomorrow  \n",
       "0            No  \n",
       "1            No  \n",
       "2            No  \n",
       "3            No  \n",
       "4            No  \n",
       "\n",
       "[5 rows x 23 columns]"
      ]
     },
     "execution_count": 4,
     "metadata": {},
     "output_type": "execute_result"
    }
   ],
   "source": [
    "df = pd.read_csv('weatherAUS.csv')\n",
    "df.head()"
   ]
  },
  {
   "cell_type": "code",
   "execution_count": 5,
   "id": "9efd5549",
   "metadata": {},
   "outputs": [
    {
     "data": {
      "text/plain": [
       "(145460, 23)"
      ]
     },
     "execution_count": 5,
     "metadata": {},
     "output_type": "execute_result"
    }
   ],
   "source": [
    "df.shape"
   ]
  },
  {
   "cell_type": "code",
   "execution_count": 6,
   "id": "d174d9db",
   "metadata": {
    "scrolled": false
   },
   "outputs": [
    {
     "data": {
      "text/plain": [
       "Date                 0\n",
       "Location             0\n",
       "MinTemp           1485\n",
       "MaxTemp           1261\n",
       "Rainfall          3261\n",
       "Evaporation      62790\n",
       "Sunshine         69835\n",
       "WindGustDir      10326\n",
       "WindGustSpeed    10263\n",
       "WindDir9am       10566\n",
       "WindDir3pm        4228\n",
       "WindSpeed9am      1767\n",
       "WindSpeed3pm      3062\n",
       "Humidity9am       2654\n",
       "Humidity3pm       4507\n",
       "Pressure9am      15065\n",
       "Pressure3pm      15028\n",
       "Cloud9am         55888\n",
       "Cloud3pm         59358\n",
       "Temp9am           1767\n",
       "Temp3pm           3609\n",
       "RainToday         3261\n",
       "RainTomorrow      3267\n",
       "dtype: int64"
      ]
     },
     "execution_count": 6,
     "metadata": {},
     "output_type": "execute_result"
    }
   ],
   "source": [
    "df.isna().sum()"
   ]
  },
  {
   "cell_type": "code",
   "execution_count": 7,
   "id": "bde84107",
   "metadata": {},
   "outputs": [],
   "source": [
    "df.dropna(inplace=True)"
   ]
  },
  {
   "cell_type": "code",
   "execution_count": 8,
   "id": "33028f22",
   "metadata": {},
   "outputs": [],
   "source": [
    "df['Date'] = pd.to_datetime(df['Date'])"
   ]
  },
  {
   "cell_type": "code",
   "execution_count": 9,
   "id": "3e6202c6",
   "metadata": {
    "scrolled": false
   },
   "outputs": [
    {
     "data": {
      "text/html": [
       "<div>\n",
       "<style scoped>\n",
       "    .dataframe tbody tr th:only-of-type {\n",
       "        vertical-align: middle;\n",
       "    }\n",
       "\n",
       "    .dataframe tbody tr th {\n",
       "        vertical-align: top;\n",
       "    }\n",
       "\n",
       "    .dataframe thead th {\n",
       "        text-align: right;\n",
       "    }\n",
       "</style>\n",
       "<table border=\"1\" class=\"dataframe\">\n",
       "  <thead>\n",
       "    <tr style=\"text-align: right;\">\n",
       "      <th></th>\n",
       "      <th>count</th>\n",
       "      <th>mean</th>\n",
       "      <th>std</th>\n",
       "      <th>min</th>\n",
       "      <th>25%</th>\n",
       "      <th>50%</th>\n",
       "      <th>75%</th>\n",
       "      <th>max</th>\n",
       "    </tr>\n",
       "  </thead>\n",
       "  <tbody>\n",
       "    <tr>\n",
       "      <th>MinTemp</th>\n",
       "      <td>56420.0</td>\n",
       "      <td>13.464770</td>\n",
       "      <td>6.416689</td>\n",
       "      <td>-6.7</td>\n",
       "      <td>8.6</td>\n",
       "      <td>13.2</td>\n",
       "      <td>18.4</td>\n",
       "      <td>31.4</td>\n",
       "    </tr>\n",
       "    <tr>\n",
       "      <th>MaxTemp</th>\n",
       "      <td>56420.0</td>\n",
       "      <td>24.219206</td>\n",
       "      <td>6.970676</td>\n",
       "      <td>4.1</td>\n",
       "      <td>18.7</td>\n",
       "      <td>23.9</td>\n",
       "      <td>29.7</td>\n",
       "      <td>48.1</td>\n",
       "    </tr>\n",
       "    <tr>\n",
       "      <th>Rainfall</th>\n",
       "      <td>56420.0</td>\n",
       "      <td>2.130397</td>\n",
       "      <td>7.014822</td>\n",
       "      <td>0.0</td>\n",
       "      <td>0.0</td>\n",
       "      <td>0.0</td>\n",
       "      <td>0.6</td>\n",
       "      <td>206.2</td>\n",
       "    </tr>\n",
       "    <tr>\n",
       "      <th>Evaporation</th>\n",
       "      <td>56420.0</td>\n",
       "      <td>5.503135</td>\n",
       "      <td>3.696282</td>\n",
       "      <td>0.0</td>\n",
       "      <td>2.8</td>\n",
       "      <td>5.0</td>\n",
       "      <td>7.4</td>\n",
       "      <td>81.2</td>\n",
       "    </tr>\n",
       "    <tr>\n",
       "      <th>Sunshine</th>\n",
       "      <td>56420.0</td>\n",
       "      <td>7.735626</td>\n",
       "      <td>3.758153</td>\n",
       "      <td>0.0</td>\n",
       "      <td>5.0</td>\n",
       "      <td>8.6</td>\n",
       "      <td>10.7</td>\n",
       "      <td>14.5</td>\n",
       "    </tr>\n",
       "    <tr>\n",
       "      <th>WindGustSpeed</th>\n",
       "      <td>56420.0</td>\n",
       "      <td>40.877366</td>\n",
       "      <td>13.335232</td>\n",
       "      <td>9.0</td>\n",
       "      <td>31.0</td>\n",
       "      <td>39.0</td>\n",
       "      <td>48.0</td>\n",
       "      <td>124.0</td>\n",
       "    </tr>\n",
       "    <tr>\n",
       "      <th>WindSpeed9am</th>\n",
       "      <td>56420.0</td>\n",
       "      <td>15.667228</td>\n",
       "      <td>8.317005</td>\n",
       "      <td>2.0</td>\n",
       "      <td>9.0</td>\n",
       "      <td>15.0</td>\n",
       "      <td>20.0</td>\n",
       "      <td>67.0</td>\n",
       "    </tr>\n",
       "    <tr>\n",
       "      <th>WindSpeed3pm</th>\n",
       "      <td>56420.0</td>\n",
       "      <td>19.786778</td>\n",
       "      <td>8.510180</td>\n",
       "      <td>2.0</td>\n",
       "      <td>13.0</td>\n",
       "      <td>19.0</td>\n",
       "      <td>26.0</td>\n",
       "      <td>76.0</td>\n",
       "    </tr>\n",
       "    <tr>\n",
       "      <th>Humidity9am</th>\n",
       "      <td>56420.0</td>\n",
       "      <td>65.874123</td>\n",
       "      <td>18.513289</td>\n",
       "      <td>0.0</td>\n",
       "      <td>55.0</td>\n",
       "      <td>67.0</td>\n",
       "      <td>79.0</td>\n",
       "      <td>100.0</td>\n",
       "    </tr>\n",
       "    <tr>\n",
       "      <th>Humidity3pm</th>\n",
       "      <td>56420.0</td>\n",
       "      <td>49.601985</td>\n",
       "      <td>20.197040</td>\n",
       "      <td>0.0</td>\n",
       "      <td>35.0</td>\n",
       "      <td>50.0</td>\n",
       "      <td>63.0</td>\n",
       "      <td>100.0</td>\n",
       "    </tr>\n",
       "    <tr>\n",
       "      <th>Pressure9am</th>\n",
       "      <td>56420.0</td>\n",
       "      <td>1017.239505</td>\n",
       "      <td>6.909357</td>\n",
       "      <td>980.5</td>\n",
       "      <td>1012.7</td>\n",
       "      <td>1017.2</td>\n",
       "      <td>1021.8</td>\n",
       "      <td>1040.4</td>\n",
       "    </tr>\n",
       "    <tr>\n",
       "      <th>Pressure3pm</th>\n",
       "      <td>56420.0</td>\n",
       "      <td>1014.795580</td>\n",
       "      <td>6.870892</td>\n",
       "      <td>977.1</td>\n",
       "      <td>1010.1</td>\n",
       "      <td>1014.7</td>\n",
       "      <td>1019.4</td>\n",
       "      <td>1038.9</td>\n",
       "    </tr>\n",
       "    <tr>\n",
       "      <th>Cloud9am</th>\n",
       "      <td>56420.0</td>\n",
       "      <td>4.241705</td>\n",
       "      <td>2.797162</td>\n",
       "      <td>0.0</td>\n",
       "      <td>1.0</td>\n",
       "      <td>5.0</td>\n",
       "      <td>7.0</td>\n",
       "      <td>8.0</td>\n",
       "    </tr>\n",
       "    <tr>\n",
       "      <th>Cloud3pm</th>\n",
       "      <td>56420.0</td>\n",
       "      <td>4.326515</td>\n",
       "      <td>2.647251</td>\n",
       "      <td>0.0</td>\n",
       "      <td>2.0</td>\n",
       "      <td>5.0</td>\n",
       "      <td>7.0</td>\n",
       "      <td>9.0</td>\n",
       "    </tr>\n",
       "    <tr>\n",
       "      <th>Temp9am</th>\n",
       "      <td>56420.0</td>\n",
       "      <td>18.204961</td>\n",
       "      <td>6.567991</td>\n",
       "      <td>-0.7</td>\n",
       "      <td>13.1</td>\n",
       "      <td>17.8</td>\n",
       "      <td>23.3</td>\n",
       "      <td>39.4</td>\n",
       "    </tr>\n",
       "    <tr>\n",
       "      <th>Temp3pm</th>\n",
       "      <td>56420.0</td>\n",
       "      <td>22.710333</td>\n",
       "      <td>6.836543</td>\n",
       "      <td>3.7</td>\n",
       "      <td>17.4</td>\n",
       "      <td>22.4</td>\n",
       "      <td>27.9</td>\n",
       "      <td>46.1</td>\n",
       "    </tr>\n",
       "  </tbody>\n",
       "</table>\n",
       "</div>"
      ],
      "text/plain": [
       "                 count         mean        std    min     25%     50%     75%  \\\n",
       "MinTemp        56420.0    13.464770   6.416689   -6.7     8.6    13.2    18.4   \n",
       "MaxTemp        56420.0    24.219206   6.970676    4.1    18.7    23.9    29.7   \n",
       "Rainfall       56420.0     2.130397   7.014822    0.0     0.0     0.0     0.6   \n",
       "Evaporation    56420.0     5.503135   3.696282    0.0     2.8     5.0     7.4   \n",
       "Sunshine       56420.0     7.735626   3.758153    0.0     5.0     8.6    10.7   \n",
       "WindGustSpeed  56420.0    40.877366  13.335232    9.0    31.0    39.0    48.0   \n",
       "WindSpeed9am   56420.0    15.667228   8.317005    2.0     9.0    15.0    20.0   \n",
       "WindSpeed3pm   56420.0    19.786778   8.510180    2.0    13.0    19.0    26.0   \n",
       "Humidity9am    56420.0    65.874123  18.513289    0.0    55.0    67.0    79.0   \n",
       "Humidity3pm    56420.0    49.601985  20.197040    0.0    35.0    50.0    63.0   \n",
       "Pressure9am    56420.0  1017.239505   6.909357  980.5  1012.7  1017.2  1021.8   \n",
       "Pressure3pm    56420.0  1014.795580   6.870892  977.1  1010.1  1014.7  1019.4   \n",
       "Cloud9am       56420.0     4.241705   2.797162    0.0     1.0     5.0     7.0   \n",
       "Cloud3pm       56420.0     4.326515   2.647251    0.0     2.0     5.0     7.0   \n",
       "Temp9am        56420.0    18.204961   6.567991   -0.7    13.1    17.8    23.3   \n",
       "Temp3pm        56420.0    22.710333   6.836543    3.7    17.4    22.4    27.9   \n",
       "\n",
       "                  max  \n",
       "MinTemp          31.4  \n",
       "MaxTemp          48.1  \n",
       "Rainfall        206.2  \n",
       "Evaporation      81.2  \n",
       "Sunshine         14.5  \n",
       "WindGustSpeed   124.0  \n",
       "WindSpeed9am     67.0  \n",
       "WindSpeed3pm     76.0  \n",
       "Humidity9am     100.0  \n",
       "Humidity3pm     100.0  \n",
       "Pressure9am    1040.4  \n",
       "Pressure3pm    1038.9  \n",
       "Cloud9am          8.0  \n",
       "Cloud3pm          9.0  \n",
       "Temp9am          39.4  \n",
       "Temp3pm          46.1  "
      ]
     },
     "execution_count": 9,
     "metadata": {},
     "output_type": "execute_result"
    }
   ],
   "source": [
    "df.describe().transpose()"
   ]
  },
  {
   "cell_type": "markdown",
   "id": "c5d34efc",
   "metadata": {},
   "source": [
    "Predicting where the wind will go"
   ]
  },
  {
   "cell_type": "code",
   "execution_count": 10,
   "id": "f80be55b",
   "metadata": {
    "scrolled": false
   },
   "outputs": [
    {
     "data": {
      "text/plain": [
       "<AxesSubplot:>"
      ]
     },
     "execution_count": 10,
     "metadata": {},
     "output_type": "execute_result"
    },
    {
     "data": {
      "image/png": "[encoded data removed]",
      "text/plain": [
       "<Figure size 936x576 with 2 Axes>"
      ]
     },
     "metadata": {},
     "output_type": "display_data"
    }
   ],
   "source": [
    "plt.figure(figsize=(13,8))\n",
    "sns.heatmap(df.corr(), annot=True, fmt='.2f') #Correlation matrix, 2 decimal places"
   ]
  },
  {
   "cell_type": "code",
   "execution_count": 11,
   "id": "8e07bb8c",
   "metadata": {},
   "outputs": [],
   "source": [
    "df['RainTomorrow'] = df['RainTomorrow'].map({'Yes': 1, 'No': 0})"
   ]
  },
  {
   "cell_type": "code",
   "execution_count": 12,
   "id": "2ed450bd",
   "metadata": {},
   "outputs": [
    {
     "name": "stdout",
     "output_type": "stream",
     "text": [
      " Tomorrow Rain : \n",
      "0    43993\n",
      "1    12427\n",
      "Name: RainTomorrow, dtype: int64\n",
      " Today Rain :\n",
      "No     43958\n",
      "Yes    12462\n",
      "Name: RainToday, dtype: int64\n"
     ]
    }
   ],
   "source": [
    "print(f\" Tomorrow Rain : \\n{df['RainTomorrow'].value_counts()}\")\n",
    "print(f\" Today Rain :\\n{df['RainToday'].value_counts()}\")"
   ]
  },
  {
   "cell_type": "code",
   "execution_count": 13,
   "id": "13ec9b4e",
   "metadata": {
    "scrolled": true
   },
   "outputs": [
    {
     "data": {
      "text/plain": [
       "Text(0, 0.5, 'Rainfall')"
      ]
     },
     "execution_count": 13,
     "metadata": {},
     "output_type": "execute_result"
    },
    {
     "data": {
      "image/png": "[encoded data removed]",
      "text/plain": [
       "<Figure size 504x288 with 1 Axes>"
      ]
     },
     "metadata": {},
     "output_type": "display_data"
    }
   ],
   "source": [
    "plt.figure(figsize = (7,4))\n",
    "plt.plot(df['Date'], df['Rainfall'], color='blue')\n",
    "plt.xlabel('Year')\n",
    "plt.ylabel('Rainfall')"
   ]
  },
  {
   "cell_type": "markdown",
   "id": "7c83fd6d",
   "metadata": {},
   "source": [
    "Plotting bar chart to the 2 things :\n",
    "- data = df, RainToday"
   ]
  },
  {
   "cell_type": "code",
   "execution_count": 14,
   "id": "e4e996ce",
   "metadata": {},
   "outputs": [],
   "source": [
    "raintoday = df['RainToday'].value_counts()\n",
    "raintomorrow = df['RainTomorrow'].value_counts()"
   ]
  },
  {
   "cell_type": "code",
   "execution_count": 15,
   "id": "239c647d",
   "metadata": {
    "scrolled": false
   },
   "outputs": [
    {
     "name": "stderr",
     "output_type": "stream",
     "text": [
      "/Users/dimas/opt/anaconda3/lib/python3.8/site-packages/seaborn/_decorators.py:36: FutureWarning: Pass the following variable as a keyword arg: x. From version 0.12, the only valid positional argument will be `data`, and passing other arguments without an explicit keyword will result in an error or misinterpretation.\n",
      "  warnings.warn(\n",
      "/Users/dimas/opt/anaconda3/lib/python3.8/site-packages/seaborn/_decorators.py:36: FutureWarning: Pass the following variable as a keyword arg: x. From version 0.12, the only valid positional argument will be `data`, and passing other arguments without an explicit keyword will result in an error or misinterpretation.\n",
      "  warnings.warn(\n"
     ]
    },
    {
     "data": {
      "text/plain": [
       "<Figure size 432x288 with 0 Axes>"
      ]
     },
     "metadata": {},
     "output_type": "display_data"
    },
    {
     "data": {
      "image/png": "[encoded data removed]",
      "text/plain": [
       "<Figure size 432x288 with 2 Axes>"
      ]
     },
     "metadata": {},
     "output_type": "display_data"
    }
   ],
   "source": [
    "plt.figure(figsize=(6,4))\n",
    "fig, ax = plt.subplots(1,2)\n",
    "sns.countplot(df['RainToday'], ax=ax[0], palette='Purples')\n",
    "sns.countplot(df['RainTomorrow'], ax=ax[1], palette='Purples')\n",
    "plt.title('Yes = 1, No = 0')\n",
    "\n",
    "plt.show()"
   ]
  },
  {
   "cell_type": "code",
   "execution_count": 16,
   "id": "653f6ed1",
   "metadata": {
    "scrolled": false
   },
   "outputs": [
    {
     "data": {
      "image/png": "[encoded data removed]",
      "text/plain": [
       "<Figure size 432x288 with 1 Axes>"
      ]
     },
     "metadata": {},
     "output_type": "display_data"
    }
   ],
   "source": [
    "plt.boxplot(df['Rainfall'])\n",
    "plt.show()"
   ]
  },
  {
   "cell_type": "markdown",
   "id": "a849073a",
   "metadata": {},
   "source": [
    "# Data untuk modelling :"
   ]
  },
  {
   "cell_type": "markdown",
   "id": "f35dd4e9",
   "metadata": {},
   "source": [
    "# Menghapus outlier untuk data prediksi hujan :"
   ]
  },
  {
   "cell_type": "code",
   "execution_count": 17,
   "id": "9db75064",
   "metadata": {},
   "outputs": [],
   "source": [
    "df_rain = df[['Rainfall','Evaporation', 'Sunshine', 'RainTomorrow']]\n",
    "df_rain = df_rain[df_rain['Rainfall']< 50]"
   ]
  },
  {
   "cell_type": "code",
   "execution_count": 18,
   "id": "2d671362",
   "metadata": {
    "scrolled": true
   },
   "outputs": [
    {
     "data": {
      "image/png": "[encoded data removed]",
      "text/plain": [
       "<Figure size 432x288 with 1 Axes>"
      ]
     },
     "metadata": {},
     "output_type": "display_data"
    }
   ],
   "source": [
    "plt.boxplot(df_rain['Rainfall'])\n",
    "plt.show()"
   ]
  },
  {
   "cell_type": "code",
   "execution_count": 19,
   "id": "2c39665b",
   "metadata": {},
   "outputs": [
    {
     "data": {
      "text/plain": [
       "0.0     36709\n",
       "0.2      3009\n",
       "0.4      1593\n",
       "0.6      1087\n",
       "0.8       834\n",
       "        ...  \n",
       "1.7         1\n",
       "4.5         1\n",
       "47.0        1\n",
       "11.7        1\n",
       "0.5         1\n",
       "Name: Rainfall, Length: 271, dtype: int64"
      ]
     },
     "execution_count": 19,
     "metadata": {},
     "output_type": "execute_result"
    }
   ],
   "source": [
    "df_rain['Rainfall'].value_counts()"
   ]
  },
  {
   "cell_type": "markdown",
   "id": "235f4d1b",
   "metadata": {},
   "source": [
    "# Model :"
   ]
  },
  {
   "cell_type": "code",
   "execution_count": 21,
   "id": "f1d0db23",
   "metadata": {},
   "outputs": [
    {
     "data": {
      "text/html": [
       "<div>\n",
       "<style scoped>\n",
       "    .dataframe tbody tr th:only-of-type {\n",
       "        vertical-align: middle;\n",
       "    }\n",
       "\n",
       "    .dataframe tbody tr th {\n",
       "        vertical-align: top;\n",
       "    }\n",
       "\n",
       "    .dataframe thead th {\n",
       "        text-align: right;\n",
       "    }\n",
       "</style>\n",
       "<table border=\"1\" class=\"dataframe\">\n",
       "  <thead>\n",
       "    <tr style=\"text-align: right;\">\n",
       "      <th></th>\n",
       "      <th>Rainfall</th>\n",
       "      <th>Evaporation</th>\n",
       "      <th>Sunshine</th>\n",
       "      <th>RainTomorrow</th>\n",
       "    </tr>\n",
       "  </thead>\n",
       "  <tbody>\n",
       "    <tr>\n",
       "      <th>6049</th>\n",
       "      <td>0.0</td>\n",
       "      <td>12.0</td>\n",
       "      <td>12.3</td>\n",
       "      <td>0</td>\n",
       "    </tr>\n",
       "    <tr>\n",
       "      <th>6050</th>\n",
       "      <td>0.0</td>\n",
       "      <td>14.8</td>\n",
       "      <td>13.0</td>\n",
       "      <td>0</td>\n",
       "    </tr>\n",
       "    <tr>\n",
       "      <th>6052</th>\n",
       "      <td>0.0</td>\n",
       "      <td>10.8</td>\n",
       "      <td>10.6</td>\n",
       "      <td>0</td>\n",
       "    </tr>\n",
       "    <tr>\n",
       "      <th>6053</th>\n",
       "      <td>0.0</td>\n",
       "      <td>11.4</td>\n",
       "      <td>12.2</td>\n",
       "      <td>0</td>\n",
       "    </tr>\n",
       "    <tr>\n",
       "      <th>6054</th>\n",
       "      <td>0.0</td>\n",
       "      <td>11.2</td>\n",
       "      <td>8.4</td>\n",
       "      <td>0</td>\n",
       "    </tr>\n",
       "    <tr>\n",
       "      <th>...</th>\n",
       "      <td>...</td>\n",
       "      <td>...</td>\n",
       "      <td>...</td>\n",
       "      <td>...</td>\n",
       "    </tr>\n",
       "    <tr>\n",
       "      <th>142298</th>\n",
       "      <td>0.0</td>\n",
       "      <td>6.0</td>\n",
       "      <td>11.0</td>\n",
       "      <td>0</td>\n",
       "    </tr>\n",
       "    <tr>\n",
       "      <th>142299</th>\n",
       "      <td>0.0</td>\n",
       "      <td>7.6</td>\n",
       "      <td>8.6</td>\n",
       "      <td>0</td>\n",
       "    </tr>\n",
       "    <tr>\n",
       "      <th>142300</th>\n",
       "      <td>0.0</td>\n",
       "      <td>5.6</td>\n",
       "      <td>11.0</td>\n",
       "      <td>0</td>\n",
       "    </tr>\n",
       "    <tr>\n",
       "      <th>142301</th>\n",
       "      <td>0.0</td>\n",
       "      <td>6.2</td>\n",
       "      <td>10.6</td>\n",
       "      <td>0</td>\n",
       "    </tr>\n",
       "    <tr>\n",
       "      <th>142302</th>\n",
       "      <td>0.0</td>\n",
       "      <td>5.6</td>\n",
       "      <td>10.7</td>\n",
       "      <td>0</td>\n",
       "    </tr>\n",
       "  </tbody>\n",
       "</table>\n",
       "<p>56198 rows × 4 columns</p>\n",
       "</div>"
      ],
      "text/plain": [
       "        Rainfall  Evaporation  Sunshine  RainTomorrow\n",
       "6049         0.0         12.0      12.3             0\n",
       "6050         0.0         14.8      13.0             0\n",
       "6052         0.0         10.8      10.6             0\n",
       "6053         0.0         11.4      12.2             0\n",
       "6054         0.0         11.2       8.4             0\n",
       "...          ...          ...       ...           ...\n",
       "142298       0.0          6.0      11.0             0\n",
       "142299       0.0          7.6       8.6             0\n",
       "142300       0.0          5.6      11.0             0\n",
       "142301       0.0          6.2      10.6             0\n",
       "142302       0.0          5.6      10.7             0\n",
       "\n",
       "[56198 rows x 4 columns]"
      ]
     },
     "execution_count": 21,
     "metadata": {},
     "output_type": "execute_result"
    }
   ],
   "source": [
    "df_rain"
   ]
  },
  {
   "cell_type": "code",
   "execution_count": 22,
   "id": "2a5f47d1",
   "metadata": {
    "scrolled": true
   },
   "outputs": [
    {
     "data": {
      "text/plain": [
       "Rainfall        0\n",
       "Evaporation     0\n",
       "Sunshine        0\n",
       "RainTomorrow    0\n",
       "dtype: int64"
      ]
     },
     "execution_count": 22,
     "metadata": {},
     "output_type": "execute_result"
    }
   ],
   "source": [
    "df_rain.isnull().sum()"
   ]
  },
  {
   "cell_type": "code",
   "execution_count": 23,
   "id": "9d5fefee",
   "metadata": {
    "scrolled": true
   },
   "outputs": [
    {
     "data": {
      "text/plain": [
       "Rainfall        float64\n",
       "Evaporation     float64\n",
       "Sunshine        float64\n",
       "RainTomorrow      int64\n",
       "dtype: object"
      ]
     },
     "execution_count": 23,
     "metadata": {},
     "output_type": "execute_result"
    }
   ],
   "source": [
    "df_rain.dtypes"
   ]
  },
  {
   "cell_type": "code",
   "execution_count": 24,
   "id": "8e7b13be",
   "metadata": {},
   "outputs": [],
   "source": [
    "X = df_rain.iloc[:, [0,1]].values"
   ]
  },
  {
   "cell_type": "code",
   "execution_count": 25,
   "id": "df60542a",
   "metadata": {},
   "outputs": [],
   "source": [
    "y = df_rain.iloc[:, 3].values"
   ]
  },
  {
   "cell_type": "code",
   "execution_count": 26,
   "id": "d8f46ed2",
   "metadata": {
    "scrolled": true
   },
   "outputs": [
    {
     "data": {
      "text/plain": [
       "<AxesSubplot:>"
      ]
     },
     "execution_count": 26,
     "metadata": {},
     "output_type": "execute_result"
    },
    {
     "data": {
      "image/png": "[encoded data removed]",
      "text/plain": [
       "<Figure size 432x288 with 2 Axes>"
      ]
     },
     "metadata": {},
     "output_type": "display_data"
    }
   ],
   "source": [
    "sns.heatmap(df_rain.corr(), annot=True)"
   ]
  },
  {
   "cell_type": "markdown",
   "id": "e82c9267",
   "metadata": {},
   "source": [
    "# Split Data :"
   ]
  },
  {
   "cell_type": "code",
   "execution_count": 27,
   "id": "2aaf5ff2",
   "metadata": {},
   "outputs": [],
   "source": [
    "from sklearn.model_selection import train_test_split"
   ]
  },
  {
   "cell_type": "code",
   "execution_count": 28,
   "id": "a8d8317c",
   "metadata": {},
   "outputs": [],
   "source": [
    "X_train, X_test, y_train, y_test = train_test_split(X, y, test_size=0.1, random_state=69, stratify=y)"
   ]
  },
  {
   "cell_type": "code",
   "execution_count": 29,
   "id": "2b478602",
   "metadata": {},
   "outputs": [],
   "source": [
    "X_train, X_val, y_train, y_val = train_test_split(X_train, y_train, test_size=2/9, random_state=69, stratify=y_train)"
   ]
  },
  {
   "cell_type": "code",
   "execution_count": 30,
   "id": "f7db0c9c",
   "metadata": {},
   "outputs": [
    {
     "data": {
      "text/plain": [
       "(39338, 2)"
      ]
     },
     "execution_count": 30,
     "metadata": {},
     "output_type": "execute_result"
    }
   ],
   "source": [
    "X_train.shape"
   ]
  },
  {
   "cell_type": "code",
   "execution_count": 31,
   "id": "bc06855d",
   "metadata": {},
   "outputs": [
    {
     "data": {
      "text/plain": [
       "(11240, 2)"
      ]
     },
     "execution_count": 31,
     "metadata": {},
     "output_type": "execute_result"
    }
   ],
   "source": [
    "X_val.shape"
   ]
  },
  {
   "cell_type": "code",
   "execution_count": 32,
   "id": "2a872133",
   "metadata": {},
   "outputs": [
    {
     "data": {
      "text/plain": [
       "(5620, 2)"
      ]
     },
     "execution_count": 32,
     "metadata": {},
     "output_type": "execute_result"
    }
   ],
   "source": [
    "X_test.shape"
   ]
  },
  {
   "cell_type": "markdown",
   "id": "0a629311",
   "metadata": {},
   "source": [
    "# Standardizing Data with Standard Scaler :"
   ]
  },
  {
   "cell_type": "code",
   "execution_count": 33,
   "id": "20795450",
   "metadata": {},
   "outputs": [],
   "source": [
    "from sklearn.preprocessing import StandardScaler\n",
    "scaler = StandardScaler()\n",
    "X_train_trf = scaler.fit_transform(X_train)"
   ]
  },
  {
   "cell_type": "code",
   "execution_count": 34,
   "id": "fa797703",
   "metadata": {},
   "outputs": [],
   "source": [
    "X_val_trf = scaler.fit_transform(X_val)"
   ]
  },
  {
   "cell_type": "markdown",
   "id": "b9d47ea2",
   "metadata": {},
   "source": [
    "# Logistic Regression :"
   ]
  },
  {
   "cell_type": "code",
   "execution_count": 35,
   "id": "a9ef5d02",
   "metadata": {},
   "outputs": [],
   "source": [
    "from sklearn.linear_model import LogisticRegression"
   ]
  },
  {
   "cell_type": "code",
   "execution_count": 36,
   "id": "00c0056a",
   "metadata": {
    "scrolled": false
   },
   "outputs": [
    {
     "data": {
      "text/plain": [
       "LogisticRegression(random_state=0)"
      ]
     },
     "execution_count": 36,
     "metadata": {},
     "output_type": "execute_result"
    }
   ],
   "source": [
    "lr = LogisticRegression()\n",
    "model_lr = LogisticRegression(solver = 'lbfgs', random_state = 0)\n",
    "model_lr.fit(X_train_trf, y_train)"
   ]
  },
  {
   "cell_type": "code",
   "execution_count": 37,
   "id": "88d80b3d",
   "metadata": {
    "scrolled": false
   },
   "outputs": [
    {
     "name": "stdout",
     "output_type": "stream",
     "text": [
      "CPU times: user 674 µs, sys: 236 µs, total: 910 µs\n",
      "Wall time: 721 µs\n",
      "              precision    recall  f1-score   support\n",
      "\n",
      "           0       0.80      0.98      0.88      8788\n",
      "           1       0.58      0.11      0.19      2452\n",
      "\n",
      "    accuracy                           0.79     11240\n",
      "   macro avg       0.69      0.55      0.53     11240\n",
      "weighted avg       0.75      0.79      0.73     11240\n",
      "\n"
     ]
    }
   ],
   "source": [
    "%time y_val_predict = model_lr.predict(X_val_trf)\n",
    "from sklearn.metrics import classification_report\n",
    "print(classification_report(y_val, y_val_predict))"
   ]
  },
  {
   "cell_type": "code",
   "execution_count": 40,
   "id": "72abe527",
   "metadata": {},
   "outputs": [
    {
     "data": {
      "text/plain": [
       "SVC(C=1, random_state=0)"
      ]
     },
     "execution_count": 40,
     "metadata": {},
     "output_type": "execute_result"
    }
   ],
   "source": [
    "from sklearn.svm import SVC\n",
    "model_svc = SVC(kernel='rbf', random_state = 0, C=1)\n",
    "model_svc.fit(X_train_trf, y_train)"
   ]
  },
  {
   "cell_type": "code",
   "execution_count": 41,
   "id": "152daa3d",
   "metadata": {
    "scrolled": true
   },
   "outputs": [
    {
     "name": "stdout",
     "output_type": "stream",
     "text": [
      "CPU times: user 18.4 s, sys: 86 ms, total: 18.5 s\n",
      "Wall time: 19.2 s\n"
     ]
    }
   ],
   "source": [
    "%time y_val_pred = model_svc.predict(X_val_trf)"
   ]
  },
  {
   "cell_type": "code",
   "execution_count": 42,
   "id": "4f738b05",
   "metadata": {
    "scrolled": true
   },
   "outputs": [
    {
     "name": "stdout",
     "output_type": "stream",
     "text": [
      "              precision    recall  f1-score   support\n",
      "\n",
      "           0       0.81      0.97      0.88      8788\n",
      "           1       0.58      0.16      0.26      2452\n",
      "\n",
      "    accuracy                           0.79     11240\n",
      "   macro avg       0.69      0.57      0.57     11240\n",
      "weighted avg       0.76      0.79      0.74     11240\n",
      "\n"
     ]
    }
   ],
   "source": [
    "print(classification_report(y_val, y_val_pred))"
   ]
  },
  {
   "cell_type": "code",
   "execution_count": 43,
   "id": "b342efe9",
   "metadata": {},
   "outputs": [
    {
     "data": {
      "text/plain": [
       "SVC(C=1, kernel='linear', random_state=0)"
      ]
     },
     "execution_count": 43,
     "metadata": {},
     "output_type": "execute_result"
    }
   ],
   "source": [
    "model_svcl = SVC(kernel='linear', random_state=0, C=1)\n",
    "model_svcl.fit(X_train_trf, y_train)"
   ]
  },
  {
   "cell_type": "code",
   "execution_count": 44,
   "id": "2b47c08b",
   "metadata": {},
   "outputs": [
    {
     "name": "stdout",
     "output_type": "stream",
     "text": [
      "CPU times: user 4.35 s, sys: 28.3 ms, total: 4.38 s\n",
      "Wall time: 4.49 s\n"
     ]
    }
   ],
   "source": [
    "%time y_val_predic = model_svcl.predict(X_val_trf)"
   ]
  },
  {
   "cell_type": "code",
   "execution_count": 45,
   "id": "57047a16",
   "metadata": {},
   "outputs": [
    {
     "name": "stdout",
     "output_type": "stream",
     "text": [
      "              precision    recall  f1-score   support\n",
      "\n",
      "           0       0.79      0.99      0.88      8788\n",
      "           1       0.60      0.08      0.14      2452\n",
      "\n",
      "    accuracy                           0.79     11240\n",
      "   macro avg       0.70      0.53      0.51     11240\n",
      "weighted avg       0.75      0.79      0.72     11240\n",
      "\n"
     ]
    }
   ],
   "source": [
    "print(classification_report(y_val, y_val_predic))"
   ]
  },
  {
   "cell_type": "code",
   "execution_count": 46,
   "id": "e806b567",
   "metadata": {
    "scrolled": true
   },
   "outputs": [
    {
     "data": {
      "text/plain": [
       "RandomForestClassifier(random_state=0)"
      ]
     },
     "execution_count": 46,
     "metadata": {},
     "output_type": "execute_result"
    }
   ],
   "source": [
    "from sklearn.ensemble import RandomForestClassifier\n",
    "rf = RandomForestClassifier(n_estimators = 100, random_state = 0)\n",
    "rf.fit(X_train_trf,y_train)"
   ]
  },
  {
   "cell_type": "code",
   "execution_count": 47,
   "id": "125af189",
   "metadata": {},
   "outputs": [
    {
     "name": "stdout",
     "output_type": "stream",
     "text": [
      "CPU times: user 139 ms, sys: 2.67 ms, total: 142 ms\n",
      "Wall time: 142 ms\n"
     ]
    }
   ],
   "source": [
    "%time y_val_predrf = rf.predict(X_val_trf)"
   ]
  },
  {
   "cell_type": "code",
   "execution_count": 48,
   "id": "bf660ca7",
   "metadata": {
    "scrolled": false
   },
   "outputs": [
    {
     "name": "stdout",
     "output_type": "stream",
     "text": [
      "              precision    recall  f1-score   support\n",
      "\n",
      "           0       0.81      0.93      0.86      8788\n",
      "           1       0.45      0.21      0.29      2452\n",
      "\n",
      "    accuracy                           0.77     11240\n",
      "   macro avg       0.63      0.57      0.58     11240\n",
      "weighted avg       0.73      0.77      0.74     11240\n",
      "\n"
     ]
    }
   ],
   "source": [
    "print(classification_report(y_val, y_val_predrf))"
   ]
  },
  {
   "cell_type": "markdown",
   "id": "cb8a9a1c",
   "metadata": {},
   "source": [
    "# Prediksi Hujan atau Tidak :\n",
    "Dari hasil classification report di atas, bisa disimpulkan kalau algoritma Logistic Regression, SVC Linear, dan SVC RBF memiliki hasil yang paling positif (Dari segi akurasi, F1 Score, Precision & Recall). Namun, kenapa algoritma Random Forest bisa kalah dengan algoritma yang lain ?\n",
    "\n",
    "- Karena Random Forest sangat bergantung dengan feature yang di kasih & banyak, dimana feature yang di atas cuma di pakai 3 feature (rainfall, evaporation, sunshine)"
   ]
  },
  {
   "cell_type": "markdown",
   "id": "70ec2514",
   "metadata": {},
   "source": [
    "# Predicting Wind Direction :"
   ]
  },
  {
   "cell_type": "code",
   "execution_count": 49,
   "id": "6decfe02",
   "metadata": {},
   "outputs": [],
   "source": [
    "df_wind = df[['WindGustDir','MinTemp', 'MaxTemp', 'Humidity9am','Humidity3pm','Pressure9am','Pressure3pm','Cloud9am','Cloud3pm','Temp9am','Temp3pm', 'Sunshine', 'WindGustSpeed']]"
   ]
  },
  {
   "cell_type": "code",
   "execution_count": 50,
   "id": "c1f02eba",
   "metadata": {
    "scrolled": true
   },
   "outputs": [
    {
     "data": {
      "text/html": [
       "<div>\n",
       "<style scoped>\n",
       "    .dataframe tbody tr th:only-of-type {\n",
       "        vertical-align: middle;\n",
       "    }\n",
       "\n",
       "    .dataframe tbody tr th {\n",
       "        vertical-align: top;\n",
       "    }\n",
       "\n",
       "    .dataframe thead th {\n",
       "        text-align: right;\n",
       "    }\n",
       "</style>\n",
       "<table border=\"1\" class=\"dataframe\">\n",
       "  <thead>\n",
       "    <tr style=\"text-align: right;\">\n",
       "      <th></th>\n",
       "      <th>WindGustDir</th>\n",
       "      <th>MinTemp</th>\n",
       "      <th>MaxTemp</th>\n",
       "      <th>Humidity9am</th>\n",
       "      <th>Humidity3pm</th>\n",
       "      <th>Pressure9am</th>\n",
       "      <th>Pressure3pm</th>\n",
       "      <th>Cloud9am</th>\n",
       "      <th>Cloud3pm</th>\n",
       "      <th>Temp9am</th>\n",
       "      <th>Temp3pm</th>\n",
       "      <th>Sunshine</th>\n",
       "      <th>WindGustSpeed</th>\n",
       "    </tr>\n",
       "  </thead>\n",
       "  <tbody>\n",
       "    <tr>\n",
       "      <th>6049</th>\n",
       "      <td>SSW</td>\n",
       "      <td>17.9</td>\n",
       "      <td>35.2</td>\n",
       "      <td>20.0</td>\n",
       "      <td>13.0</td>\n",
       "      <td>1006.3</td>\n",
       "      <td>1004.4</td>\n",
       "      <td>2.0</td>\n",
       "      <td>5.0</td>\n",
       "      <td>26.6</td>\n",
       "      <td>33.4</td>\n",
       "      <td>12.3</td>\n",
       "      <td>48.0</td>\n",
       "    </tr>\n",
       "    <tr>\n",
       "      <th>6050</th>\n",
       "      <td>S</td>\n",
       "      <td>18.4</td>\n",
       "      <td>28.9</td>\n",
       "      <td>30.0</td>\n",
       "      <td>8.0</td>\n",
       "      <td>1012.9</td>\n",
       "      <td>1012.1</td>\n",
       "      <td>1.0</td>\n",
       "      <td>1.0</td>\n",
       "      <td>20.3</td>\n",
       "      <td>27.0</td>\n",
       "      <td>13.0</td>\n",
       "      <td>37.0</td>\n",
       "    </tr>\n",
       "    <tr>\n",
       "      <th>6052</th>\n",
       "      <td>NNE</td>\n",
       "      <td>19.4</td>\n",
       "      <td>37.6</td>\n",
       "      <td>42.0</td>\n",
       "      <td>22.0</td>\n",
       "      <td>1012.3</td>\n",
       "      <td>1009.2</td>\n",
       "      <td>1.0</td>\n",
       "      <td>6.0</td>\n",
       "      <td>28.7</td>\n",
       "      <td>34.9</td>\n",
       "      <td>10.6</td>\n",
       "      <td>46.0</td>\n",
       "    </tr>\n",
       "  </tbody>\n",
       "</table>\n",
       "</div>"
      ],
      "text/plain": [
       "     WindGustDir  MinTemp  MaxTemp  Humidity9am  Humidity3pm  Pressure9am  \\\n",
       "6049         SSW     17.9     35.2         20.0         13.0       1006.3   \n",
       "6050           S     18.4     28.9         30.0          8.0       1012.9   \n",
       "6052         NNE     19.4     37.6         42.0         22.0       1012.3   \n",
       "\n",
       "      Pressure3pm  Cloud9am  Cloud3pm  Temp9am  Temp3pm  Sunshine  \\\n",
       "6049       1004.4       2.0       5.0     26.6     33.4      12.3   \n",
       "6050       1012.1       1.0       1.0     20.3     27.0      13.0   \n",
       "6052       1009.2       1.0       6.0     28.7     34.9      10.6   \n",
       "\n",
       "      WindGustSpeed  \n",
       "6049           48.0  \n",
       "6050           37.0  \n",
       "6052           46.0  "
      ]
     },
     "execution_count": 50,
     "metadata": {},
     "output_type": "execute_result"
    }
   ],
   "source": [
    "df_wind.head(3)"
   ]
  },
  {
   "cell_type": "code",
   "execution_count": 51,
   "id": "9ac388c4",
   "metadata": {},
   "outputs": [
    {
     "data": {
      "text/plain": [
       "<AxesSubplot:>"
      ]
     },
     "execution_count": 51,
     "metadata": {},
     "output_type": "execute_result"
    },
    {
     "data": {
      "image/png": "[encoded data removed]",
      "text/plain": [
       "<Figure size 720x432 with 2 Axes>"
      ]
     },
     "metadata": {},
     "output_type": "display_data"
    }
   ],
   "source": [
    "plt.figure(figsize=(10,6))\n",
    "sns.heatmap(df_wind.corr(), annot=True)"
   ]
  },
  {
   "cell_type": "code",
   "execution_count": 52,
   "id": "5ce6964f",
   "metadata": {},
   "outputs": [],
   "source": [
    "from sklearn.preprocessing import LabelEncoder"
   ]
  },
  {
   "cell_type": "code",
   "execution_count": 53,
   "id": "9256e2e6",
   "metadata": {},
   "outputs": [
    {
     "data": {
      "text/plain": [
       "E      4516\n",
       "N      4210\n",
       "W      4161\n",
       "SW     4052\n",
       "ENE    4028\n",
       "SE     3930\n",
       "SSW    3898\n",
       "WSW    3791\n",
       "S      3636\n",
       "ESE    3312\n",
       "SSE    3295\n",
       "NE     3185\n",
       "WNW    2989\n",
       "NW     2612\n",
       "NNE    2516\n",
       "NNW    2289\n",
       "Name: WindGustDir, dtype: int64"
      ]
     },
     "execution_count": 53,
     "metadata": {},
     "output_type": "execute_result"
    }
   ],
   "source": [
    "df['WindGustDir'].value_counts()"
   ]
  },
  {
   "cell_type": "code",
   "execution_count": 54,
   "id": "315a2f5b",
   "metadata": {},
   "outputs": [
    {
     "name": "stderr",
     "output_type": "stream",
     "text": [
      "<ipython-input-54-3a0c99bf28e5>:2: SettingWithCopyWarning: \n",
      "A value is trying to be set on a copy of a slice from a DataFrame.\n",
      "Try using .loc[row_indexer,col_indexer] = value instead\n",
      "\n",
      "See the caveats in the documentation: https://pandas.pydata.org/pandas-docs/stable/user_guide/indexing.html#returning-a-view-versus-a-copy\n",
      "  df_wind['WindGustDir'] = le.fit_transform(df_wind['WindGustDir'])\n"
     ]
    }
   ],
   "source": [
    "le = LabelEncoder()\n",
    "df_wind['WindGustDir'] = le.fit_transform(df_wind['WindGustDir'])"
   ]
  },
  {
   "cell_type": "code",
   "execution_count": 55,
   "id": "f97e4935",
   "metadata": {},
   "outputs": [],
   "source": [
    "Xw = df_wind.iloc[:, [1,2,3,4,5,6,7,8,9,10,11,12]]\n",
    "yw = df_wind.iloc[:, 0]"
   ]
  },
  {
   "cell_type": "code",
   "execution_count": 56,
   "id": "06ce8e65",
   "metadata": {},
   "outputs": [],
   "source": [
    "wX_train, wX_test, wy_train, wy_test = train_test_split(Xw, yw, test_size=0.20, random_state=0)"
   ]
  },
  {
   "cell_type": "code",
   "execution_count": 57,
   "id": "bc706551",
   "metadata": {},
   "outputs": [
    {
     "data": {
      "text/plain": [
       "Pipeline(steps=[('standardscaler', StandardScaler()),\n",
       "                ('svc', SVC(gamma=5, random_state=0))])"
      ]
     },
     "execution_count": 57,
     "metadata": {},
     "output_type": "execute_result"
    }
   ],
   "source": [
    "from sklearn.pipeline import make_pipeline\n",
    "modelWind = make_pipeline(StandardScaler(), SVC(kernel='rbf', C=1.0, gamma= 5, random_state=0))\n",
    "modelWind.fit(wX_train, wy_train)"
   ]
  },
  {
   "cell_type": "code",
   "execution_count": 58,
   "id": "4d0dfa8f",
   "metadata": {},
   "outputs": [],
   "source": [
    "pred_wind = modelWind.predict(wX_test)"
   ]
  },
  {
   "cell_type": "code",
   "execution_count": 59,
   "id": "33d248d7",
   "metadata": {
    "scrolled": false
   },
   "outputs": [
    {
     "name": "stdout",
     "output_type": "stream",
     "text": [
      "              precision    recall  f1-score   support\n",
      "\n",
      "           0       0.11      0.67      0.19       942\n",
      "           1       0.25      0.17      0.20       786\n",
      "           2       0.16      0.02      0.04       654\n",
      "           3       0.23      0.25      0.24       838\n",
      "           4       0.31      0.05      0.09       641\n",
      "           5       0.08      0.00      0.00       489\n",
      "           6       0.38      0.01      0.01       452\n",
      "           7       0.16      0.01      0.01       539\n",
      "           8       0.18      0.05      0.08       740\n",
      "           9       0.22      0.13      0.17       752\n",
      "          10       0.21      0.03      0.05       665\n",
      "          11       0.17      0.07      0.10       827\n",
      "          12       0.16      0.17      0.17       762\n",
      "          13       0.16      0.33      0.22       803\n",
      "          14       0.30      0.03      0.06       612\n",
      "          15       0.17      0.05      0.07       782\n",
      "\n",
      "    accuracy                           0.15     11284\n",
      "   macro avg       0.20      0.13      0.11     11284\n",
      "weighted avg       0.20      0.15      0.12     11284\n",
      "\n"
     ]
    }
   ],
   "source": [
    "        print(classification_report(wy_test, pred_wind))"
   ]
  },
  {
   "cell_type": "code",
   "execution_count": 61,
   "id": "af6e3835",
   "metadata": {},
   "outputs": [
    {
     "data": {
      "text/plain": [
       "Pipeline(steps=[('standardscaler', StandardScaler()),\n",
       "                ('svc', SVC(gamma=5, kernel='linear', random_state=0))])"
      ]
     },
     "execution_count": 61,
     "metadata": {},
     "output_type": "execute_result"
    }
   ],
   "source": [
    "modelWindlin = make_pipeline(StandardScaler(), SVC(kernel='linear', C=1.0, gamma= 5, random_state=0))\n",
    "modelWindlin.fit(wX_train, wy_train)"
   ]
  },
  {
   "cell_type": "code",
   "execution_count": 62,
   "id": "6977f6bd",
   "metadata": {},
   "outputs": [],
   "source": [
    "pred_windlin = modelWindlin.predict(wX_test)"
   ]
  },
  {
   "cell_type": "code",
   "execution_count": 63,
   "id": "3a06aca1",
   "metadata": {},
   "outputs": [
    {
     "name": "stdout",
     "output_type": "stream",
     "text": [
      "              precision    recall  f1-score   support\n",
      "\n",
      "           0       0.17      0.39      0.23       942\n",
      "           1       0.17      0.45      0.25       786\n",
      "           2       0.00      0.00      0.00       654\n",
      "           3       0.19      0.40      0.26       838\n",
      "           4       0.00      0.00      0.00       641\n",
      "           5       0.27      0.01      0.02       489\n",
      "           6       0.50      0.00      0.00       452\n",
      "           7       0.17      0.00      0.00       539\n",
      "           8       0.17      0.16      0.16       740\n",
      "           9       0.14      0.14      0.14       752\n",
      "          10       0.14      0.03      0.05       665\n",
      "          11       0.12      0.05      0.07       827\n",
      "          12       0.15      0.28      0.19       762\n",
      "          13       0.17      0.33      0.22       803\n",
      "          14       0.10      0.01      0.02       612\n",
      "          15       0.30      0.05      0.09       782\n",
      "\n",
      "    accuracy                           0.17     11284\n",
      "   macro avg       0.17      0.14      0.11     11284\n",
      "weighted avg       0.17      0.17      0.12     11284\n",
      "\n"
     ]
    }
   ],
   "source": [
    "print(classification_report(wy_test, pred_windlin))"
   ]
  },
  {
   "cell_type": "code",
   "execution_count": 65,
   "id": "f1d4e427",
   "metadata": {},
   "outputs": [
    {
     "data": {
      "text/plain": [
       "Pipeline(steps=[('standardscaler', StandardScaler()),\n",
       "                ('randomforestclassifier',\n",
       "                 RandomForestClassifier(n_estimators=500, random_state=0))])"
      ]
     },
     "execution_count": 65,
     "metadata": {},
     "output_type": "execute_result"
    }
   ],
   "source": [
    "modelWindrf = make_pipeline(StandardScaler(), RandomForestClassifier(n_estimators=500, random_state=0))\n",
    "modelWindrf.fit(wX_train, wy_train)"
   ]
  },
  {
   "cell_type": "code",
   "execution_count": 66,
   "id": "e1cf8df7",
   "metadata": {},
   "outputs": [],
   "source": [
    "pred_windrf = modelWindrf.predict(wX_test)"
   ]
  },
  {
   "cell_type": "code",
   "execution_count": 67,
   "id": "ac7d5a5b",
   "metadata": {},
   "outputs": [
    {
     "name": "stdout",
     "output_type": "stream",
     "text": [
      "              precision    recall  f1-score   support\n",
      "\n",
      "           0       0.24      0.34      0.28       942\n",
      "           1       0.22      0.27      0.24       786\n",
      "           2       0.17      0.13      0.14       654\n",
      "           3       0.28      0.40      0.33       838\n",
      "           4       0.23      0.21      0.22       641\n",
      "           5       0.19      0.09      0.13       489\n",
      "           6       0.22      0.11      0.15       452\n",
      "           7       0.19      0.12      0.15       539\n",
      "           8       0.20      0.20      0.20       740\n",
      "           9       0.21      0.24      0.23       752\n",
      "          10       0.16      0.12      0.14       665\n",
      "          11       0.17      0.15      0.16       827\n",
      "          12       0.19      0.24      0.21       762\n",
      "          13       0.22      0.30      0.25       803\n",
      "          14       0.25      0.15      0.19       612\n",
      "          15       0.23      0.18      0.20       782\n",
      "\n",
      "    accuracy                           0.22     11284\n",
      "   macro avg       0.21      0.20      0.20     11284\n",
      "weighted avg       0.21      0.22      0.21     11284\n",
      "\n"
     ]
    }
   ],
   "source": [
    "print(classification_report(wy_test, pred_windrf))"
   ]
  },
  {
   "cell_type": "code",
   "execution_count": 89,
   "id": "edb56645",
   "metadata": {},
   "outputs": [
    {
     "data": {
      "text/plain": [
       "Pipeline(steps=[('standardscaler', StandardScaler()),\n",
       "                ('kneighborsclassifier',\n",
       "                 KNeighborsClassifier(n_neighbors=16, p=5))])"
      ]
     },
     "execution_count": 89,
     "metadata": {},
     "output_type": "execute_result"
    }
   ],
   "source": [
    "from sklearn.neighbors import KNeighborsClassifier\n",
    "modelWindKNN = make_pipeline(StandardScaler(), KNeighborsClassifier(n_neighbors=16, metric='minkowski', p=5))\n",
    "modelWindKNN.fit(wX_train, wy_train)"
   ]
  },
  {
   "cell_type": "code",
   "execution_count": 90,
   "id": "a61756df",
   "metadata": {},
   "outputs": [],
   "source": [
    "predwindknn = modelWindKNN.predict(wX_test)"
   ]
  },
  {
   "cell_type": "code",
   "execution_count": 91,
   "id": "33c6151e",
   "metadata": {},
   "outputs": [
    {
     "name": "stdout",
     "output_type": "stream",
     "text": [
      "              precision    recall  f1-score   support\n",
      "\n",
      "           0       0.18      0.33      0.23       942\n",
      "           1       0.17      0.27      0.21       786\n",
      "           2       0.11      0.11      0.11       654\n",
      "           3       0.23      0.31      0.26       838\n",
      "           4       0.14      0.13      0.14       641\n",
      "           5       0.07      0.04      0.05       489\n",
      "           6       0.11      0.06      0.08       452\n",
      "           7       0.13      0.08      0.10       539\n",
      "           8       0.15      0.16      0.15       740\n",
      "           9       0.20      0.20      0.20       752\n",
      "          10       0.12      0.08      0.10       665\n",
      "          11       0.15      0.11      0.13       827\n",
      "          12       0.15      0.16      0.16       762\n",
      "          13       0.19      0.20      0.20       803\n",
      "          14       0.19      0.11      0.14       612\n",
      "          15       0.16      0.09      0.12       782\n",
      "\n",
      "    accuracy                           0.17     11284\n",
      "   macro avg       0.15      0.15      0.15     11284\n",
      "weighted avg       0.16      0.17      0.16     11284\n",
      "\n"
     ]
    }
   ],
   "source": [
    "print(classification_report(wy_test, predwindknn))"
   ]
  },
  {
   "cell_type": "markdown",
   "id": "cddba38f",
   "metadata": {},
   "source": [
    "# Prediksi Arah Mata Angin :"
   ]
  },
  {
   "cell_type": "markdown",
   "id": "1a6eea9a",
   "metadata": {},
   "source": [
    "Dari hasil classification report tersebut, Random Forest memiliki hasil yang paling positif. Namun, kenapa ke-4 algoritma akurasi nya memiliki nilai/persentase yang sangat rendah ?\n",
    "\n",
    "- Semakin banyak grup/classification yang di prediksi, semakin susah untuk algoritma tersebut memprediksi secara akurat.\n",
    "- Feature yang kurang kuat/cocok untuk memprediksi arah mata angin.\n",
    "- Random Forest merupakan classifier yg pling akurat di sini, karena Random Forest robust terhadap outlier dan dia bisa meng-handle dimensi data yang tinggi."
   ]
  }
 ],
 "metadata": {
  "kernelspec": {
   "display_name": "Python 3",
   "language": "python",
   "name": "python3"
  },
  "language_info": {
   "codemirror_mode": {
    "name": "ipython",
    "version": 3
   },
   "file_extension": ".py",
   "mimetype": "text/x-python",
   "name": "python",
   "nbconvert_exporter": "python",
   "pygments_lexer": "ipython3",
   "version": "3.8.8"
  }
 },
 "nbformat": 4,
 "nbformat_minor": 5
}
