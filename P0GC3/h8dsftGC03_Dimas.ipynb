{
 "cells": [
  {
   "cell_type": "code",
   "execution_count": 2,
   "id": "027ec60f",
   "metadata": {},
   "outputs": [],
   "source": [
    "import pandas as pd\n",
    "import numpy as np\n",
    "import matplotlib.pyplot as plt\n",
    "from scipy import stats\n",
    "%matplotlib inline"
   ]
  },
  {
   "cell_type": "code",
   "execution_count": 3,
   "id": "a5f55004",
   "metadata": {
    "scrolled": true
   },
   "outputs": [
    {
     "data": {
      "text/plain": [
       "'/Users/dimas/Documents/data-science'"
      ]
     },
     "execution_count": 3,
     "metadata": {},
     "output_type": "execute_result"
    }
   ],
   "source": [
    "pwd"
   ]
  },
  {
   "cell_type": "markdown",
   "id": "8c47a9bb",
   "metadata": {},
   "source": [
    "# Introduction :\n",
    "\n",
    "The datasets is mainly about crowdfunding on each projects taken between {'1970-01-01' - '2018-01-01'}. \n",
    "Most of the projects that is shown on the datasets is based from entertainment section (such as art, comics, crafts, music, games, photography, film & video, etc.)\n",
    "\n",
    "Crowdfunding is the practice of funding a project or venture by raising small amounts of money from a large number of people, typically via the Internet.\n",
    "\n",
    "Funding is the act of providing resources to finance a need, program, or project. In this case, mainly focused on projects.\n",
    "\n",
    "Pledge is the amount that is given from the funding ex: pledge is USD 100, meaning that the project is supported with USD 100 fund."
   ]
  },
  {
   "cell_type": "markdown",
   "id": "ffd45942",
   "metadata": {},
   "source": [
    "# First, we review the first projects first (2018 version)"
   ]
  },
  {
   "cell_type": "code",
   "execution_count": 4,
   "id": "acead206",
   "metadata": {
    "scrolled": true
   },
   "outputs": [
    {
     "data": {
      "text/html": [
       "<div>\n",
       "<style scoped>\n",
       "    .dataframe tbody tr th:only-of-type {\n",
       "        vertical-align: middle;\n",
       "    }\n",
       "\n",
       "    .dataframe tbody tr th {\n",
       "        vertical-align: top;\n",
       "    }\n",
       "\n",
       "    .dataframe thead th {\n",
       "        text-align: right;\n",
       "    }\n",
       "</style>\n",
       "<table border=\"1\" class=\"dataframe\">\n",
       "  <thead>\n",
       "    <tr style=\"text-align: right;\">\n",
       "      <th></th>\n",
       "      <th>ID</th>\n",
       "      <th>name</th>\n",
       "      <th>category</th>\n",
       "      <th>main_category</th>\n",
       "      <th>currency</th>\n",
       "      <th>deadline</th>\n",
       "      <th>goal</th>\n",
       "      <th>launched</th>\n",
       "      <th>pledged</th>\n",
       "      <th>state</th>\n",
       "      <th>backers</th>\n",
       "      <th>country</th>\n",
       "      <th>usd pledged</th>\n",
       "      <th>usd_pledged_real</th>\n",
       "      <th>usd_goal_real</th>\n",
       "    </tr>\n",
       "  </thead>\n",
       "  <tbody>\n",
       "    <tr>\n",
       "      <th>0</th>\n",
       "      <td>1000002330</td>\n",
       "      <td>The Songs of Adelaide &amp; Abullah</td>\n",
       "      <td>Poetry</td>\n",
       "      <td>Publishing</td>\n",
       "      <td>GBP</td>\n",
       "      <td>2015-10-09</td>\n",
       "      <td>1000.0</td>\n",
       "      <td>2015-08-11 12:12:28</td>\n",
       "      <td>0.0</td>\n",
       "      <td>failed</td>\n",
       "      <td>0</td>\n",
       "      <td>GB</td>\n",
       "      <td>0.0</td>\n",
       "      <td>0.0</td>\n",
       "      <td>1533.95</td>\n",
       "    </tr>\n",
       "    <tr>\n",
       "      <th>1</th>\n",
       "      <td>1000003930</td>\n",
       "      <td>Greeting From Earth: ZGAC Arts Capsule For ET</td>\n",
       "      <td>Narrative Film</td>\n",
       "      <td>Film &amp; Video</td>\n",
       "      <td>USD</td>\n",
       "      <td>2017-11-01</td>\n",
       "      <td>30000.0</td>\n",
       "      <td>2017-09-02 04:43:57</td>\n",
       "      <td>2421.0</td>\n",
       "      <td>failed</td>\n",
       "      <td>15</td>\n",
       "      <td>US</td>\n",
       "      <td>100.0</td>\n",
       "      <td>2421.0</td>\n",
       "      <td>30000.00</td>\n",
       "    </tr>\n",
       "    <tr>\n",
       "      <th>2</th>\n",
       "      <td>1000004038</td>\n",
       "      <td>Where is Hank?</td>\n",
       "      <td>Narrative Film</td>\n",
       "      <td>Film &amp; Video</td>\n",
       "      <td>USD</td>\n",
       "      <td>2013-02-26</td>\n",
       "      <td>45000.0</td>\n",
       "      <td>2013-01-12 00:20:50</td>\n",
       "      <td>220.0</td>\n",
       "      <td>failed</td>\n",
       "      <td>3</td>\n",
       "      <td>US</td>\n",
       "      <td>220.0</td>\n",
       "      <td>220.0</td>\n",
       "      <td>45000.00</td>\n",
       "    </tr>\n",
       "    <tr>\n",
       "      <th>3</th>\n",
       "      <td>1000007540</td>\n",
       "      <td>ToshiCapital Rekordz Needs Help to Complete Album</td>\n",
       "      <td>Music</td>\n",
       "      <td>Music</td>\n",
       "      <td>USD</td>\n",
       "      <td>2012-04-16</td>\n",
       "      <td>5000.0</td>\n",
       "      <td>2012-03-17 03:24:11</td>\n",
       "      <td>1.0</td>\n",
       "      <td>failed</td>\n",
       "      <td>1</td>\n",
       "      <td>US</td>\n",
       "      <td>1.0</td>\n",
       "      <td>1.0</td>\n",
       "      <td>5000.00</td>\n",
       "    </tr>\n",
       "    <tr>\n",
       "      <th>4</th>\n",
       "      <td>1000011046</td>\n",
       "      <td>Community Film Project: The Art of Neighborhoo...</td>\n",
       "      <td>Film &amp; Video</td>\n",
       "      <td>Film &amp; Video</td>\n",
       "      <td>USD</td>\n",
       "      <td>2015-08-29</td>\n",
       "      <td>19500.0</td>\n",
       "      <td>2015-07-04 08:35:03</td>\n",
       "      <td>1283.0</td>\n",
       "      <td>canceled</td>\n",
       "      <td>14</td>\n",
       "      <td>US</td>\n",
       "      <td>1283.0</td>\n",
       "      <td>1283.0</td>\n",
       "      <td>19500.00</td>\n",
       "    </tr>\n",
       "    <tr>\n",
       "      <th>...</th>\n",
       "      <td>...</td>\n",
       "      <td>...</td>\n",
       "      <td>...</td>\n",
       "      <td>...</td>\n",
       "      <td>...</td>\n",
       "      <td>...</td>\n",
       "      <td>...</td>\n",
       "      <td>...</td>\n",
       "      <td>...</td>\n",
       "      <td>...</td>\n",
       "      <td>...</td>\n",
       "      <td>...</td>\n",
       "      <td>...</td>\n",
       "      <td>...</td>\n",
       "      <td>...</td>\n",
       "    </tr>\n",
       "    <tr>\n",
       "      <th>378656</th>\n",
       "      <td>999976400</td>\n",
       "      <td>ChknTruk Nationwide Charity Drive 2014 (Canceled)</td>\n",
       "      <td>Documentary</td>\n",
       "      <td>Film &amp; Video</td>\n",
       "      <td>USD</td>\n",
       "      <td>2014-10-17</td>\n",
       "      <td>50000.0</td>\n",
       "      <td>2014-09-17 02:35:30</td>\n",
       "      <td>25.0</td>\n",
       "      <td>canceled</td>\n",
       "      <td>1</td>\n",
       "      <td>US</td>\n",
       "      <td>25.0</td>\n",
       "      <td>25.0</td>\n",
       "      <td>50000.00</td>\n",
       "    </tr>\n",
       "    <tr>\n",
       "      <th>378657</th>\n",
       "      <td>999977640</td>\n",
       "      <td>The Tribe</td>\n",
       "      <td>Narrative Film</td>\n",
       "      <td>Film &amp; Video</td>\n",
       "      <td>USD</td>\n",
       "      <td>2011-07-19</td>\n",
       "      <td>1500.0</td>\n",
       "      <td>2011-06-22 03:35:14</td>\n",
       "      <td>155.0</td>\n",
       "      <td>failed</td>\n",
       "      <td>5</td>\n",
       "      <td>US</td>\n",
       "      <td>155.0</td>\n",
       "      <td>155.0</td>\n",
       "      <td>1500.00</td>\n",
       "    </tr>\n",
       "    <tr>\n",
       "      <th>378658</th>\n",
       "      <td>999986353</td>\n",
       "      <td>Walls of Remedy- New lesbian Romantic Comedy f...</td>\n",
       "      <td>Narrative Film</td>\n",
       "      <td>Film &amp; Video</td>\n",
       "      <td>USD</td>\n",
       "      <td>2010-08-16</td>\n",
       "      <td>15000.0</td>\n",
       "      <td>2010-07-01 19:40:30</td>\n",
       "      <td>20.0</td>\n",
       "      <td>failed</td>\n",
       "      <td>1</td>\n",
       "      <td>US</td>\n",
       "      <td>20.0</td>\n",
       "      <td>20.0</td>\n",
       "      <td>15000.00</td>\n",
       "    </tr>\n",
       "    <tr>\n",
       "      <th>378659</th>\n",
       "      <td>999987933</td>\n",
       "      <td>BioDefense Education Kit</td>\n",
       "      <td>Technology</td>\n",
       "      <td>Technology</td>\n",
       "      <td>USD</td>\n",
       "      <td>2016-02-13</td>\n",
       "      <td>15000.0</td>\n",
       "      <td>2016-01-13 18:13:53</td>\n",
       "      <td>200.0</td>\n",
       "      <td>failed</td>\n",
       "      <td>6</td>\n",
       "      <td>US</td>\n",
       "      <td>200.0</td>\n",
       "      <td>200.0</td>\n",
       "      <td>15000.00</td>\n",
       "    </tr>\n",
       "    <tr>\n",
       "      <th>378660</th>\n",
       "      <td>999988282</td>\n",
       "      <td>Nou Renmen Ayiti!  We Love Haiti!</td>\n",
       "      <td>Performance Art</td>\n",
       "      <td>Art</td>\n",
       "      <td>USD</td>\n",
       "      <td>2011-08-16</td>\n",
       "      <td>2000.0</td>\n",
       "      <td>2011-07-19 09:07:47</td>\n",
       "      <td>524.0</td>\n",
       "      <td>failed</td>\n",
       "      <td>17</td>\n",
       "      <td>US</td>\n",
       "      <td>524.0</td>\n",
       "      <td>524.0</td>\n",
       "      <td>2000.00</td>\n",
       "    </tr>\n",
       "  </tbody>\n",
       "</table>\n",
       "<p>378661 rows × 15 columns</p>\n",
       "</div>"
      ],
      "text/plain": [
       "                ID                                               name  \\\n",
       "0       1000002330                    The Songs of Adelaide & Abullah   \n",
       "1       1000003930      Greeting From Earth: ZGAC Arts Capsule For ET   \n",
       "2       1000004038                                     Where is Hank?   \n",
       "3       1000007540  ToshiCapital Rekordz Needs Help to Complete Album   \n",
       "4       1000011046  Community Film Project: The Art of Neighborhoo...   \n",
       "...            ...                                                ...   \n",
       "378656   999976400  ChknTruk Nationwide Charity Drive 2014 (Canceled)   \n",
       "378657   999977640                                          The Tribe   \n",
       "378658   999986353  Walls of Remedy- New lesbian Romantic Comedy f...   \n",
       "378659   999987933                           BioDefense Education Kit   \n",
       "378660   999988282                  Nou Renmen Ayiti!  We Love Haiti!   \n",
       "\n",
       "               category main_category currency    deadline     goal  \\\n",
       "0                Poetry    Publishing      GBP  2015-10-09   1000.0   \n",
       "1        Narrative Film  Film & Video      USD  2017-11-01  30000.0   \n",
       "2        Narrative Film  Film & Video      USD  2013-02-26  45000.0   \n",
       "3                 Music         Music      USD  2012-04-16   5000.0   \n",
       "4          Film & Video  Film & Video      USD  2015-08-29  19500.0   \n",
       "...                 ...           ...      ...         ...      ...   \n",
       "378656      Documentary  Film & Video      USD  2014-10-17  50000.0   \n",
       "378657   Narrative Film  Film & Video      USD  2011-07-19   1500.0   \n",
       "378658   Narrative Film  Film & Video      USD  2010-08-16  15000.0   \n",
       "378659       Technology    Technology      USD  2016-02-13  15000.0   \n",
       "378660  Performance Art           Art      USD  2011-08-16   2000.0   \n",
       "\n",
       "                   launched  pledged     state  backers country  usd pledged  \\\n",
       "0       2015-08-11 12:12:28      0.0    failed        0      GB          0.0   \n",
       "1       2017-09-02 04:43:57   2421.0    failed       15      US        100.0   \n",
       "2       2013-01-12 00:20:50    220.0    failed        3      US        220.0   \n",
       "3       2012-03-17 03:24:11      1.0    failed        1      US          1.0   \n",
       "4       2015-07-04 08:35:03   1283.0  canceled       14      US       1283.0   \n",
       "...                     ...      ...       ...      ...     ...          ...   \n",
       "378656  2014-09-17 02:35:30     25.0  canceled        1      US         25.0   \n",
       "378657  2011-06-22 03:35:14    155.0    failed        5      US        155.0   \n",
       "378658  2010-07-01 19:40:30     20.0    failed        1      US         20.0   \n",
       "378659  2016-01-13 18:13:53    200.0    failed        6      US        200.0   \n",
       "378660  2011-07-19 09:07:47    524.0    failed       17      US        524.0   \n",
       "\n",
       "        usd_pledged_real  usd_goal_real  \n",
       "0                    0.0        1533.95  \n",
       "1                 2421.0       30000.00  \n",
       "2                  220.0       45000.00  \n",
       "3                    1.0        5000.00  \n",
       "4                 1283.0       19500.00  \n",
       "...                  ...            ...  \n",
       "378656              25.0       50000.00  \n",
       "378657             155.0        1500.00  \n",
       "378658              20.0       15000.00  \n",
       "378659             200.0       15000.00  \n",
       "378660             524.0        2000.00  \n",
       "\n",
       "[378661 rows x 15 columns]"
      ]
     },
     "execution_count": 4,
     "metadata": {},
     "output_type": "execute_result"
    }
   ],
   "source": [
    "df =pd.read_csv('ks-projects-201801.csv')\n",
    "df"
   ]
  },
  {
   "cell_type": "code",
   "execution_count": 5,
   "id": "be024a03",
   "metadata": {},
   "outputs": [
    {
     "data": {
      "text/plain": [
       "('1970-01-01 01:00:00', '2018-01-02 15:02:31')"
      ]
     },
     "execution_count": 5,
     "metadata": {},
     "output_type": "execute_result"
    }
   ],
   "source": [
    "df['launched'].min(), df['launched'].max() # Used for introduction."
   ]
  },
  {
   "cell_type": "markdown",
   "id": "99f8c170",
   "metadata": {},
   "source": [
    "# Data Cleaning & Exploration :"
   ]
  },
  {
   "cell_type": "code",
   "execution_count": 6,
   "id": "4b9e9ba9",
   "metadata": {
    "scrolled": false
   },
   "outputs": [
    {
     "data": {
      "text/plain": [
       "Film & Video    63585\n",
       "Music           51918\n",
       "Publishing      39874\n",
       "Games           35231\n",
       "Technology      32569\n",
       "Design          30070\n",
       "Art             28153\n",
       "Food            24602\n",
       "Fashion         22816\n",
       "Theater         10913\n",
       "Comics          10819\n",
       "Photography     10779\n",
       "Crafts           8809\n",
       "Journalism       4755\n",
       "Dance            3768\n",
       "Name: main_category, dtype: int64"
      ]
     },
     "execution_count": 6,
     "metadata": {},
     "output_type": "execute_result"
    }
   ],
   "source": [
    "maincategory = df['main_category'].value_counts()\n",
    "maincategory"
   ]
  },
  {
   "cell_type": "code",
   "execution_count": 7,
   "id": "5d6b5d19",
   "metadata": {},
   "outputs": [
    {
     "data": {
      "text/plain": [
       "<AxesSubplot:>"
      ]
     },
     "execution_count": 7,
     "metadata": {},
     "output_type": "execute_result"
    },
    {
     "data": {
      "image/png": "[encoded data removed]",
      "text/plain": [
       "<Figure size 576x360 with 1 Axes>"
      ]
     },
     "metadata": {
      "needs_background": "light"
     },
     "output_type": "display_data"
    }
   ],
   "source": [
    "maincategory.plot.barh(maincategory, figsize=(8,5))"
   ]
  },
  {
   "cell_type": "code",
   "execution_count": 8,
   "id": "fe18471f",
   "metadata": {},
   "outputs": [
    {
     "name": "stdout",
     "output_type": "stream",
     "text": [
      "<class 'pandas.core.frame.DataFrame'>\n",
      "RangeIndex: 378661 entries, 0 to 378660\n",
      "Data columns (total 15 columns):\n",
      " #   Column            Non-Null Count   Dtype  \n",
      "---  ------            --------------   -----  \n",
      " 0   ID                378661 non-null  int64  \n",
      " 1   name              378657 non-null  object \n",
      " 2   category          378661 non-null  object \n",
      " 3   main_category     378661 non-null  object \n",
      " 4   currency          378661 non-null  object \n",
      " 5   deadline          378661 non-null  object \n",
      " 6   goal              378661 non-null  float64\n",
      " 7   launched          378661 non-null  object \n",
      " 8   pledged           378661 non-null  float64\n",
      " 9   state             378661 non-null  object \n",
      " 10  backers           378661 non-null  int64  \n",
      " 11  country           378661 non-null  object \n",
      " 12  usd pledged       374864 non-null  float64\n",
      " 13  usd_pledged_real  378661 non-null  float64\n",
      " 14  usd_goal_real     378661 non-null  float64\n",
      "dtypes: float64(5), int64(2), object(8)\n",
      "memory usage: 43.3+ MB\n"
     ]
    }
   ],
   "source": [
    "df.info()"
   ]
  },
  {
   "cell_type": "code",
   "execution_count": 9,
   "id": "9441557c",
   "metadata": {},
   "outputs": [
    {
     "data": {
      "text/html": [
       "<div>\n",
       "<style scoped>\n",
       "    .dataframe tbody tr th:only-of-type {\n",
       "        vertical-align: middle;\n",
       "    }\n",
       "\n",
       "    .dataframe tbody tr th {\n",
       "        vertical-align: top;\n",
       "    }\n",
       "\n",
       "    .dataframe thead th {\n",
       "        text-align: right;\n",
       "    }\n",
       "</style>\n",
       "<table border=\"1\" class=\"dataframe\">\n",
       "  <thead>\n",
       "    <tr style=\"text-align: right;\">\n",
       "      <th></th>\n",
       "      <th>ID</th>\n",
       "      <th>goal</th>\n",
       "      <th>pledged</th>\n",
       "      <th>backers</th>\n",
       "      <th>usd pledged</th>\n",
       "      <th>usd_pledged_real</th>\n",
       "      <th>usd_goal_real</th>\n",
       "    </tr>\n",
       "  </thead>\n",
       "  <tbody>\n",
       "    <tr>\n",
       "      <th>count</th>\n",
       "      <td>3.786610e+05</td>\n",
       "      <td>3.786610e+05</td>\n",
       "      <td>3.786610e+05</td>\n",
       "      <td>378661.000000</td>\n",
       "      <td>3.748640e+05</td>\n",
       "      <td>3.786610e+05</td>\n",
       "      <td>3.786610e+05</td>\n",
       "    </tr>\n",
       "    <tr>\n",
       "      <th>mean</th>\n",
       "      <td>1.074731e+09</td>\n",
       "      <td>4.908079e+04</td>\n",
       "      <td>9.682979e+03</td>\n",
       "      <td>105.617476</td>\n",
       "      <td>7.036729e+03</td>\n",
       "      <td>9.058924e+03</td>\n",
       "      <td>4.545440e+04</td>\n",
       "    </tr>\n",
       "    <tr>\n",
       "      <th>std</th>\n",
       "      <td>6.190862e+08</td>\n",
       "      <td>1.183391e+06</td>\n",
       "      <td>9.563601e+04</td>\n",
       "      <td>907.185035</td>\n",
       "      <td>7.863975e+04</td>\n",
       "      <td>9.097334e+04</td>\n",
       "      <td>1.152950e+06</td>\n",
       "    </tr>\n",
       "    <tr>\n",
       "      <th>min</th>\n",
       "      <td>5.971000e+03</td>\n",
       "      <td>1.000000e-02</td>\n",
       "      <td>0.000000e+00</td>\n",
       "      <td>0.000000</td>\n",
       "      <td>0.000000e+00</td>\n",
       "      <td>0.000000e+00</td>\n",
       "      <td>1.000000e-02</td>\n",
       "    </tr>\n",
       "    <tr>\n",
       "      <th>25%</th>\n",
       "      <td>5.382635e+08</td>\n",
       "      <td>2.000000e+03</td>\n",
       "      <td>3.000000e+01</td>\n",
       "      <td>2.000000</td>\n",
       "      <td>1.698000e+01</td>\n",
       "      <td>3.100000e+01</td>\n",
       "      <td>2.000000e+03</td>\n",
       "    </tr>\n",
       "    <tr>\n",
       "      <th>50%</th>\n",
       "      <td>1.075276e+09</td>\n",
       "      <td>5.200000e+03</td>\n",
       "      <td>6.200000e+02</td>\n",
       "      <td>12.000000</td>\n",
       "      <td>3.947200e+02</td>\n",
       "      <td>6.243300e+02</td>\n",
       "      <td>5.500000e+03</td>\n",
       "    </tr>\n",
       "    <tr>\n",
       "      <th>75%</th>\n",
       "      <td>1.610149e+09</td>\n",
       "      <td>1.600000e+04</td>\n",
       "      <td>4.076000e+03</td>\n",
       "      <td>56.000000</td>\n",
       "      <td>3.034090e+03</td>\n",
       "      <td>4.050000e+03</td>\n",
       "      <td>1.550000e+04</td>\n",
       "    </tr>\n",
       "    <tr>\n",
       "      <th>max</th>\n",
       "      <td>2.147476e+09</td>\n",
       "      <td>1.000000e+08</td>\n",
       "      <td>2.033899e+07</td>\n",
       "      <td>219382.000000</td>\n",
       "      <td>2.033899e+07</td>\n",
       "      <td>2.033899e+07</td>\n",
       "      <td>1.663614e+08</td>\n",
       "    </tr>\n",
       "  </tbody>\n",
       "</table>\n",
       "</div>"
      ],
      "text/plain": [
       "                 ID          goal       pledged        backers   usd pledged  \\\n",
       "count  3.786610e+05  3.786610e+05  3.786610e+05  378661.000000  3.748640e+05   \n",
       "mean   1.074731e+09  4.908079e+04  9.682979e+03     105.617476  7.036729e+03   \n",
       "std    6.190862e+08  1.183391e+06  9.563601e+04     907.185035  7.863975e+04   \n",
       "min    5.971000e+03  1.000000e-02  0.000000e+00       0.000000  0.000000e+00   \n",
       "25%    5.382635e+08  2.000000e+03  3.000000e+01       2.000000  1.698000e+01   \n",
       "50%    1.075276e+09  5.200000e+03  6.200000e+02      12.000000  3.947200e+02   \n",
       "75%    1.610149e+09  1.600000e+04  4.076000e+03      56.000000  3.034090e+03   \n",
       "max    2.147476e+09  1.000000e+08  2.033899e+07  219382.000000  2.033899e+07   \n",
       "\n",
       "       usd_pledged_real  usd_goal_real  \n",
       "count      3.786610e+05   3.786610e+05  \n",
       "mean       9.058924e+03   4.545440e+04  \n",
       "std        9.097334e+04   1.152950e+06  \n",
       "min        0.000000e+00   1.000000e-02  \n",
       "25%        3.100000e+01   2.000000e+03  \n",
       "50%        6.243300e+02   5.500000e+03  \n",
       "75%        4.050000e+03   1.550000e+04  \n",
       "max        2.033899e+07   1.663614e+08  "
      ]
     },
     "execution_count": 9,
     "metadata": {},
     "output_type": "execute_result"
    }
   ],
   "source": [
    "df.describe()"
   ]
  },
  {
   "cell_type": "code",
   "execution_count": 10,
   "id": "c2f726b7",
   "metadata": {
    "scrolled": true
   },
   "outputs": [
    {
     "data": {
      "text/plain": [
       "ID                  False\n",
       "name                 True\n",
       "category            False\n",
       "main_category       False\n",
       "currency            False\n",
       "deadline            False\n",
       "goal                False\n",
       "launched            False\n",
       "pledged             False\n",
       "state               False\n",
       "backers             False\n",
       "country             False\n",
       "usd pledged          True\n",
       "usd_pledged_real    False\n",
       "usd_goal_real       False\n",
       "dtype: bool"
      ]
     },
     "execution_count": 10,
     "metadata": {},
     "output_type": "execute_result"
    }
   ],
   "source": [
    "df.isnull().any()"
   ]
  },
  {
   "cell_type": "markdown",
   "id": "d920ad4f",
   "metadata": {},
   "source": [
    "Decided to drop the NaN values,\n",
    "since if name has null values, it cannot be used since it is a primary variable.\n",
    "usd pledged has null values, we could take it as null on usd pledged could be meant as 0 (no pledge is taken), but since at the dataframe has values '0', it is taken that null values on usd pledged has no values in it."
   ]
  },
  {
   "cell_type": "code",
   "execution_count": 11,
   "id": "5b656680",
   "metadata": {
    "scrolled": true
   },
   "outputs": [
    {
     "data": {
      "text/html": [
       "<div>\n",
       "<style scoped>\n",
       "    .dataframe tbody tr th:only-of-type {\n",
       "        vertical-align: middle;\n",
       "    }\n",
       "\n",
       "    .dataframe tbody tr th {\n",
       "        vertical-align: top;\n",
       "    }\n",
       "\n",
       "    .dataframe thead th {\n",
       "        text-align: right;\n",
       "    }\n",
       "</style>\n",
       "<table border=\"1\" class=\"dataframe\">\n",
       "  <thead>\n",
       "    <tr style=\"text-align: right;\">\n",
       "      <th></th>\n",
       "      <th>ID</th>\n",
       "      <th>name</th>\n",
       "      <th>category</th>\n",
       "      <th>main_category</th>\n",
       "      <th>currency</th>\n",
       "      <th>deadline</th>\n",
       "      <th>goal</th>\n",
       "      <th>launched</th>\n",
       "      <th>pledged</th>\n",
       "      <th>state</th>\n",
       "      <th>backers</th>\n",
       "      <th>country</th>\n",
       "      <th>usd pledged</th>\n",
       "      <th>usd_pledged_real</th>\n",
       "      <th>usd_goal_real</th>\n",
       "    </tr>\n",
       "  </thead>\n",
       "  <tbody>\n",
       "    <tr>\n",
       "      <th>0</th>\n",
       "      <td>1000002330</td>\n",
       "      <td>The Songs of Adelaide &amp; Abullah</td>\n",
       "      <td>Poetry</td>\n",
       "      <td>Publishing</td>\n",
       "      <td>GBP</td>\n",
       "      <td>2015-10-09</td>\n",
       "      <td>1000.0</td>\n",
       "      <td>2015-08-11 12:12:28</td>\n",
       "      <td>0.0</td>\n",
       "      <td>failed</td>\n",
       "      <td>0</td>\n",
       "      <td>GB</td>\n",
       "      <td>0.0</td>\n",
       "      <td>0.0</td>\n",
       "      <td>1533.95</td>\n",
       "    </tr>\n",
       "    <tr>\n",
       "      <th>1</th>\n",
       "      <td>1000003930</td>\n",
       "      <td>Greeting From Earth: ZGAC Arts Capsule For ET</td>\n",
       "      <td>Narrative Film</td>\n",
       "      <td>Film &amp; Video</td>\n",
       "      <td>USD</td>\n",
       "      <td>2017-11-01</td>\n",
       "      <td>30000.0</td>\n",
       "      <td>2017-09-02 04:43:57</td>\n",
       "      <td>2421.0</td>\n",
       "      <td>failed</td>\n",
       "      <td>15</td>\n",
       "      <td>US</td>\n",
       "      <td>100.0</td>\n",
       "      <td>2421.0</td>\n",
       "      <td>30000.00</td>\n",
       "    </tr>\n",
       "    <tr>\n",
       "      <th>2</th>\n",
       "      <td>1000004038</td>\n",
       "      <td>Where is Hank?</td>\n",
       "      <td>Narrative Film</td>\n",
       "      <td>Film &amp; Video</td>\n",
       "      <td>USD</td>\n",
       "      <td>2013-02-26</td>\n",
       "      <td>45000.0</td>\n",
       "      <td>2013-01-12 00:20:50</td>\n",
       "      <td>220.0</td>\n",
       "      <td>failed</td>\n",
       "      <td>3</td>\n",
       "      <td>US</td>\n",
       "      <td>220.0</td>\n",
       "      <td>220.0</td>\n",
       "      <td>45000.00</td>\n",
       "    </tr>\n",
       "    <tr>\n",
       "      <th>3</th>\n",
       "      <td>1000007540</td>\n",
       "      <td>ToshiCapital Rekordz Needs Help to Complete Album</td>\n",
       "      <td>Music</td>\n",
       "      <td>Music</td>\n",
       "      <td>USD</td>\n",
       "      <td>2012-04-16</td>\n",
       "      <td>5000.0</td>\n",
       "      <td>2012-03-17 03:24:11</td>\n",
       "      <td>1.0</td>\n",
       "      <td>failed</td>\n",
       "      <td>1</td>\n",
       "      <td>US</td>\n",
       "      <td>1.0</td>\n",
       "      <td>1.0</td>\n",
       "      <td>5000.00</td>\n",
       "    </tr>\n",
       "    <tr>\n",
       "      <th>4</th>\n",
       "      <td>1000011046</td>\n",
       "      <td>Community Film Project: The Art of Neighborhoo...</td>\n",
       "      <td>Film &amp; Video</td>\n",
       "      <td>Film &amp; Video</td>\n",
       "      <td>USD</td>\n",
       "      <td>2015-08-29</td>\n",
       "      <td>19500.0</td>\n",
       "      <td>2015-07-04 08:35:03</td>\n",
       "      <td>1283.0</td>\n",
       "      <td>canceled</td>\n",
       "      <td>14</td>\n",
       "      <td>US</td>\n",
       "      <td>1283.0</td>\n",
       "      <td>1283.0</td>\n",
       "      <td>19500.00</td>\n",
       "    </tr>\n",
       "    <tr>\n",
       "      <th>...</th>\n",
       "      <td>...</td>\n",
       "      <td>...</td>\n",
       "      <td>...</td>\n",
       "      <td>...</td>\n",
       "      <td>...</td>\n",
       "      <td>...</td>\n",
       "      <td>...</td>\n",
       "      <td>...</td>\n",
       "      <td>...</td>\n",
       "      <td>...</td>\n",
       "      <td>...</td>\n",
       "      <td>...</td>\n",
       "      <td>...</td>\n",
       "      <td>...</td>\n",
       "      <td>...</td>\n",
       "    </tr>\n",
       "    <tr>\n",
       "      <th>378656</th>\n",
       "      <td>999976400</td>\n",
       "      <td>ChknTruk Nationwide Charity Drive 2014 (Canceled)</td>\n",
       "      <td>Documentary</td>\n",
       "      <td>Film &amp; Video</td>\n",
       "      <td>USD</td>\n",
       "      <td>2014-10-17</td>\n",
       "      <td>50000.0</td>\n",
       "      <td>2014-09-17 02:35:30</td>\n",
       "      <td>25.0</td>\n",
       "      <td>canceled</td>\n",
       "      <td>1</td>\n",
       "      <td>US</td>\n",
       "      <td>25.0</td>\n",
       "      <td>25.0</td>\n",
       "      <td>50000.00</td>\n",
       "    </tr>\n",
       "    <tr>\n",
       "      <th>378657</th>\n",
       "      <td>999977640</td>\n",
       "      <td>The Tribe</td>\n",
       "      <td>Narrative Film</td>\n",
       "      <td>Film &amp; Video</td>\n",
       "      <td>USD</td>\n",
       "      <td>2011-07-19</td>\n",
       "      <td>1500.0</td>\n",
       "      <td>2011-06-22 03:35:14</td>\n",
       "      <td>155.0</td>\n",
       "      <td>failed</td>\n",
       "      <td>5</td>\n",
       "      <td>US</td>\n",
       "      <td>155.0</td>\n",
       "      <td>155.0</td>\n",
       "      <td>1500.00</td>\n",
       "    </tr>\n",
       "    <tr>\n",
       "      <th>378658</th>\n",
       "      <td>999986353</td>\n",
       "      <td>Walls of Remedy- New lesbian Romantic Comedy f...</td>\n",
       "      <td>Narrative Film</td>\n",
       "      <td>Film &amp; Video</td>\n",
       "      <td>USD</td>\n",
       "      <td>2010-08-16</td>\n",
       "      <td>15000.0</td>\n",
       "      <td>2010-07-01 19:40:30</td>\n",
       "      <td>20.0</td>\n",
       "      <td>failed</td>\n",
       "      <td>1</td>\n",
       "      <td>US</td>\n",
       "      <td>20.0</td>\n",
       "      <td>20.0</td>\n",
       "      <td>15000.00</td>\n",
       "    </tr>\n",
       "    <tr>\n",
       "      <th>378659</th>\n",
       "      <td>999987933</td>\n",
       "      <td>BioDefense Education Kit</td>\n",
       "      <td>Technology</td>\n",
       "      <td>Technology</td>\n",
       "      <td>USD</td>\n",
       "      <td>2016-02-13</td>\n",
       "      <td>15000.0</td>\n",
       "      <td>2016-01-13 18:13:53</td>\n",
       "      <td>200.0</td>\n",
       "      <td>failed</td>\n",
       "      <td>6</td>\n",
       "      <td>US</td>\n",
       "      <td>200.0</td>\n",
       "      <td>200.0</td>\n",
       "      <td>15000.00</td>\n",
       "    </tr>\n",
       "    <tr>\n",
       "      <th>378660</th>\n",
       "      <td>999988282</td>\n",
       "      <td>Nou Renmen Ayiti!  We Love Haiti!</td>\n",
       "      <td>Performance Art</td>\n",
       "      <td>Art</td>\n",
       "      <td>USD</td>\n",
       "      <td>2011-08-16</td>\n",
       "      <td>2000.0</td>\n",
       "      <td>2011-07-19 09:07:47</td>\n",
       "      <td>524.0</td>\n",
       "      <td>failed</td>\n",
       "      <td>17</td>\n",
       "      <td>US</td>\n",
       "      <td>524.0</td>\n",
       "      <td>524.0</td>\n",
       "      <td>2000.00</td>\n",
       "    </tr>\n",
       "  </tbody>\n",
       "</table>\n",
       "<p>374860 rows × 15 columns</p>\n",
       "</div>"
      ],
      "text/plain": [
       "                ID                                               name  \\\n",
       "0       1000002330                    The Songs of Adelaide & Abullah   \n",
       "1       1000003930      Greeting From Earth: ZGAC Arts Capsule For ET   \n",
       "2       1000004038                                     Where is Hank?   \n",
       "3       1000007540  ToshiCapital Rekordz Needs Help to Complete Album   \n",
       "4       1000011046  Community Film Project: The Art of Neighborhoo...   \n",
       "...            ...                                                ...   \n",
       "378656   999976400  ChknTruk Nationwide Charity Drive 2014 (Canceled)   \n",
       "378657   999977640                                          The Tribe   \n",
       "378658   999986353  Walls of Remedy- New lesbian Romantic Comedy f...   \n",
       "378659   999987933                           BioDefense Education Kit   \n",
       "378660   999988282                  Nou Renmen Ayiti!  We Love Haiti!   \n",
       "\n",
       "               category main_category currency    deadline     goal  \\\n",
       "0                Poetry    Publishing      GBP  2015-10-09   1000.0   \n",
       "1        Narrative Film  Film & Video      USD  2017-11-01  30000.0   \n",
       "2        Narrative Film  Film & Video      USD  2013-02-26  45000.0   \n",
       "3                 Music         Music      USD  2012-04-16   5000.0   \n",
       "4          Film & Video  Film & Video      USD  2015-08-29  19500.0   \n",
       "...                 ...           ...      ...         ...      ...   \n",
       "378656      Documentary  Film & Video      USD  2014-10-17  50000.0   \n",
       "378657   Narrative Film  Film & Video      USD  2011-07-19   1500.0   \n",
       "378658   Narrative Film  Film & Video      USD  2010-08-16  15000.0   \n",
       "378659       Technology    Technology      USD  2016-02-13  15000.0   \n",
       "378660  Performance Art           Art      USD  2011-08-16   2000.0   \n",
       "\n",
       "                   launched  pledged     state  backers country  usd pledged  \\\n",
       "0       2015-08-11 12:12:28      0.0    failed        0      GB          0.0   \n",
       "1       2017-09-02 04:43:57   2421.0    failed       15      US        100.0   \n",
       "2       2013-01-12 00:20:50    220.0    failed        3      US        220.0   \n",
       "3       2012-03-17 03:24:11      1.0    failed        1      US          1.0   \n",
       "4       2015-07-04 08:35:03   1283.0  canceled       14      US       1283.0   \n",
       "...                     ...      ...       ...      ...     ...          ...   \n",
       "378656  2014-09-17 02:35:30     25.0  canceled        1      US         25.0   \n",
       "378657  2011-06-22 03:35:14    155.0    failed        5      US        155.0   \n",
       "378658  2010-07-01 19:40:30     20.0    failed        1      US         20.0   \n",
       "378659  2016-01-13 18:13:53    200.0    failed        6      US        200.0   \n",
       "378660  2011-07-19 09:07:47    524.0    failed       17      US        524.0   \n",
       "\n",
       "        usd_pledged_real  usd_goal_real  \n",
       "0                    0.0        1533.95  \n",
       "1                 2421.0       30000.00  \n",
       "2                  220.0       45000.00  \n",
       "3                    1.0        5000.00  \n",
       "4                 1283.0       19500.00  \n",
       "...                  ...            ...  \n",
       "378656              25.0       50000.00  \n",
       "378657             155.0        1500.00  \n",
       "378658              20.0       15000.00  \n",
       "378659             200.0       15000.00  \n",
       "378660             524.0        2000.00  \n",
       "\n",
       "[374860 rows x 15 columns]"
      ]
     },
     "execution_count": 11,
     "metadata": {},
     "output_type": "execute_result"
    }
   ],
   "source": [
    "df.dropna()"
   ]
  },
  {
   "cell_type": "markdown",
   "id": "ed14415e",
   "metadata": {},
   "source": [
    "# Counting how many currency is used :\n",
    "It is given that USD has the most currency used on funding a projects.\n",
    "\n",
    "The ranked can be given above below."
   ]
  },
  {
   "cell_type": "code",
   "execution_count": 12,
   "id": "2c608824",
   "metadata": {
    "scrolled": false
   },
   "outputs": [
    {
     "data": {
      "text/plain": [
       "USD    295365\n",
       "GBP     34132\n",
       "EUR     17405\n",
       "CAD     14962\n",
       "AUD      7950\n",
       "SEK      1788\n",
       "MXN      1752\n",
       "NZD      1475\n",
       "DKK      1129\n",
       "CHF       768\n",
       "NOK       722\n",
       "HKD       618\n",
       "SGD       555\n",
       "JPY        40\n",
       "Name: currency, dtype: int64"
      ]
     },
     "execution_count": 12,
     "metadata": {},
     "output_type": "execute_result"
    }
   ],
   "source": [
    "currency = df['currency'].value_counts()\n",
    "currency"
   ]
  },
  {
   "cell_type": "code",
   "execution_count": 13,
   "id": "fb9b5ec6",
   "metadata": {},
   "outputs": [
    {
     "data": {
      "text/plain": [
       "<AxesSubplot:>"
      ]
     },
     "execution_count": 13,
     "metadata": {},
     "output_type": "execute_result"
    },
    {
     "data": {
      "image/png": "[encoded data removed]",
      "text/plain": [
       "<Figure size 432x288 with 1 Axes>"
      ]
     },
     "metadata": {
      "needs_background": "light"
     },
     "output_type": "display_data"
    }
   ],
   "source": [
    "currency.plot.bar()"
   ]
  },
  {
   "cell_type": "code",
   "execution_count": 14,
   "id": "f0c650c5",
   "metadata": {},
   "outputs": [
    {
     "data": {
      "text/plain": [
       "USD    78.0%\n",
       "GBP     9.0%\n",
       "EUR     4.6%\n",
       "CAD     4.0%\n",
       "AUD     2.1%\n",
       "SEK     0.5%\n",
       "MXN     0.5%\n",
       "NZD     0.4%\n",
       "DKK     0.3%\n",
       "CHF     0.2%\n",
       "NOK     0.2%\n",
       "HKD     0.2%\n",
       "SGD     0.1%\n",
       "JPY     0.0%\n",
       "Name: currency, dtype: object"
      ]
     },
     "execution_count": 14,
     "metadata": {},
     "output_type": "execute_result"
    }
   ],
   "source": [
    "currencypercentage = (df['currency'].value_counts(normalize=True) * 100).round(1)\n",
    "currencypercentage = currencypercentage.astype(str) + '%'\n",
    "currencypercentage"
   ]
  },
  {
   "cell_type": "code",
   "execution_count": 15,
   "id": "63882a3c",
   "metadata": {
    "scrolled": true
   },
   "outputs": [
    {
     "data": {
      "text/html": [
       "<div>\n",
       "<style scoped>\n",
       "    .dataframe tbody tr th:only-of-type {\n",
       "        vertical-align: middle;\n",
       "    }\n",
       "\n",
       "    .dataframe tbody tr th {\n",
       "        vertical-align: top;\n",
       "    }\n",
       "\n",
       "    .dataframe thead th {\n",
       "        text-align: right;\n",
       "    }\n",
       "</style>\n",
       "<table border=\"1\" class=\"dataframe\">\n",
       "  <thead>\n",
       "    <tr style=\"text-align: right;\">\n",
       "      <th></th>\n",
       "      <th>currency</th>\n",
       "      <th>usd pledged</th>\n",
       "    </tr>\n",
       "  </thead>\n",
       "  <tbody>\n",
       "    <tr>\n",
       "      <th>0</th>\n",
       "      <td>GBP</td>\n",
       "      <td>0.0</td>\n",
       "    </tr>\n",
       "    <tr>\n",
       "      <th>1</th>\n",
       "      <td>USD</td>\n",
       "      <td>100.0</td>\n",
       "    </tr>\n",
       "    <tr>\n",
       "      <th>2</th>\n",
       "      <td>USD</td>\n",
       "      <td>220.0</td>\n",
       "    </tr>\n",
       "    <tr>\n",
       "      <th>3</th>\n",
       "      <td>USD</td>\n",
       "      <td>1.0</td>\n",
       "    </tr>\n",
       "    <tr>\n",
       "      <th>4</th>\n",
       "      <td>USD</td>\n",
       "      <td>1283.0</td>\n",
       "    </tr>\n",
       "    <tr>\n",
       "      <th>...</th>\n",
       "      <td>...</td>\n",
       "      <td>...</td>\n",
       "    </tr>\n",
       "    <tr>\n",
       "      <th>378656</th>\n",
       "      <td>USD</td>\n",
       "      <td>25.0</td>\n",
       "    </tr>\n",
       "    <tr>\n",
       "      <th>378657</th>\n",
       "      <td>USD</td>\n",
       "      <td>155.0</td>\n",
       "    </tr>\n",
       "    <tr>\n",
       "      <th>378658</th>\n",
       "      <td>USD</td>\n",
       "      <td>20.0</td>\n",
       "    </tr>\n",
       "    <tr>\n",
       "      <th>378659</th>\n",
       "      <td>USD</td>\n",
       "      <td>200.0</td>\n",
       "    </tr>\n",
       "    <tr>\n",
       "      <th>378660</th>\n",
       "      <td>USD</td>\n",
       "      <td>524.0</td>\n",
       "    </tr>\n",
       "  </tbody>\n",
       "</table>\n",
       "<p>378661 rows × 2 columns</p>\n",
       "</div>"
      ],
      "text/plain": [
       "       currency  usd pledged\n",
       "0           GBP          0.0\n",
       "1           USD        100.0\n",
       "2           USD        220.0\n",
       "3           USD          1.0\n",
       "4           USD       1283.0\n",
       "...         ...          ...\n",
       "378656      USD         25.0\n",
       "378657      USD        155.0\n",
       "378658      USD         20.0\n",
       "378659      USD        200.0\n",
       "378660      USD        524.0\n",
       "\n",
       "[378661 rows x 2 columns]"
      ]
     },
     "execution_count": 15,
     "metadata": {},
     "output_type": "execute_result"
    }
   ],
   "source": [
    "df1 = df[['currency', 'usd pledged']]\n",
    "df1"
   ]
  },
  {
   "cell_type": "markdown",
   "id": "5c73ad79",
   "metadata": {},
   "source": [
    "# Comparing the pledge based on their currencies if there is any differences :\n",
    "- From this analysis, I decided to use the pledged, I decided to use 'usd pledged' since it is already converted to USD currencies so it is easier to analyze and taking conclusion."
   ]
  },
  {
   "cell_type": "code",
   "execution_count": 16,
   "id": "bc637719",
   "metadata": {},
   "outputs": [],
   "source": [
    "df1othercurren = df1.loc[(df1['currency'] != 'USD') & (df1['usd pledged'] != 0)]"
   ]
  },
  {
   "cell_type": "code",
   "execution_count": 17,
   "id": "59a85b0e",
   "metadata": {
    "scrolled": false
   },
   "outputs": [],
   "source": [
    "df1currenUSD= df1.loc[(df1['currency'] == 'USD') & (df1['usd pledged'] != 0)]"
   ]
  },
  {
   "cell_type": "code",
   "execution_count": 18,
   "id": "e3cb205e",
   "metadata": {},
   "outputs": [
    {
     "data": {
      "text/plain": [
       "[       currency  usd pledged\n",
       " 14          GBP     57763.78\n",
       " 23          NOK         6.18\n",
       " 27          CAD     43203.25\n",
       " 28          GBP       167.70\n",
       " 30          GBP        32.42\n",
       " ...         ...          ...\n",
       " 378636      CAD      4814.88\n",
       " 378642      EUR        66.72\n",
       " 378645      GBP      4281.15\n",
       " 378651      CAD      5019.92\n",
       " 378652      NOK      2698.97\n",
       " \n",
       " [63845 rows x 2 columns],\n",
       "        currency  usd pledged\n",
       " 1           USD        100.0\n",
       " 2           USD        220.0\n",
       " 3           USD          1.0\n",
       " 4           USD       1283.0\n",
       " 5           USD      52375.0\n",
       " ...         ...          ...\n",
       " 378656      USD         25.0\n",
       " 378657      USD        155.0\n",
       " 378658      USD         20.0\n",
       " 378659      USD        200.0\n",
       " 378660      USD        524.0\n",
       " \n",
       " [246704 rows x 2 columns]]"
      ]
     },
     "execution_count": 18,
     "metadata": {},
     "output_type": "execute_result"
    }
   ],
   "source": [
    "df1currency = [df1othercurren, df1currenUSD]\n",
    "df1currency"
   ]
  },
  {
   "cell_type": "code",
   "execution_count": 19,
   "id": "0497629b",
   "metadata": {},
   "outputs": [],
   "source": [
    "df2= df[['currency', 'pledged']]"
   ]
  },
  {
   "cell_type": "code",
   "execution_count": 20,
   "id": "41fb72ad",
   "metadata": {},
   "outputs": [],
   "source": [
    "df2othercurren = df2.loc[(df2['currency'] != 'USD') & (df2['pledged'] != 0)]"
   ]
  },
  {
   "cell_type": "code",
   "execution_count": 21,
   "id": "6373cb7b",
   "metadata": {},
   "outputs": [],
   "source": [
    "df2currenUSD = df2.loc[(df2['currency'] == 'USD') & (df2['pledged'] != 0)]"
   ]
  },
  {
   "cell_type": "code",
   "execution_count": 22,
   "id": "c4da678a",
   "metadata": {
    "scrolled": true
   },
   "outputs": [
    {
     "data": {
      "text/plain": [
       "[       currency   pledged\n",
       " 14          GBP  94175.00\n",
       " 21          AUD      1.00\n",
       " 23          NOK     48.00\n",
       " 27          CAD  48905.00\n",
       " 28          GBP    112.38\n",
       " ...         ...       ...\n",
       " 378636      CAD   5435.00\n",
       " 378642      EUR   1246.00\n",
       " 378645      GBP   2738.00\n",
       " 378651      CAD   5501.00\n",
       " 378652      NOK  21500.00\n",
       " \n",
       " [69495 rows x 2 columns],\n",
       "        currency  pledged\n",
       " 1           USD   2421.0\n",
       " 2           USD    220.0\n",
       " 3           USD      1.0\n",
       " 4           USD   1283.0\n",
       " 5           USD  52375.0\n",
       " ...         ...      ...\n",
       " 378656      USD     25.0\n",
       " 378657      USD    155.0\n",
       " 378658      USD     20.0\n",
       " 378659      USD    200.0\n",
       " 378660      USD    524.0\n",
       " \n",
       " [256639 rows x 2 columns]]"
      ]
     },
     "execution_count": 22,
     "metadata": {},
     "output_type": "execute_result"
    }
   ],
   "source": [
    "df2tot = [df2othercurren, df2currenUSD]\n",
    "df2tot"
   ]
  },
  {
   "cell_type": "markdown",
   "id": "0e02e223",
   "metadata": {},
   "source": [
    "Comparing 2 columns, usd pledged and the real usd pledged if there is any differences, turns out there is some differences between them."
   ]
  },
  {
   "cell_type": "markdown",
   "id": "7fbb2695",
   "metadata": {},
   "source": [
    "# Range :\n",
    "range between the 'usd pledged' and 'usd_pledged_real' ;"
   ]
  },
  {
   "cell_type": "code",
   "execution_count": 23,
   "id": "879ed407",
   "metadata": {
    "scrolled": true
   },
   "outputs": [
    {
     "data": {
      "text/plain": [
       "0            0.0\n",
       "1        -2321.0\n",
       "2            0.0\n",
       "3            0.0\n",
       "4            0.0\n",
       "           ...  \n",
       "378656       0.0\n",
       "378657       0.0\n",
       "378658       0.0\n",
       "378659       0.0\n",
       "378660       0.0\n",
       "Length: 378661, dtype: float64"
      ]
     },
     "execution_count": 23,
     "metadata": {},
     "output_type": "execute_result"
    }
   ],
   "source": [
    "dfcompareusd = df['usd pledged'] - df['usd_pledged_real']\n",
    "dfcompareusd"
   ]
  },
  {
   "cell_type": "code",
   "execution_count": 24,
   "id": "85aaa8dc",
   "metadata": {
    "scrolled": true
   },
   "outputs": [],
   "source": [
    "df['launched_year'] = df['launched'].str[:4]"
   ]
  },
  {
   "cell_type": "code",
   "execution_count": 25,
   "id": "f099673d",
   "metadata": {},
   "outputs": [],
   "source": [
    "df['launched_year'] = df['launched_year'].astype(str).astype(int)"
   ]
  },
  {
   "cell_type": "markdown",
   "id": "46696753",
   "metadata": {},
   "source": [
    "Creating a new column called pledge_goal_range to find the range between the pledged given and the goal.\n",
    "\n",
    "NB : same as state which define successful/failed, etc.\n",
    "\n",
    "Difference; the pledge_goal_range is characterized as numeric variable."
   ]
  },
  {
   "cell_type": "code",
   "execution_count": 26,
   "id": "6edc7713",
   "metadata": {},
   "outputs": [],
   "source": [
    "df['pledge_goal_range'] = df['usd pledged'] - df['usd_goal_real']"
   ]
  },
  {
   "cell_type": "code",
   "execution_count": 27,
   "id": "58026bd0",
   "metadata": {
    "scrolled": false
   },
   "outputs": [
    {
     "data": {
      "text/plain": [
       "<AxesSubplot:>"
      ]
     },
     "execution_count": 27,
     "metadata": {},
     "output_type": "execute_result"
    },
    {
     "data": {
      "image/png": "[encoded data removed]",
      "text/plain": [
       "<Figure size 432x288 with 1 Axes>"
      ]
     },
     "metadata": {
      "needs_background": "light"
     },
     "output_type": "display_data"
    }
   ],
   "source": [
    "df['pledge_goal_range'].plot.box()"
   ]
  },
  {
   "cell_type": "markdown",
   "id": "37eba962",
   "metadata": {},
   "source": [
    "As the boxplot show on the above,\n",
    "the green line shows that the funding is successful. (meaning that range has 0, goal has been reached.)\n",
    "\n",
    "Below the green line, shows the projects that has failed to attain their funding goals.\n",
    "\n",
    "above the green line shows that the funding surpass way more than their goals."
   ]
  },
  {
   "cell_type": "markdown",
   "id": "b04089ee",
   "metadata": {},
   "source": [
    "# Comparing the boxplot with the dataframe."
   ]
  },
  {
   "cell_type": "code",
   "execution_count": 28,
   "id": "51297e63",
   "metadata": {},
   "outputs": [
    {
     "data": {
      "text/plain": [
       "failed        197719\n",
       "successful    133956\n",
       "canceled       38779\n",
       "undefined       3562\n",
       "live            2799\n",
       "suspended       1846\n",
       "Name: state, dtype: int64"
      ]
     },
     "execution_count": 28,
     "metadata": {},
     "output_type": "execute_result"
    }
   ],
   "source": [
    "df['state'].value_counts()"
   ]
  },
  {
   "cell_type": "markdown",
   "id": "605aa752",
   "metadata": {},
   "source": [
    "All the failed is shown below < 0 and the successful is showed as > 0."
   ]
  },
  {
   "cell_type": "code",
   "execution_count": 29,
   "id": "526f89d9",
   "metadata": {
    "scrolled": true
   },
   "outputs": [
    {
     "data": {
      "text/html": [
       "<div>\n",
       "<style scoped>\n",
       "    .dataframe tbody tr th:only-of-type {\n",
       "        vertical-align: middle;\n",
       "    }\n",
       "\n",
       "    .dataframe tbody tr th {\n",
       "        vertical-align: top;\n",
       "    }\n",
       "\n",
       "    .dataframe thead th {\n",
       "        text-align: right;\n",
       "    }\n",
       "</style>\n",
       "<table border=\"1\" class=\"dataframe\">\n",
       "  <thead>\n",
       "    <tr style=\"text-align: right;\">\n",
       "      <th></th>\n",
       "      <th>pledge_goal_range</th>\n",
       "      <th>state</th>\n",
       "    </tr>\n",
       "  </thead>\n",
       "  <tbody>\n",
       "    <tr>\n",
       "      <th>0</th>\n",
       "      <td>-1533.95</td>\n",
       "      <td>failed</td>\n",
       "    </tr>\n",
       "    <tr>\n",
       "      <th>1</th>\n",
       "      <td>-29900.00</td>\n",
       "      <td>failed</td>\n",
       "    </tr>\n",
       "    <tr>\n",
       "      <th>2</th>\n",
       "      <td>-44780.00</td>\n",
       "      <td>failed</td>\n",
       "    </tr>\n",
       "    <tr>\n",
       "      <th>3</th>\n",
       "      <td>-4999.00</td>\n",
       "      <td>failed</td>\n",
       "    </tr>\n",
       "    <tr>\n",
       "      <th>4</th>\n",
       "      <td>-18217.00</td>\n",
       "      <td>canceled</td>\n",
       "    </tr>\n",
       "    <tr>\n",
       "      <th>...</th>\n",
       "      <td>...</td>\n",
       "      <td>...</td>\n",
       "    </tr>\n",
       "    <tr>\n",
       "      <th>378656</th>\n",
       "      <td>-49975.00</td>\n",
       "      <td>canceled</td>\n",
       "    </tr>\n",
       "    <tr>\n",
       "      <th>378657</th>\n",
       "      <td>-1345.00</td>\n",
       "      <td>failed</td>\n",
       "    </tr>\n",
       "    <tr>\n",
       "      <th>378658</th>\n",
       "      <td>-14980.00</td>\n",
       "      <td>failed</td>\n",
       "    </tr>\n",
       "    <tr>\n",
       "      <th>378659</th>\n",
       "      <td>-14800.00</td>\n",
       "      <td>failed</td>\n",
       "    </tr>\n",
       "    <tr>\n",
       "      <th>378660</th>\n",
       "      <td>-1476.00</td>\n",
       "      <td>failed</td>\n",
       "    </tr>\n",
       "  </tbody>\n",
       "</table>\n",
       "<p>378661 rows × 2 columns</p>\n",
       "</div>"
      ],
      "text/plain": [
       "        pledge_goal_range     state\n",
       "0                -1533.95    failed\n",
       "1               -29900.00    failed\n",
       "2               -44780.00    failed\n",
       "3                -4999.00    failed\n",
       "4               -18217.00  canceled\n",
       "...                   ...       ...\n",
       "378656          -49975.00  canceled\n",
       "378657           -1345.00    failed\n",
       "378658          -14980.00    failed\n",
       "378659          -14800.00    failed\n",
       "378660           -1476.00    failed\n",
       "\n",
       "[378661 rows x 2 columns]"
      ]
     },
     "execution_count": 29,
     "metadata": {},
     "output_type": "execute_result"
    }
   ],
   "source": [
    "pledgegoalrange = df[['pledge_goal_range','state']]\n",
    "pledgegoalrange"
   ]
  },
  {
   "cell_type": "code",
   "execution_count": 30,
   "id": "902235d9",
   "metadata": {
    "scrolled": false
   },
   "outputs": [
    {
     "data": {
      "text/html": [
       "<div>\n",
       "<style scoped>\n",
       "    .dataframe tbody tr th:only-of-type {\n",
       "        vertical-align: middle;\n",
       "    }\n",
       "\n",
       "    .dataframe tbody tr th {\n",
       "        vertical-align: top;\n",
       "    }\n",
       "\n",
       "    .dataframe thead th {\n",
       "        text-align: right;\n",
       "    }\n",
       "</style>\n",
       "<table border=\"1\" class=\"dataframe\">\n",
       "  <thead>\n",
       "    <tr style=\"text-align: right;\">\n",
       "      <th></th>\n",
       "      <th>state</th>\n",
       "    </tr>\n",
       "    <tr>\n",
       "      <th>pledge_goal_range</th>\n",
       "      <th></th>\n",
       "    </tr>\n",
       "  </thead>\n",
       "  <tbody>\n",
       "    <tr>\n",
       "      <th>-1.663614e+08</th>\n",
       "      <td>failed</td>\n",
       "    </tr>\n",
       "    <tr>\n",
       "      <th>-1.513959e+08</th>\n",
       "      <td>failed</td>\n",
       "    </tr>\n",
       "    <tr>\n",
       "      <th>-1.101698e+08</th>\n",
       "      <td>failed</td>\n",
       "    </tr>\n",
       "    <tr>\n",
       "      <th>-1.073699e+08</th>\n",
       "      <td>failed</td>\n",
       "    </tr>\n",
       "    <tr>\n",
       "      <th>-1.040572e+08</th>\n",
       "      <td>failed</td>\n",
       "    </tr>\n",
       "    <tr>\n",
       "      <th>...</th>\n",
       "      <td>...</td>\n",
       "    </tr>\n",
       "    <tr>\n",
       "      <th>9.172056e+06</th>\n",
       "      <td>successful</td>\n",
       "    </tr>\n",
       "    <tr>\n",
       "      <th>1.016685e+07</th>\n",
       "      <td>successful</td>\n",
       "    </tr>\n",
       "    <tr>\n",
       "      <th>1.177984e+07</th>\n",
       "      <td>successful</td>\n",
       "    </tr>\n",
       "    <tr>\n",
       "      <th>1.323523e+07</th>\n",
       "      <td>successful</td>\n",
       "    </tr>\n",
       "    <tr>\n",
       "      <th>1.983899e+07</th>\n",
       "      <td>successful</td>\n",
       "    </tr>\n",
       "  </tbody>\n",
       "</table>\n",
       "<p>146522 rows × 1 columns</p>\n",
       "</div>"
      ],
      "text/plain": [
       "                        state\n",
       "pledge_goal_range            \n",
       "-1.663614e+08          failed\n",
       "-1.513959e+08          failed\n",
       "-1.101698e+08          failed\n",
       "-1.073699e+08          failed\n",
       "-1.040572e+08          failed\n",
       "...                       ...\n",
       " 9.172056e+06      successful\n",
       " 1.016685e+07      successful\n",
       " 1.177984e+07      successful\n",
       " 1.323523e+07      successful\n",
       " 1.983899e+07      successful\n",
       "\n",
       "[146522 rows x 1 columns]"
      ]
     },
     "execution_count": 30,
     "metadata": {},
     "output_type": "execute_result"
    }
   ],
   "source": [
    "pledgegoalrange.groupby(['pledge_goal_range']).max()"
   ]
  },
  {
   "cell_type": "markdown",
   "id": "6f2fdc7b",
   "metadata": {},
   "source": [
    "# Deleting columns that is not used:\n",
    "\n",
    "Decided to delete '#' columns because :\n",
    "\n",
    "- ID : it is not used.\n",
    "\n",
    "- category : since there is already category (which is more versatile than category variable), decided to use main_category.\n",
    "\n",
    "- usd_pledged_real : used usd_pledged because it is already clean(taxes,margin,etc).\n",
    "\n",
    "- pledged : decided to use usd_pledged since it is already converted to usd, so it's easier to analyze and all of the projects has the same values gotten.\n",
    "\n",
    "- country : used currency to differenciate them, since it has the same things.\n",
    "\n",
    "- name : grouped them by using main_category.\n",
    "\n",
    "- deadline : it is not used, it's already stated by 'state' column.\n",
    "\n",
    "- goal : usd_goal_real is based on USD currency values, since usd_pledged is used, it has no values differences."
   ]
  },
  {
   "cell_type": "code",
   "execution_count": 31,
   "id": "388de8dc",
   "metadata": {},
   "outputs": [],
   "source": [
    "del df['ID']\n",
    "del df['category']\n",
    "del df['usd_pledged_real']\n",
    "del df['pledged']\n",
    "del df['goal']\n",
    "del df['deadline']\n",
    "del df['launched']\n",
    "del df['name']\n",
    "del df['country']"
   ]
  },
  {
   "cell_type": "code",
   "execution_count": 32,
   "id": "df8ddec8",
   "metadata": {
    "scrolled": false
   },
   "outputs": [
    {
     "data": {
      "text/html": [
       "<div>\n",
       "<style scoped>\n",
       "    .dataframe tbody tr th:only-of-type {\n",
       "        vertical-align: middle;\n",
       "    }\n",
       "\n",
       "    .dataframe tbody tr th {\n",
       "        vertical-align: top;\n",
       "    }\n",
       "\n",
       "    .dataframe thead th {\n",
       "        text-align: right;\n",
       "    }\n",
       "</style>\n",
       "<table border=\"1\" class=\"dataframe\">\n",
       "  <thead>\n",
       "    <tr style=\"text-align: right;\">\n",
       "      <th></th>\n",
       "      <th>main_category</th>\n",
       "      <th>currency</th>\n",
       "      <th>state</th>\n",
       "      <th>backers</th>\n",
       "      <th>usd pledged</th>\n",
       "      <th>usd_goal_real</th>\n",
       "      <th>launched_year</th>\n",
       "      <th>pledge_goal_range</th>\n",
       "    </tr>\n",
       "  </thead>\n",
       "  <tbody>\n",
       "    <tr>\n",
       "      <th>0</th>\n",
       "      <td>Publishing</td>\n",
       "      <td>GBP</td>\n",
       "      <td>failed</td>\n",
       "      <td>0</td>\n",
       "      <td>0.0</td>\n",
       "      <td>1533.95</td>\n",
       "      <td>2015</td>\n",
       "      <td>-1533.95</td>\n",
       "    </tr>\n",
       "    <tr>\n",
       "      <th>1</th>\n",
       "      <td>Film &amp; Video</td>\n",
       "      <td>USD</td>\n",
       "      <td>failed</td>\n",
       "      <td>15</td>\n",
       "      <td>100.0</td>\n",
       "      <td>30000.00</td>\n",
       "      <td>2017</td>\n",
       "      <td>-29900.00</td>\n",
       "    </tr>\n",
       "    <tr>\n",
       "      <th>2</th>\n",
       "      <td>Film &amp; Video</td>\n",
       "      <td>USD</td>\n",
       "      <td>failed</td>\n",
       "      <td>3</td>\n",
       "      <td>220.0</td>\n",
       "      <td>45000.00</td>\n",
       "      <td>2013</td>\n",
       "      <td>-44780.00</td>\n",
       "    </tr>\n",
       "    <tr>\n",
       "      <th>3</th>\n",
       "      <td>Music</td>\n",
       "      <td>USD</td>\n",
       "      <td>failed</td>\n",
       "      <td>1</td>\n",
       "      <td>1.0</td>\n",
       "      <td>5000.00</td>\n",
       "      <td>2012</td>\n",
       "      <td>-4999.00</td>\n",
       "    </tr>\n",
       "    <tr>\n",
       "      <th>4</th>\n",
       "      <td>Film &amp; Video</td>\n",
       "      <td>USD</td>\n",
       "      <td>canceled</td>\n",
       "      <td>14</td>\n",
       "      <td>1283.0</td>\n",
       "      <td>19500.00</td>\n",
       "      <td>2015</td>\n",
       "      <td>-18217.00</td>\n",
       "    </tr>\n",
       "    <tr>\n",
       "      <th>...</th>\n",
       "      <td>...</td>\n",
       "      <td>...</td>\n",
       "      <td>...</td>\n",
       "      <td>...</td>\n",
       "      <td>...</td>\n",
       "      <td>...</td>\n",
       "      <td>...</td>\n",
       "      <td>...</td>\n",
       "    </tr>\n",
       "    <tr>\n",
       "      <th>378656</th>\n",
       "      <td>Film &amp; Video</td>\n",
       "      <td>USD</td>\n",
       "      <td>canceled</td>\n",
       "      <td>1</td>\n",
       "      <td>25.0</td>\n",
       "      <td>50000.00</td>\n",
       "      <td>2014</td>\n",
       "      <td>-49975.00</td>\n",
       "    </tr>\n",
       "    <tr>\n",
       "      <th>378657</th>\n",
       "      <td>Film &amp; Video</td>\n",
       "      <td>USD</td>\n",
       "      <td>failed</td>\n",
       "      <td>5</td>\n",
       "      <td>155.0</td>\n",
       "      <td>1500.00</td>\n",
       "      <td>2011</td>\n",
       "      <td>-1345.00</td>\n",
       "    </tr>\n",
       "    <tr>\n",
       "      <th>378658</th>\n",
       "      <td>Film &amp; Video</td>\n",
       "      <td>USD</td>\n",
       "      <td>failed</td>\n",
       "      <td>1</td>\n",
       "      <td>20.0</td>\n",
       "      <td>15000.00</td>\n",
       "      <td>2010</td>\n",
       "      <td>-14980.00</td>\n",
       "    </tr>\n",
       "    <tr>\n",
       "      <th>378659</th>\n",
       "      <td>Technology</td>\n",
       "      <td>USD</td>\n",
       "      <td>failed</td>\n",
       "      <td>6</td>\n",
       "      <td>200.0</td>\n",
       "      <td>15000.00</td>\n",
       "      <td>2016</td>\n",
       "      <td>-14800.00</td>\n",
       "    </tr>\n",
       "    <tr>\n",
       "      <th>378660</th>\n",
       "      <td>Art</td>\n",
       "      <td>USD</td>\n",
       "      <td>failed</td>\n",
       "      <td>17</td>\n",
       "      <td>524.0</td>\n",
       "      <td>2000.00</td>\n",
       "      <td>2011</td>\n",
       "      <td>-1476.00</td>\n",
       "    </tr>\n",
       "  </tbody>\n",
       "</table>\n",
       "<p>378661 rows × 8 columns</p>\n",
       "</div>"
      ],
      "text/plain": [
       "       main_category currency     state  backers  usd pledged  usd_goal_real  \\\n",
       "0         Publishing      GBP    failed        0          0.0        1533.95   \n",
       "1       Film & Video      USD    failed       15        100.0       30000.00   \n",
       "2       Film & Video      USD    failed        3        220.0       45000.00   \n",
       "3              Music      USD    failed        1          1.0        5000.00   \n",
       "4       Film & Video      USD  canceled       14       1283.0       19500.00   \n",
       "...              ...      ...       ...      ...          ...            ...   \n",
       "378656  Film & Video      USD  canceled        1         25.0       50000.00   \n",
       "378657  Film & Video      USD    failed        5        155.0        1500.00   \n",
       "378658  Film & Video      USD    failed        1         20.0       15000.00   \n",
       "378659    Technology      USD    failed        6        200.0       15000.00   \n",
       "378660           Art      USD    failed       17        524.0        2000.00   \n",
       "\n",
       "        launched_year  pledge_goal_range  \n",
       "0                2015           -1533.95  \n",
       "1                2017          -29900.00  \n",
       "2                2013          -44780.00  \n",
       "3                2012           -4999.00  \n",
       "4                2015          -18217.00  \n",
       "...               ...                ...  \n",
       "378656           2014          -49975.00  \n",
       "378657           2011           -1345.00  \n",
       "378658           2010          -14980.00  \n",
       "378659           2016          -14800.00  \n",
       "378660           2011           -1476.00  \n",
       "\n",
       "[378661 rows x 8 columns]"
      ]
     },
     "execution_count": 32,
     "metadata": {},
     "output_type": "execute_result"
    }
   ],
   "source": [
    "df"
   ]
  },
  {
   "cell_type": "code",
   "execution_count": 33,
   "id": "d6cebb53",
   "metadata": {},
   "outputs": [
    {
     "data": {
      "text/plain": [
       "failed        197719\n",
       "successful    133956\n",
       "canceled       38779\n",
       "undefined       3562\n",
       "live            2799\n",
       "suspended       1846\n",
       "Name: state, dtype: int64"
      ]
     },
     "execution_count": 33,
     "metadata": {},
     "output_type": "execute_result"
    }
   ],
   "source": [
    "df['state'].value_counts()"
   ]
  },
  {
   "cell_type": "markdown",
   "id": "b7a44a69",
   "metadata": {},
   "source": [
    "More cleaning :\n",
    "deleted the row on column 'state' until 'successful' and 'failed' is left. (For later use)"
   ]
  },
  {
   "cell_type": "code",
   "execution_count": 34,
   "id": "83c8644d",
   "metadata": {
    "scrolled": true
   },
   "outputs": [
    {
     "data": {
      "text/html": [
       "<div>\n",
       "<style scoped>\n",
       "    .dataframe tbody tr th:only-of-type {\n",
       "        vertical-align: middle;\n",
       "    }\n",
       "\n",
       "    .dataframe tbody tr th {\n",
       "        vertical-align: top;\n",
       "    }\n",
       "\n",
       "    .dataframe thead th {\n",
       "        text-align: right;\n",
       "    }\n",
       "</style>\n",
       "<table border=\"1\" class=\"dataframe\">\n",
       "  <thead>\n",
       "    <tr style=\"text-align: right;\">\n",
       "      <th></th>\n",
       "      <th>main_category</th>\n",
       "      <th>currency</th>\n",
       "      <th>state</th>\n",
       "      <th>backers</th>\n",
       "      <th>usd pledged</th>\n",
       "      <th>usd_goal_real</th>\n",
       "      <th>launched_year</th>\n",
       "      <th>pledge_goal_range</th>\n",
       "    </tr>\n",
       "  </thead>\n",
       "  <tbody>\n",
       "    <tr>\n",
       "      <th>0</th>\n",
       "      <td>Publishing</td>\n",
       "      <td>GBP</td>\n",
       "      <td>failed</td>\n",
       "      <td>0</td>\n",
       "      <td>0.0</td>\n",
       "      <td>1533.95</td>\n",
       "      <td>2015</td>\n",
       "      <td>-1533.95</td>\n",
       "    </tr>\n",
       "    <tr>\n",
       "      <th>1</th>\n",
       "      <td>Film &amp; Video</td>\n",
       "      <td>USD</td>\n",
       "      <td>failed</td>\n",
       "      <td>15</td>\n",
       "      <td>100.0</td>\n",
       "      <td>30000.00</td>\n",
       "      <td>2017</td>\n",
       "      <td>-29900.00</td>\n",
       "    </tr>\n",
       "    <tr>\n",
       "      <th>2</th>\n",
       "      <td>Film &amp; Video</td>\n",
       "      <td>USD</td>\n",
       "      <td>failed</td>\n",
       "      <td>3</td>\n",
       "      <td>220.0</td>\n",
       "      <td>45000.00</td>\n",
       "      <td>2013</td>\n",
       "      <td>-44780.00</td>\n",
       "    </tr>\n",
       "    <tr>\n",
       "      <th>3</th>\n",
       "      <td>Music</td>\n",
       "      <td>USD</td>\n",
       "      <td>failed</td>\n",
       "      <td>1</td>\n",
       "      <td>1.0</td>\n",
       "      <td>5000.00</td>\n",
       "      <td>2012</td>\n",
       "      <td>-4999.00</td>\n",
       "    </tr>\n",
       "    <tr>\n",
       "      <th>5</th>\n",
       "      <td>Food</td>\n",
       "      <td>USD</td>\n",
       "      <td>successful</td>\n",
       "      <td>224</td>\n",
       "      <td>52375.0</td>\n",
       "      <td>50000.00</td>\n",
       "      <td>2016</td>\n",
       "      <td>2375.00</td>\n",
       "    </tr>\n",
       "    <tr>\n",
       "      <th>...</th>\n",
       "      <td>...</td>\n",
       "      <td>...</td>\n",
       "      <td>...</td>\n",
       "      <td>...</td>\n",
       "      <td>...</td>\n",
       "      <td>...</td>\n",
       "      <td>...</td>\n",
       "      <td>...</td>\n",
       "    </tr>\n",
       "    <tr>\n",
       "      <th>378654</th>\n",
       "      <td>Food</td>\n",
       "      <td>USD</td>\n",
       "      <td>failed</td>\n",
       "      <td>4</td>\n",
       "      <td>0.0</td>\n",
       "      <td>6500.00</td>\n",
       "      <td>2017</td>\n",
       "      <td>-6500.00</td>\n",
       "    </tr>\n",
       "    <tr>\n",
       "      <th>378657</th>\n",
       "      <td>Film &amp; Video</td>\n",
       "      <td>USD</td>\n",
       "      <td>failed</td>\n",
       "      <td>5</td>\n",
       "      <td>155.0</td>\n",
       "      <td>1500.00</td>\n",
       "      <td>2011</td>\n",
       "      <td>-1345.00</td>\n",
       "    </tr>\n",
       "    <tr>\n",
       "      <th>378658</th>\n",
       "      <td>Film &amp; Video</td>\n",
       "      <td>USD</td>\n",
       "      <td>failed</td>\n",
       "      <td>1</td>\n",
       "      <td>20.0</td>\n",
       "      <td>15000.00</td>\n",
       "      <td>2010</td>\n",
       "      <td>-14980.00</td>\n",
       "    </tr>\n",
       "    <tr>\n",
       "      <th>378659</th>\n",
       "      <td>Technology</td>\n",
       "      <td>USD</td>\n",
       "      <td>failed</td>\n",
       "      <td>6</td>\n",
       "      <td>200.0</td>\n",
       "      <td>15000.00</td>\n",
       "      <td>2016</td>\n",
       "      <td>-14800.00</td>\n",
       "    </tr>\n",
       "    <tr>\n",
       "      <th>378660</th>\n",
       "      <td>Art</td>\n",
       "      <td>USD</td>\n",
       "      <td>failed</td>\n",
       "      <td>17</td>\n",
       "      <td>524.0</td>\n",
       "      <td>2000.00</td>\n",
       "      <td>2011</td>\n",
       "      <td>-1476.00</td>\n",
       "    </tr>\n",
       "  </tbody>\n",
       "</table>\n",
       "<p>331675 rows × 8 columns</p>\n",
       "</div>"
      ],
      "text/plain": [
       "       main_category currency       state  backers  usd pledged  \\\n",
       "0         Publishing      GBP      failed        0          0.0   \n",
       "1       Film & Video      USD      failed       15        100.0   \n",
       "2       Film & Video      USD      failed        3        220.0   \n",
       "3              Music      USD      failed        1          1.0   \n",
       "5               Food      USD  successful      224      52375.0   \n",
       "...              ...      ...         ...      ...          ...   \n",
       "378654          Food      USD      failed        4          0.0   \n",
       "378657  Film & Video      USD      failed        5        155.0   \n",
       "378658  Film & Video      USD      failed        1         20.0   \n",
       "378659    Technology      USD      failed        6        200.0   \n",
       "378660           Art      USD      failed       17        524.0   \n",
       "\n",
       "        usd_goal_real  launched_year  pledge_goal_range  \n",
       "0             1533.95           2015           -1533.95  \n",
       "1            30000.00           2017          -29900.00  \n",
       "2            45000.00           2013          -44780.00  \n",
       "3             5000.00           2012           -4999.00  \n",
       "5            50000.00           2016            2375.00  \n",
       "...               ...            ...                ...  \n",
       "378654        6500.00           2017           -6500.00  \n",
       "378657        1500.00           2011           -1345.00  \n",
       "378658       15000.00           2010          -14980.00  \n",
       "378659       15000.00           2016          -14800.00  \n",
       "378660        2000.00           2011           -1476.00  \n",
       "\n",
       "[331675 rows x 8 columns]"
      ]
     },
     "execution_count": 34,
     "metadata": {},
     "output_type": "execute_result"
    }
   ],
   "source": [
    "new_df = df[(df['state'] != 'canceled') & (df['state'] != 'undefined') & (df['state'] != 'live') & (df['state'] != 'suspended')]\n",
    "new_df"
   ]
  },
  {
   "cell_type": "code",
   "execution_count": 35,
   "id": "b6434179",
   "metadata": {},
   "outputs": [
    {
     "data": {
      "text/html": [
       "<div>\n",
       "<style scoped>\n",
       "    .dataframe tbody tr th:only-of-type {\n",
       "        vertical-align: middle;\n",
       "    }\n",
       "\n",
       "    .dataframe tbody tr th {\n",
       "        vertical-align: top;\n",
       "    }\n",
       "\n",
       "    .dataframe thead th {\n",
       "        text-align: right;\n",
       "    }\n",
       "</style>\n",
       "<table border=\"1\" class=\"dataframe\">\n",
       "  <thead>\n",
       "    <tr style=\"text-align: right;\">\n",
       "      <th></th>\n",
       "      <th>main_category</th>\n",
       "      <th>currency</th>\n",
       "      <th>state</th>\n",
       "      <th>backers</th>\n",
       "      <th>usd pledged</th>\n",
       "      <th>usd_goal_real</th>\n",
       "      <th>launched_year</th>\n",
       "      <th>pledge_goal_range</th>\n",
       "    </tr>\n",
       "  </thead>\n",
       "  <tbody>\n",
       "    <tr>\n",
       "      <th>0</th>\n",
       "      <td>Publishing</td>\n",
       "      <td>GBP</td>\n",
       "      <td>failed</td>\n",
       "      <td>0</td>\n",
       "      <td>0.00</td>\n",
       "      <td>1533.95</td>\n",
       "      <td>2015</td>\n",
       "      <td>-1533.95</td>\n",
       "    </tr>\n",
       "    <tr>\n",
       "      <th>1</th>\n",
       "      <td>Film &amp; Video</td>\n",
       "      <td>USD</td>\n",
       "      <td>failed</td>\n",
       "      <td>15</td>\n",
       "      <td>100.00</td>\n",
       "      <td>30000.00</td>\n",
       "      <td>2017</td>\n",
       "      <td>-29900.00</td>\n",
       "    </tr>\n",
       "    <tr>\n",
       "      <th>5</th>\n",
       "      <td>Food</td>\n",
       "      <td>USD</td>\n",
       "      <td>successful</td>\n",
       "      <td>224</td>\n",
       "      <td>52375.00</td>\n",
       "      <td>50000.00</td>\n",
       "      <td>2016</td>\n",
       "      <td>2375.00</td>\n",
       "    </tr>\n",
       "    <tr>\n",
       "      <th>6</th>\n",
       "      <td>Food</td>\n",
       "      <td>USD</td>\n",
       "      <td>successful</td>\n",
       "      <td>16</td>\n",
       "      <td>1205.00</td>\n",
       "      <td>1000.00</td>\n",
       "      <td>2014</td>\n",
       "      <td>205.00</td>\n",
       "    </tr>\n",
       "    <tr>\n",
       "      <th>7</th>\n",
       "      <td>Food</td>\n",
       "      <td>USD</td>\n",
       "      <td>failed</td>\n",
       "      <td>40</td>\n",
       "      <td>453.00</td>\n",
       "      <td>25000.00</td>\n",
       "      <td>2016</td>\n",
       "      <td>-24547.00</td>\n",
       "    </tr>\n",
       "    <tr>\n",
       "      <th>...</th>\n",
       "      <td>...</td>\n",
       "      <td>...</td>\n",
       "      <td>...</td>\n",
       "      <td>...</td>\n",
       "      <td>...</td>\n",
       "      <td>...</td>\n",
       "      <td>...</td>\n",
       "      <td>...</td>\n",
       "    </tr>\n",
       "    <tr>\n",
       "      <th>378650</th>\n",
       "      <td>Technology</td>\n",
       "      <td>USD</td>\n",
       "      <td>failed</td>\n",
       "      <td>0</td>\n",
       "      <td>0.00</td>\n",
       "      <td>6000.00</td>\n",
       "      <td>2016</td>\n",
       "      <td>-6000.00</td>\n",
       "    </tr>\n",
       "    <tr>\n",
       "      <th>378651</th>\n",
       "      <td>Music</td>\n",
       "      <td>CAD</td>\n",
       "      <td>successful</td>\n",
       "      <td>78</td>\n",
       "      <td>5019.92</td>\n",
       "      <td>4529.81</td>\n",
       "      <td>2014</td>\n",
       "      <td>490.11</td>\n",
       "    </tr>\n",
       "    <tr>\n",
       "      <th>378652</th>\n",
       "      <td>Film &amp; Video</td>\n",
       "      <td>NOK</td>\n",
       "      <td>successful</td>\n",
       "      <td>36</td>\n",
       "      <td>2698.97</td>\n",
       "      <td>2675.19</td>\n",
       "      <td>2015</td>\n",
       "      <td>23.78</td>\n",
       "    </tr>\n",
       "    <tr>\n",
       "      <th>378654</th>\n",
       "      <td>Food</td>\n",
       "      <td>USD</td>\n",
       "      <td>failed</td>\n",
       "      <td>4</td>\n",
       "      <td>0.00</td>\n",
       "      <td>6500.00</td>\n",
       "      <td>2017</td>\n",
       "      <td>-6500.00</td>\n",
       "    </tr>\n",
       "    <tr>\n",
       "      <th>378659</th>\n",
       "      <td>Technology</td>\n",
       "      <td>USD</td>\n",
       "      <td>failed</td>\n",
       "      <td>6</td>\n",
       "      <td>200.00</td>\n",
       "      <td>15000.00</td>\n",
       "      <td>2016</td>\n",
       "      <td>-14800.00</td>\n",
       "    </tr>\n",
       "  </tbody>\n",
       "</table>\n",
       "<p>217289 rows × 8 columns</p>\n",
       "</div>"
      ],
      "text/plain": [
       "       main_category currency       state  backers  usd pledged  \\\n",
       "0         Publishing      GBP      failed        0         0.00   \n",
       "1       Film & Video      USD      failed       15       100.00   \n",
       "5               Food      USD  successful      224     52375.00   \n",
       "6               Food      USD  successful       16      1205.00   \n",
       "7               Food      USD      failed       40       453.00   \n",
       "...              ...      ...         ...      ...          ...   \n",
       "378650    Technology      USD      failed        0         0.00   \n",
       "378651         Music      CAD  successful       78      5019.92   \n",
       "378652  Film & Video      NOK  successful       36      2698.97   \n",
       "378654          Food      USD      failed        4         0.00   \n",
       "378659    Technology      USD      failed        6       200.00   \n",
       "\n",
       "        usd_goal_real  launched_year  pledge_goal_range  \n",
       "0             1533.95           2015           -1533.95  \n",
       "1            30000.00           2017          -29900.00  \n",
       "5            50000.00           2016            2375.00  \n",
       "6             1000.00           2014             205.00  \n",
       "7            25000.00           2016          -24547.00  \n",
       "...               ...            ...                ...  \n",
       "378650        6000.00           2016           -6000.00  \n",
       "378651        4529.81           2014             490.11  \n",
       "378652        2675.19           2015              23.78  \n",
       "378654        6500.00           2017           -6500.00  \n",
       "378659       15000.00           2016          -14800.00  \n",
       "\n",
       "[217289 rows x 8 columns]"
      ]
     },
     "execution_count": 35,
     "metadata": {},
     "output_type": "execute_result"
    }
   ],
   "source": [
    "new_df[new_df['launched_year'] >= 2014]"
   ]
  },
  {
   "cell_type": "code",
   "execution_count": 36,
   "id": "419c6820",
   "metadata": {},
   "outputs": [
    {
     "data": {
      "text/plain": [
       "failed        197719\n",
       "successful    133956\n",
       "Name: state, dtype: int64"
      ]
     },
     "execution_count": 36,
     "metadata": {},
     "output_type": "execute_result"
    }
   ],
   "source": [
    "new_df['state'].value_counts()"
   ]
  },
  {
   "cell_type": "code",
   "execution_count": 37,
   "id": "352cb769",
   "metadata": {
    "scrolled": true
   },
   "outputs": [
    {
     "data": {
      "text/plain": [
       "2015    65272\n",
       "2014    59306\n",
       "2016    49292\n",
       "2017    43419\n",
       "2013    41101\n",
       "2012    38480\n",
       "2011    24049\n",
       "2010     9577\n",
       "2009     1179\n",
       "Name: launched_year, dtype: int64"
      ]
     },
     "execution_count": 37,
     "metadata": {},
     "output_type": "execute_result"
    }
   ],
   "source": [
    "new_df['launched_year'].value_counts()"
   ]
  },
  {
   "cell_type": "code",
   "execution_count": 38,
   "id": "9ee53ca8",
   "metadata": {
    "scrolled": true
   },
   "outputs": [
    {
     "name": "stdout",
     "output_type": "stream",
     "text": [
      "Median of the launched year is : 2014.0\n"
     ]
    }
   ],
   "source": [
    "print(f\"Median of the launched year is : {new_df['launched_year'].median()}\")"
   ]
  },
  {
   "cell_type": "markdown",
   "id": "f55cc2ed",
   "metadata": {},
   "source": [
    "Used the median of the launched year to group them by separating them."
   ]
  },
  {
   "cell_type": "code",
   "execution_count": 39,
   "id": "65643ad1",
   "metadata": {},
   "outputs": [
    {
     "data": {
      "text/html": [
       "<div>\n",
       "<style scoped>\n",
       "    .dataframe tbody tr th:only-of-type {\n",
       "        vertical-align: middle;\n",
       "    }\n",
       "\n",
       "    .dataframe tbody tr th {\n",
       "        vertical-align: top;\n",
       "    }\n",
       "\n",
       "    .dataframe thead th {\n",
       "        text-align: right;\n",
       "    }\n",
       "</style>\n",
       "<table border=\"1\" class=\"dataframe\">\n",
       "  <thead>\n",
       "    <tr style=\"text-align: right;\">\n",
       "      <th></th>\n",
       "      <th>main_category</th>\n",
       "      <th>currency</th>\n",
       "      <th>state</th>\n",
       "      <th>backers</th>\n",
       "      <th>usd pledged</th>\n",
       "      <th>usd_goal_real</th>\n",
       "      <th>launched_year</th>\n",
       "      <th>pledge_goal_range</th>\n",
       "    </tr>\n",
       "  </thead>\n",
       "  <tbody>\n",
       "    <tr>\n",
       "      <th>0</th>\n",
       "      <td>Publishing</td>\n",
       "      <td>GBP</td>\n",
       "      <td>failed</td>\n",
       "      <td>0</td>\n",
       "      <td>0.00</td>\n",
       "      <td>1533.95</td>\n",
       "      <td>2015</td>\n",
       "      <td>-1533.95</td>\n",
       "    </tr>\n",
       "    <tr>\n",
       "      <th>1</th>\n",
       "      <td>Film &amp; Video</td>\n",
       "      <td>USD</td>\n",
       "      <td>failed</td>\n",
       "      <td>15</td>\n",
       "      <td>100.00</td>\n",
       "      <td>30000.00</td>\n",
       "      <td>2017</td>\n",
       "      <td>-29900.00</td>\n",
       "    </tr>\n",
       "    <tr>\n",
       "      <th>5</th>\n",
       "      <td>Food</td>\n",
       "      <td>USD</td>\n",
       "      <td>successful</td>\n",
       "      <td>224</td>\n",
       "      <td>52375.00</td>\n",
       "      <td>50000.00</td>\n",
       "      <td>2016</td>\n",
       "      <td>2375.00</td>\n",
       "    </tr>\n",
       "    <tr>\n",
       "      <th>6</th>\n",
       "      <td>Food</td>\n",
       "      <td>USD</td>\n",
       "      <td>successful</td>\n",
       "      <td>16</td>\n",
       "      <td>1205.00</td>\n",
       "      <td>1000.00</td>\n",
       "      <td>2014</td>\n",
       "      <td>205.00</td>\n",
       "    </tr>\n",
       "    <tr>\n",
       "      <th>7</th>\n",
       "      <td>Food</td>\n",
       "      <td>USD</td>\n",
       "      <td>failed</td>\n",
       "      <td>40</td>\n",
       "      <td>453.00</td>\n",
       "      <td>25000.00</td>\n",
       "      <td>2016</td>\n",
       "      <td>-24547.00</td>\n",
       "    </tr>\n",
       "    <tr>\n",
       "      <th>...</th>\n",
       "      <td>...</td>\n",
       "      <td>...</td>\n",
       "      <td>...</td>\n",
       "      <td>...</td>\n",
       "      <td>...</td>\n",
       "      <td>...</td>\n",
       "      <td>...</td>\n",
       "      <td>...</td>\n",
       "    </tr>\n",
       "    <tr>\n",
       "      <th>378650</th>\n",
       "      <td>Technology</td>\n",
       "      <td>USD</td>\n",
       "      <td>failed</td>\n",
       "      <td>0</td>\n",
       "      <td>0.00</td>\n",
       "      <td>6000.00</td>\n",
       "      <td>2016</td>\n",
       "      <td>-6000.00</td>\n",
       "    </tr>\n",
       "    <tr>\n",
       "      <th>378651</th>\n",
       "      <td>Music</td>\n",
       "      <td>CAD</td>\n",
       "      <td>successful</td>\n",
       "      <td>78</td>\n",
       "      <td>5019.92</td>\n",
       "      <td>4529.81</td>\n",
       "      <td>2014</td>\n",
       "      <td>490.11</td>\n",
       "    </tr>\n",
       "    <tr>\n",
       "      <th>378652</th>\n",
       "      <td>Film &amp; Video</td>\n",
       "      <td>NOK</td>\n",
       "      <td>successful</td>\n",
       "      <td>36</td>\n",
       "      <td>2698.97</td>\n",
       "      <td>2675.19</td>\n",
       "      <td>2015</td>\n",
       "      <td>23.78</td>\n",
       "    </tr>\n",
       "    <tr>\n",
       "      <th>378654</th>\n",
       "      <td>Food</td>\n",
       "      <td>USD</td>\n",
       "      <td>failed</td>\n",
       "      <td>4</td>\n",
       "      <td>0.00</td>\n",
       "      <td>6500.00</td>\n",
       "      <td>2017</td>\n",
       "      <td>-6500.00</td>\n",
       "    </tr>\n",
       "    <tr>\n",
       "      <th>378659</th>\n",
       "      <td>Technology</td>\n",
       "      <td>USD</td>\n",
       "      <td>failed</td>\n",
       "      <td>6</td>\n",
       "      <td>200.00</td>\n",
       "      <td>15000.00</td>\n",
       "      <td>2016</td>\n",
       "      <td>-14800.00</td>\n",
       "    </tr>\n",
       "  </tbody>\n",
       "</table>\n",
       "<p>217289 rows × 8 columns</p>\n",
       "</div>"
      ],
      "text/plain": [
       "       main_category currency       state  backers  usd pledged  \\\n",
       "0         Publishing      GBP      failed        0         0.00   \n",
       "1       Film & Video      USD      failed       15       100.00   \n",
       "5               Food      USD  successful      224     52375.00   \n",
       "6               Food      USD  successful       16      1205.00   \n",
       "7               Food      USD      failed       40       453.00   \n",
       "...              ...      ...         ...      ...          ...   \n",
       "378650    Technology      USD      failed        0         0.00   \n",
       "378651         Music      CAD  successful       78      5019.92   \n",
       "378652  Film & Video      NOK  successful       36      2698.97   \n",
       "378654          Food      USD      failed        4         0.00   \n",
       "378659    Technology      USD      failed        6       200.00   \n",
       "\n",
       "        usd_goal_real  launched_year  pledge_goal_range  \n",
       "0             1533.95           2015           -1533.95  \n",
       "1            30000.00           2017          -29900.00  \n",
       "5            50000.00           2016            2375.00  \n",
       "6             1000.00           2014             205.00  \n",
       "7            25000.00           2016          -24547.00  \n",
       "...               ...            ...                ...  \n",
       "378650        6000.00           2016           -6000.00  \n",
       "378651        4529.81           2014             490.11  \n",
       "378652        2675.19           2015              23.78  \n",
       "378654        6500.00           2017           -6500.00  \n",
       "378659       15000.00           2016          -14800.00  \n",
       "\n",
       "[217289 rows x 8 columns]"
      ]
     },
     "execution_count": 39,
     "metadata": {},
     "output_type": "execute_result"
    }
   ],
   "source": [
    "above2014 = new_df.loc[new_df['launched_year'] >= 2014]\n",
    "above2014"
   ]
  },
  {
   "cell_type": "code",
   "execution_count": 40,
   "id": "027d0f36",
   "metadata": {
    "scrolled": false
   },
   "outputs": [
    {
     "data": {
      "text/html": [
       "<div>\n",
       "<style scoped>\n",
       "    .dataframe tbody tr th:only-of-type {\n",
       "        vertical-align: middle;\n",
       "    }\n",
       "\n",
       "    .dataframe tbody tr th {\n",
       "        vertical-align: top;\n",
       "    }\n",
       "\n",
       "    .dataframe thead th {\n",
       "        text-align: right;\n",
       "    }\n",
       "</style>\n",
       "<table border=\"1\" class=\"dataframe\">\n",
       "  <thead>\n",
       "    <tr style=\"text-align: right;\">\n",
       "      <th></th>\n",
       "      <th>main_category</th>\n",
       "      <th>currency</th>\n",
       "      <th>state</th>\n",
       "      <th>backers</th>\n",
       "      <th>usd pledged</th>\n",
       "      <th>usd_goal_real</th>\n",
       "      <th>launched_year</th>\n",
       "      <th>pledge_goal_range</th>\n",
       "    </tr>\n",
       "  </thead>\n",
       "  <tbody>\n",
       "    <tr>\n",
       "      <th>2</th>\n",
       "      <td>Film &amp; Video</td>\n",
       "      <td>USD</td>\n",
       "      <td>failed</td>\n",
       "      <td>3</td>\n",
       "      <td>220.0</td>\n",
       "      <td>45000.00</td>\n",
       "      <td>2013</td>\n",
       "      <td>-44780.00</td>\n",
       "    </tr>\n",
       "    <tr>\n",
       "      <th>3</th>\n",
       "      <td>Music</td>\n",
       "      <td>USD</td>\n",
       "      <td>failed</td>\n",
       "      <td>1</td>\n",
       "      <td>1.0</td>\n",
       "      <td>5000.00</td>\n",
       "      <td>2012</td>\n",
       "      <td>-4999.00</td>\n",
       "    </tr>\n",
       "    <tr>\n",
       "      <th>10</th>\n",
       "      <td>Publishing</td>\n",
       "      <td>CAD</td>\n",
       "      <td>failed</td>\n",
       "      <td>0</td>\n",
       "      <td>0.0</td>\n",
       "      <td>2406.39</td>\n",
       "      <td>2013</td>\n",
       "      <td>-2406.39</td>\n",
       "    </tr>\n",
       "    <tr>\n",
       "      <th>11</th>\n",
       "      <td>Music</td>\n",
       "      <td>USD</td>\n",
       "      <td>successful</td>\n",
       "      <td>100</td>\n",
       "      <td>12700.0</td>\n",
       "      <td>12500.00</td>\n",
       "      <td>2013</td>\n",
       "      <td>200.00</td>\n",
       "    </tr>\n",
       "    <tr>\n",
       "      <th>18</th>\n",
       "      <td>Music</td>\n",
       "      <td>USD</td>\n",
       "      <td>successful</td>\n",
       "      <td>7</td>\n",
       "      <td>250.0</td>\n",
       "      <td>250.00</td>\n",
       "      <td>2012</td>\n",
       "      <td>0.00</td>\n",
       "    </tr>\n",
       "    <tr>\n",
       "      <th>...</th>\n",
       "      <td>...</td>\n",
       "      <td>...</td>\n",
       "      <td>...</td>\n",
       "      <td>...</td>\n",
       "      <td>...</td>\n",
       "      <td>...</td>\n",
       "      <td>...</td>\n",
       "      <td>...</td>\n",
       "    </tr>\n",
       "    <tr>\n",
       "      <th>378647</th>\n",
       "      <td>Publishing</td>\n",
       "      <td>USD</td>\n",
       "      <td>failed</td>\n",
       "      <td>16</td>\n",
       "      <td>980.0</td>\n",
       "      <td>4999.00</td>\n",
       "      <td>2012</td>\n",
       "      <td>-4019.00</td>\n",
       "    </tr>\n",
       "    <tr>\n",
       "      <th>378653</th>\n",
       "      <td>Film &amp; Video</td>\n",
       "      <td>USD</td>\n",
       "      <td>failed</td>\n",
       "      <td>1</td>\n",
       "      <td>25.0</td>\n",
       "      <td>1700.00</td>\n",
       "      <td>2012</td>\n",
       "      <td>-1675.00</td>\n",
       "    </tr>\n",
       "    <tr>\n",
       "      <th>378657</th>\n",
       "      <td>Film &amp; Video</td>\n",
       "      <td>USD</td>\n",
       "      <td>failed</td>\n",
       "      <td>5</td>\n",
       "      <td>155.0</td>\n",
       "      <td>1500.00</td>\n",
       "      <td>2011</td>\n",
       "      <td>-1345.00</td>\n",
       "    </tr>\n",
       "    <tr>\n",
       "      <th>378658</th>\n",
       "      <td>Film &amp; Video</td>\n",
       "      <td>USD</td>\n",
       "      <td>failed</td>\n",
       "      <td>1</td>\n",
       "      <td>20.0</td>\n",
       "      <td>15000.00</td>\n",
       "      <td>2010</td>\n",
       "      <td>-14980.00</td>\n",
       "    </tr>\n",
       "    <tr>\n",
       "      <th>378660</th>\n",
       "      <td>Art</td>\n",
       "      <td>USD</td>\n",
       "      <td>failed</td>\n",
       "      <td>17</td>\n",
       "      <td>524.0</td>\n",
       "      <td>2000.00</td>\n",
       "      <td>2011</td>\n",
       "      <td>-1476.00</td>\n",
       "    </tr>\n",
       "  </tbody>\n",
       "</table>\n",
       "<p>114386 rows × 8 columns</p>\n",
       "</div>"
      ],
      "text/plain": [
       "       main_category currency       state  backers  usd pledged  \\\n",
       "2       Film & Video      USD      failed        3        220.0   \n",
       "3              Music      USD      failed        1          1.0   \n",
       "10        Publishing      CAD      failed        0          0.0   \n",
       "11             Music      USD  successful      100      12700.0   \n",
       "18             Music      USD  successful        7        250.0   \n",
       "...              ...      ...         ...      ...          ...   \n",
       "378647    Publishing      USD      failed       16        980.0   \n",
       "378653  Film & Video      USD      failed        1         25.0   \n",
       "378657  Film & Video      USD      failed        5        155.0   \n",
       "378658  Film & Video      USD      failed        1         20.0   \n",
       "378660           Art      USD      failed       17        524.0   \n",
       "\n",
       "        usd_goal_real  launched_year  pledge_goal_range  \n",
       "2            45000.00           2013          -44780.00  \n",
       "3             5000.00           2012           -4999.00  \n",
       "10            2406.39           2013           -2406.39  \n",
       "11           12500.00           2013             200.00  \n",
       "18             250.00           2012               0.00  \n",
       "...               ...            ...                ...  \n",
       "378647        4999.00           2012           -4019.00  \n",
       "378653        1700.00           2012           -1675.00  \n",
       "378657        1500.00           2011           -1345.00  \n",
       "378658       15000.00           2010          -14980.00  \n",
       "378660        2000.00           2011           -1476.00  \n",
       "\n",
       "[114386 rows x 8 columns]"
      ]
     },
     "execution_count": 40,
     "metadata": {},
     "output_type": "execute_result"
    }
   ],
   "source": [
    "below2014 = new_df.loc[new_df['launched_year'] < 2014]\n",
    "below2014"
   ]
  },
  {
   "cell_type": "code",
   "execution_count": 41,
   "id": "24751ede",
   "metadata": {},
   "outputs": [
    {
     "name": "stdout",
     "output_type": "stream",
     "text": [
      "Checking if the rows is valid : 331675\n"
     ]
    },
    {
     "data": {
      "text/plain": [
       "(331675, 8)"
      ]
     },
     "execution_count": 41,
     "metadata": {},
     "output_type": "execute_result"
    }
   ],
   "source": [
    "yearabove2014 = 217289\n",
    "yearbelow2014 = 114386\n",
    "print(f\"Checking if the rows is valid : {yearabove2014 + yearbelow2014}\")\n",
    "new_df.shape"
   ]
  },
  {
   "cell_type": "markdown",
   "id": "acfccaa1",
   "metadata": {},
   "source": [
    "# Why it has a different frequency :\n",
    "As it can be seen above, the year above 2014 has 254553 values in the rows, and the year below 2014 has 124108 values. I suspect because the year 2015 and 2014 holds such a big frequency, causing the datasets to collide in 2014. However, as can be seen above, it still adds up the same rows as the real dataframe. meaning it has no values collided at all."
   ]
  },
  {
   "cell_type": "markdown",
   "id": "f8335550",
   "metadata": {},
   "source": [
    "# Statistics below the year 2014 :\n",
    "\n",
    "Measure of central tendency below 2014 :"
   ]
  },
  {
   "cell_type": "code",
   "execution_count": 42,
   "id": "1003c304",
   "metadata": {
    "scrolled": true
   },
   "outputs": [
    {
     "data": {
      "text/html": [
       "<div>\n",
       "<style scoped>\n",
       "    .dataframe tbody tr th:only-of-type {\n",
       "        vertical-align: middle;\n",
       "    }\n",
       "\n",
       "    .dataframe tbody tr th {\n",
       "        vertical-align: top;\n",
       "    }\n",
       "\n",
       "    .dataframe thead th {\n",
       "        text-align: right;\n",
       "    }\n",
       "</style>\n",
       "<table border=\"1\" class=\"dataframe\">\n",
       "  <thead>\n",
       "    <tr style=\"text-align: right;\">\n",
       "      <th></th>\n",
       "      <th>backers</th>\n",
       "      <th>usd pledged</th>\n",
       "      <th>usd_goal_real</th>\n",
       "      <th>launched_year</th>\n",
       "      <th>pledge_goal_range</th>\n",
       "    </tr>\n",
       "  </thead>\n",
       "  <tbody>\n",
       "    <tr>\n",
       "      <th>count</th>\n",
       "      <td>114386.0</td>\n",
       "      <td>114373.0</td>\n",
       "      <td>114386.0</td>\n",
       "      <td>114386.0</td>\n",
       "      <td>114373.0</td>\n",
       "    </tr>\n",
       "    <tr>\n",
       "      <th>mean</th>\n",
       "      <td>106.9</td>\n",
       "      <td>8019.5</td>\n",
       "      <td>18198.3</td>\n",
       "      <td>2012.0</td>\n",
       "      <td>-10180.4</td>\n",
       "    </tr>\n",
       "    <tr>\n",
       "      <th>std</th>\n",
       "      <td>850.7</td>\n",
       "      <td>68116.6</td>\n",
       "      <td>227438.5</td>\n",
       "      <td>1.0</td>\n",
       "      <td>232682.5</td>\n",
       "    </tr>\n",
       "    <tr>\n",
       "      <th>min</th>\n",
       "      <td>0.0</td>\n",
       "      <td>0.0</td>\n",
       "      <td>0.0</td>\n",
       "      <td>2009.0</td>\n",
       "      <td>-29972416.0</td>\n",
       "    </tr>\n",
       "    <tr>\n",
       "      <th>25%</th>\n",
       "      <td>5.0</td>\n",
       "      <td>176.0</td>\n",
       "      <td>2000.0</td>\n",
       "      <td>2011.0</td>\n",
       "      <td>-6000.0</td>\n",
       "    </tr>\n",
       "    <tr>\n",
       "      <th>50%</th>\n",
       "      <td>23.0</td>\n",
       "      <td>1331.0</td>\n",
       "      <td>5000.0</td>\n",
       "      <td>2012.0</td>\n",
       "      <td>-489.0</td>\n",
       "    </tr>\n",
       "    <tr>\n",
       "      <th>75%</th>\n",
       "      <td>68.0</td>\n",
       "      <td>5041.0</td>\n",
       "      <td>11000.0</td>\n",
       "      <td>2013.0</td>\n",
       "      <td>365.0</td>\n",
       "    </tr>\n",
       "    <tr>\n",
       "      <th>max</th>\n",
       "      <td>91585.0</td>\n",
       "      <td>10266845.7</td>\n",
       "      <td>30488734.4</td>\n",
       "      <td>2013.0</td>\n",
       "      <td>10166845.7</td>\n",
       "    </tr>\n",
       "  </tbody>\n",
       "</table>\n",
       "</div>"
      ],
      "text/plain": [
       "        backers  usd pledged  usd_goal_real  launched_year  pledge_goal_range\n",
       "count  114386.0     114373.0       114386.0       114386.0           114373.0\n",
       "mean      106.9       8019.5        18198.3         2012.0           -10180.4\n",
       "std       850.7      68116.6       227438.5            1.0           232682.5\n",
       "min         0.0          0.0            0.0         2009.0        -29972416.0\n",
       "25%         5.0        176.0         2000.0         2011.0            -6000.0\n",
       "50%        23.0       1331.0         5000.0         2012.0             -489.0\n",
       "75%        68.0       5041.0        11000.0         2013.0              365.0\n",
       "max     91585.0   10266845.7     30488734.4         2013.0         10166845.7"
      ]
     },
     "execution_count": 42,
     "metadata": {},
     "output_type": "execute_result"
    }
   ],
   "source": [
    "below2014.describe().round(1)"
   ]
  },
  {
   "cell_type": "code",
   "execution_count": 43,
   "id": "effa7aed",
   "metadata": {},
   "outputs": [
    {
     "name": "stdout",
     "output_type": "stream",
     "text": [
      "Variance :\n",
      "backers              7.237111e+05\n",
      "usd pledged          4.639877e+09\n",
      "usd_goal_real        5.172828e+10\n",
      "launched_year        9.948071e-01\n",
      "pledge_goal_range    5.414115e+10\n",
      "dtype: float64\n"
     ]
    }
   ],
   "source": [
    "print(f\"Variance :\\n{below2014.var()}\")"
   ]
  },
  {
   "cell_type": "code",
   "execution_count": 44,
   "id": "7ea5ca8e",
   "metadata": {},
   "outputs": [
    {
     "data": {
      "text/html": [
       "<div>\n",
       "<style scoped>\n",
       "    .dataframe tbody tr th:only-of-type {\n",
       "        vertical-align: middle;\n",
       "    }\n",
       "\n",
       "    .dataframe tbody tr th {\n",
       "        vertical-align: top;\n",
       "    }\n",
       "\n",
       "    .dataframe thead th {\n",
       "        text-align: right;\n",
       "    }\n",
       "</style>\n",
       "<table border=\"1\" class=\"dataframe\">\n",
       "  <thead>\n",
       "    <tr style=\"text-align: right;\">\n",
       "      <th></th>\n",
       "      <th>main_category</th>\n",
       "      <th>currency</th>\n",
       "      <th>state</th>\n",
       "      <th>backers</th>\n",
       "      <th>usd pledged</th>\n",
       "      <th>usd_goal_real</th>\n",
       "      <th>launched_year</th>\n",
       "      <th>pledge_goal_range</th>\n",
       "    </tr>\n",
       "  </thead>\n",
       "  <tbody>\n",
       "    <tr>\n",
       "      <th>0</th>\n",
       "      <td>Film &amp; Video</td>\n",
       "      <td>USD</td>\n",
       "      <td>failed</td>\n",
       "      <td>0</td>\n",
       "      <td>0.0</td>\n",
       "      <td>5000.0</td>\n",
       "      <td>2013</td>\n",
       "      <td>0.0</td>\n",
       "    </tr>\n",
       "  </tbody>\n",
       "</table>\n",
       "</div>"
      ],
      "text/plain": [
       "  main_category currency   state  backers  usd pledged  usd_goal_real  \\\n",
       "0  Film & Video      USD  failed        0          0.0         5000.0   \n",
       "\n",
       "   launched_year  pledge_goal_range  \n",
       "0           2013                0.0  "
      ]
     },
     "execution_count": 44,
     "metadata": {},
     "output_type": "execute_result"
    }
   ],
   "source": [
    "below2014.mode()"
   ]
  },
  {
   "cell_type": "markdown",
   "id": "a50c948d",
   "metadata": {},
   "source": [
    "# Statistics above the year 2014 :\n",
    "Measure of central tendency above 2014 :"
   ]
  },
  {
   "cell_type": "code",
   "execution_count": 45,
   "id": "513e3e34",
   "metadata": {
    "scrolled": false
   },
   "outputs": [
    {
     "data": {
      "text/html": [
       "<div>\n",
       "<style scoped>\n",
       "    .dataframe tbody tr th:only-of-type {\n",
       "        vertical-align: middle;\n",
       "    }\n",
       "\n",
       "    .dataframe tbody tr th {\n",
       "        vertical-align: top;\n",
       "    }\n",
       "\n",
       "    .dataframe thead th {\n",
       "        text-align: right;\n",
       "    }\n",
       "</style>\n",
       "<table border=\"1\" class=\"dataframe\">\n",
       "  <thead>\n",
       "    <tr style=\"text-align: right;\">\n",
       "      <th></th>\n",
       "      <th>backers</th>\n",
       "      <th>usd pledged</th>\n",
       "      <th>usd_goal_real</th>\n",
       "      <th>launched_year</th>\n",
       "      <th>pledge_goal_range</th>\n",
       "    </tr>\n",
       "  </thead>\n",
       "  <tbody>\n",
       "    <tr>\n",
       "      <th>count</th>\n",
       "      <td>217289.0</td>\n",
       "      <td>217092.0</td>\n",
       "      <td>217289.0</td>\n",
       "      <td>217289.0</td>\n",
       "      <td>217092.0</td>\n",
       "    </tr>\n",
       "    <tr>\n",
       "      <th>mean</th>\n",
       "      <td>121.4</td>\n",
       "      <td>7508.1</td>\n",
       "      <td>53781.8</td>\n",
       "      <td>2015.4</td>\n",
       "      <td>-46302.8</td>\n",
       "    </tr>\n",
       "    <tr>\n",
       "      <th>std</th>\n",
       "      <td>1020.6</td>\n",
       "      <td>90149.9</td>\n",
       "      <td>1359932.5</td>\n",
       "      <td>1.1</td>\n",
       "      <td>1363230.5</td>\n",
       "    </tr>\n",
       "    <tr>\n",
       "      <th>min</th>\n",
       "      <td>0.0</td>\n",
       "      <td>0.0</td>\n",
       "      <td>0.5</td>\n",
       "      <td>2014.0</td>\n",
       "      <td>-166361390.7</td>\n",
       "    </tr>\n",
       "    <tr>\n",
       "      <th>25%</th>\n",
       "      <td>2.0</td>\n",
       "      <td>5.0</td>\n",
       "      <td>2000.0</td>\n",
       "      <td>2014.0</td>\n",
       "      <td>-12067.0</td>\n",
       "    </tr>\n",
       "    <tr>\n",
       "      <th>50%</th>\n",
       "      <td>10.0</td>\n",
       "      <td>231.0</td>\n",
       "      <td>5940.0</td>\n",
       "      <td>2015.0</td>\n",
       "      <td>-3000.0</td>\n",
       "    </tr>\n",
       "    <tr>\n",
       "      <th>75%</th>\n",
       "      <td>59.0</td>\n",
       "      <td>2458.0</td>\n",
       "      <td>18000.0</td>\n",
       "      <td>2016.0</td>\n",
       "      <td>0.0</td>\n",
       "    </tr>\n",
       "    <tr>\n",
       "      <th>max</th>\n",
       "      <td>219382.0</td>\n",
       "      <td>20338986.3</td>\n",
       "      <td>166361390.7</td>\n",
       "      <td>2017.0</td>\n",
       "      <td>19838986.3</td>\n",
       "    </tr>\n",
       "  </tbody>\n",
       "</table>\n",
       "</div>"
      ],
      "text/plain": [
       "        backers  usd pledged  usd_goal_real  launched_year  pledge_goal_range\n",
       "count  217289.0     217092.0       217289.0       217289.0           217092.0\n",
       "mean      121.4       7508.1        53781.8         2015.4           -46302.8\n",
       "std      1020.6      90149.9      1359932.5            1.1          1363230.5\n",
       "min         0.0          0.0            0.5         2014.0       -166361390.7\n",
       "25%         2.0          5.0         2000.0         2014.0           -12067.0\n",
       "50%        10.0        231.0         5940.0         2015.0            -3000.0\n",
       "75%        59.0       2458.0        18000.0         2016.0                0.0\n",
       "max    219382.0   20338986.3    166361390.7         2017.0         19838986.3"
      ]
     },
     "execution_count": 45,
     "metadata": {},
     "output_type": "execute_result"
    }
   ],
   "source": [
    "above2014.describe().round(1)"
   ]
  },
  {
   "cell_type": "code",
   "execution_count": 46,
   "id": "7fb36ca2",
   "metadata": {},
   "outputs": [
    {
     "name": "stdout",
     "output_type": "stream",
     "text": [
      "Variance :\n",
      "backers              1.041655e+06\n",
      "usd pledged          8.127002e+09\n",
      "usd_goal_real        1.849416e+12\n",
      "launched_year        1.174075e+00\n",
      "pledge_goal_range    1.858398e+12\n",
      "dtype: float64\n"
     ]
    }
   ],
   "source": [
    "print(f\"Variance :\\n{above2014.var()}\")"
   ]
  },
  {
   "cell_type": "code",
   "execution_count": 47,
   "id": "988704a4",
   "metadata": {},
   "outputs": [
    {
     "data": {
      "text/html": [
       "<div>\n",
       "<style scoped>\n",
       "    .dataframe tbody tr th:only-of-type {\n",
       "        vertical-align: middle;\n",
       "    }\n",
       "\n",
       "    .dataframe tbody tr th {\n",
       "        vertical-align: top;\n",
       "    }\n",
       "\n",
       "    .dataframe thead th {\n",
       "        text-align: right;\n",
       "    }\n",
       "</style>\n",
       "<table border=\"1\" class=\"dataframe\">\n",
       "  <thead>\n",
       "    <tr style=\"text-align: right;\">\n",
       "      <th></th>\n",
       "      <th>main_category</th>\n",
       "      <th>currency</th>\n",
       "      <th>state</th>\n",
       "      <th>backers</th>\n",
       "      <th>usd pledged</th>\n",
       "      <th>usd_goal_real</th>\n",
       "      <th>launched_year</th>\n",
       "      <th>pledge_goal_range</th>\n",
       "    </tr>\n",
       "  </thead>\n",
       "  <tbody>\n",
       "    <tr>\n",
       "      <th>0</th>\n",
       "      <td>Film &amp; Video</td>\n",
       "      <td>USD</td>\n",
       "      <td>failed</td>\n",
       "      <td>0</td>\n",
       "      <td>0.0</td>\n",
       "      <td>5000.0</td>\n",
       "      <td>2015</td>\n",
       "      <td>-5000.0</td>\n",
       "    </tr>\n",
       "  </tbody>\n",
       "</table>\n",
       "</div>"
      ],
      "text/plain": [
       "  main_category currency   state  backers  usd pledged  usd_goal_real  \\\n",
       "0  Film & Video      USD  failed        0          0.0         5000.0   \n",
       "\n",
       "   launched_year  pledge_goal_range  \n",
       "0           2015            -5000.0  "
      ]
     },
     "execution_count": 47,
     "metadata": {},
     "output_type": "execute_result"
    }
   ],
   "source": [
    "above2014.mode()"
   ]
  },
  {
   "cell_type": "markdown",
   "id": "ea11eb82",
   "metadata": {},
   "source": [
    "# Statistics of the overall :"
   ]
  },
  {
   "cell_type": "code",
   "execution_count": 48,
   "id": "125388e6",
   "metadata": {
    "scrolled": true
   },
   "outputs": [
    {
     "data": {
      "text/html": [
       "<div>\n",
       "<style scoped>\n",
       "    .dataframe tbody tr th:only-of-type {\n",
       "        vertical-align: middle;\n",
       "    }\n",
       "\n",
       "    .dataframe tbody tr th {\n",
       "        vertical-align: top;\n",
       "    }\n",
       "\n",
       "    .dataframe thead th {\n",
       "        text-align: right;\n",
       "    }\n",
       "</style>\n",
       "<table border=\"1\" class=\"dataframe\">\n",
       "  <thead>\n",
       "    <tr style=\"text-align: right;\">\n",
       "      <th></th>\n",
       "      <th>backers</th>\n",
       "      <th>usd pledged</th>\n",
       "      <th>usd_goal_real</th>\n",
       "      <th>launched_year</th>\n",
       "      <th>pledge_goal_range</th>\n",
       "    </tr>\n",
       "  </thead>\n",
       "  <tbody>\n",
       "    <tr>\n",
       "      <th>count</th>\n",
       "      <td>331675.0</td>\n",
       "      <td>331465.0</td>\n",
       "      <td>331675.0</td>\n",
       "      <td>331675.0</td>\n",
       "      <td>331465.0</td>\n",
       "    </tr>\n",
       "    <tr>\n",
       "      <th>mean</th>\n",
       "      <td>116.4</td>\n",
       "      <td>7684.6</td>\n",
       "      <td>41510.0</td>\n",
       "      <td>2014.2</td>\n",
       "      <td>-33838.6</td>\n",
       "    </tr>\n",
       "    <tr>\n",
       "      <th>std</th>\n",
       "      <td>965.4</td>\n",
       "      <td>83209.4</td>\n",
       "      <td>1108929.7</td>\n",
       "      <td>1.9</td>\n",
       "      <td>1111812.1</td>\n",
       "    </tr>\n",
       "    <tr>\n",
       "      <th>min</th>\n",
       "      <td>0.0</td>\n",
       "      <td>0.0</td>\n",
       "      <td>0.0</td>\n",
       "      <td>2009.0</td>\n",
       "      <td>-166361390.7</td>\n",
       "    </tr>\n",
       "    <tr>\n",
       "      <th>25%</th>\n",
       "      <td>2.0</td>\n",
       "      <td>25.0</td>\n",
       "      <td>2000.0</td>\n",
       "      <td>2013.0</td>\n",
       "      <td>-9975.0</td>\n",
       "    </tr>\n",
       "    <tr>\n",
       "      <th>50%</th>\n",
       "      <td>15.0</td>\n",
       "      <td>502.0</td>\n",
       "      <td>5000.0</td>\n",
       "      <td>2014.0</td>\n",
       "      <td>-2080.0</td>\n",
       "    </tr>\n",
       "    <tr>\n",
       "      <th>75%</th>\n",
       "      <td>63.0</td>\n",
       "      <td>3421.0</td>\n",
       "      <td>15000.0</td>\n",
       "      <td>2016.0</td>\n",
       "      <td>130.0</td>\n",
       "    </tr>\n",
       "    <tr>\n",
       "      <th>max</th>\n",
       "      <td>219382.0</td>\n",
       "      <td>20338986.3</td>\n",
       "      <td>166361390.7</td>\n",
       "      <td>2017.0</td>\n",
       "      <td>19838986.3</td>\n",
       "    </tr>\n",
       "  </tbody>\n",
       "</table>\n",
       "</div>"
      ],
      "text/plain": [
       "        backers  usd pledged  usd_goal_real  launched_year  pledge_goal_range\n",
       "count  331675.0     331465.0       331675.0       331675.0           331465.0\n",
       "mean      116.4       7684.6        41510.0         2014.2           -33838.6\n",
       "std       965.4      83209.4      1108929.7            1.9          1111812.1\n",
       "min         0.0          0.0            0.0         2009.0       -166361390.7\n",
       "25%         2.0         25.0         2000.0         2013.0            -9975.0\n",
       "50%        15.0        502.0         5000.0         2014.0            -2080.0\n",
       "75%        63.0       3421.0        15000.0         2016.0              130.0\n",
       "max    219382.0   20338986.3    166361390.7         2017.0         19838986.3"
      ]
     },
     "execution_count": 48,
     "metadata": {},
     "output_type": "execute_result"
    }
   ],
   "source": [
    "new_df.describe().round(1)"
   ]
  },
  {
   "cell_type": "code",
   "execution_count": 49,
   "id": "52aeefb0",
   "metadata": {
    "scrolled": true
   },
   "outputs": [
    {
     "name": "stdout",
     "output_type": "stream",
     "text": [
      "Variance ;\n",
      "backers              9.320498e+05\n",
      "usd pledged          6.923800e+09\n",
      "usd_goal_real        1.229725e+12\n",
      "launched_year        3.728461e+00\n",
      "pledge_goal_range    1.236126e+12\n",
      "dtype: float64\n"
     ]
    }
   ],
   "source": [
    "print(\"Variance ;\")\n",
    "print(new_df.var())"
   ]
  },
  {
   "cell_type": "code",
   "execution_count": 50,
   "id": "aa5db743",
   "metadata": {},
   "outputs": [
    {
     "data": {
      "text/html": [
       "<div>\n",
       "<style scoped>\n",
       "    .dataframe tbody tr th:only-of-type {\n",
       "        vertical-align: middle;\n",
       "    }\n",
       "\n",
       "    .dataframe tbody tr th {\n",
       "        vertical-align: top;\n",
       "    }\n",
       "\n",
       "    .dataframe thead th {\n",
       "        text-align: right;\n",
       "    }\n",
       "</style>\n",
       "<table border=\"1\" class=\"dataframe\">\n",
       "  <thead>\n",
       "    <tr style=\"text-align: right;\">\n",
       "      <th></th>\n",
       "      <th>main_category</th>\n",
       "      <th>currency</th>\n",
       "      <th>state</th>\n",
       "      <th>backers</th>\n",
       "      <th>usd pledged</th>\n",
       "      <th>usd_goal_real</th>\n",
       "      <th>launched_year</th>\n",
       "      <th>pledge_goal_range</th>\n",
       "    </tr>\n",
       "  </thead>\n",
       "  <tbody>\n",
       "    <tr>\n",
       "      <th>0</th>\n",
       "      <td>Film &amp; Video</td>\n",
       "      <td>USD</td>\n",
       "      <td>failed</td>\n",
       "      <td>0</td>\n",
       "      <td>0.0</td>\n",
       "      <td>5000.0</td>\n",
       "      <td>2015</td>\n",
       "      <td>-5000.0</td>\n",
       "    </tr>\n",
       "  </tbody>\n",
       "</table>\n",
       "</div>"
      ],
      "text/plain": [
       "  main_category currency   state  backers  usd pledged  usd_goal_real  \\\n",
       "0  Film & Video      USD  failed        0          0.0         5000.0   \n",
       "\n",
       "   launched_year  pledge_goal_range  \n",
       "0           2015            -5000.0  "
      ]
     },
     "execution_count": 50,
     "metadata": {},
     "output_type": "execute_result"
    }
   ],
   "source": [
    "new_df.mode()"
   ]
  },
  {
   "cell_type": "code",
   "execution_count": 51,
   "id": "1138c275",
   "metadata": {},
   "outputs": [
    {
     "data": {
      "text/plain": [
       "Film & Video    56527\n",
       "Music           45949\n",
       "Publishing      35445\n",
       "Games           28521\n",
       "Technology      27050\n",
       "Art             25641\n",
       "Design          25364\n",
       "Food            22054\n",
       "Fashion         19775\n",
       "Theater         10242\n",
       "Comics           9878\n",
       "Photography      9689\n",
       "Crafts           7818\n",
       "Journalism       4149\n",
       "Dance            3573\n",
       "Name: main_category, dtype: int64"
      ]
     },
     "execution_count": 51,
     "metadata": {},
     "output_type": "execute_result"
    }
   ],
   "source": [
    "x=new_df['main_category'].value_counts()\n",
    "x"
   ]
  },
  {
   "cell_type": "code",
   "execution_count": 52,
   "id": "560110d4",
   "metadata": {},
   "outputs": [
    {
     "data": {
      "text/plain": [
       "<AxesSubplot:>"
      ]
     },
     "execution_count": 52,
     "metadata": {},
     "output_type": "execute_result"
    },
    {
     "data": {
      "image/png": "[encoded data removed]",
      "text/plain": [
       "<Figure size 432x288 with 1 Axes>"
      ]
     },
     "metadata": {
      "needs_background": "light"
     },
     "output_type": "display_data"
    }
   ],
   "source": [
    "x.plot.bar()"
   ]
  },
  {
   "cell_type": "code",
   "execution_count": 53,
   "id": "1c2222e1",
   "metadata": {
    "scrolled": true
   },
   "outputs": [
    {
     "data": {
      "text/plain": [
       "failed        197719\n",
       "successful    133956\n",
       "Name: state, dtype: int64"
      ]
     },
     "execution_count": 53,
     "metadata": {},
     "output_type": "execute_result"
    }
   ],
   "source": [
    "new_df['state'].value_counts()"
   ]
  },
  {
   "cell_type": "markdown",
   "id": "9c4c3256",
   "metadata": {},
   "source": [
    "Finding pearson correlation between :\n",
    "\n",
    "If there is more backers in a projects, does the probability of having the goals attained has more percentage ?"
   ]
  },
  {
   "cell_type": "code",
   "execution_count": 54,
   "id": "8dd8e0a5",
   "metadata": {},
   "outputs": [
    {
     "data": {
      "text/plain": [
       "array([[nan, nan],\n",
       "       [nan,  1.]])"
      ]
     },
     "execution_count": 54,
     "metadata": {},
     "output_type": "execute_result"
    }
   ],
   "source": [
    "np.corrcoef(new_df['pledge_goal_range'], new_df['backers'])"
   ]
  },
  {
   "cell_type": "code",
   "execution_count": 55,
   "id": "6d2f4038",
   "metadata": {
    "scrolled": true
   },
   "outputs": [
    {
     "data": {
      "text/plain": [
       "<matplotlib.collections.PathCollection at 0x7ffb323c4c70>"
      ]
     },
     "execution_count": 55,
     "metadata": {},
     "output_type": "execute_result"
    },
    {
     "data": {
      "image/png": "[encoded data removed]",
      "text/plain": [
       "<Figure size 432x288 with 1 Axes>"
      ]
     },
     "metadata": {
      "needs_background": "light"
     },
     "output_type": "display_data"
    }
   ],
   "source": [
    "plt.scatter(new_df['pledge_goal_range'], new_df['backers'])"
   ]
  },
  {
   "cell_type": "markdown",
   "id": "add8b4ac",
   "metadata": {},
   "source": [
    "no correlation at all between the 2 variables."
   ]
  },
  {
   "cell_type": "markdown",
   "id": "f0fd2e2a",
   "metadata": {},
   "source": [
    "Based on the graphics above, we can state that it has, but it's not either."
   ]
  },
  {
   "cell_type": "code",
   "execution_count": 56,
   "id": "ec83f572",
   "metadata": {
    "scrolled": true
   },
   "outputs": [
    {
     "data": {
      "text/plain": [
       "2015    65272\n",
       "2014    59306\n",
       "2016    49292\n",
       "2017    43419\n",
       "2013    41101\n",
       "2012    38480\n",
       "2011    24049\n",
       "2010     9577\n",
       "2009     1179\n",
       "Name: launched_year, dtype: int64"
      ]
     },
     "execution_count": 56,
     "metadata": {},
     "output_type": "execute_result"
    }
   ],
   "source": [
    "new_df['launched_year'].value_counts()"
   ]
  },
  {
   "cell_type": "markdown",
   "id": "1ff6425b",
   "metadata": {},
   "source": [
    "# Distribution Fit :"
   ]
  },
  {
   "cell_type": "markdown",
   "id": "608df32f",
   "metadata": {},
   "source": [
    "Binomial Distribution :"
   ]
  },
  {
   "cell_type": "markdown",
   "id": "17a85c51",
   "metadata": {},
   "source": [
    "Binomial Distribution for column 'state', 2 discrete variable : 'failed' and 'successful'.\n",
    "\n",
    "Why Binomial Distribution ;\n",
    "Binomial Distribution is suited for discrete variable and a finite sample(meaning that we know how many sample there is)."
   ]
  },
  {
   "cell_type": "code",
   "execution_count": 57,
   "id": "05b7206c",
   "metadata": {},
   "outputs": [
    {
     "data": {
      "text/plain": [
       "failed        197719\n",
       "successful    133956\n",
       "Name: state, dtype: int64"
      ]
     },
     "execution_count": 57,
     "metadata": {},
     "output_type": "execute_result"
    }
   ],
   "source": [
    "new_df['state'].value_counts()"
   ]
  },
  {
   "cell_type": "code",
   "execution_count": 58,
   "id": "cebbf397",
   "metadata": {
    "scrolled": false
   },
   "outputs": [
    {
     "data": {
      "image/png": "[encoded data removed]",
      "text/plain": [
       "<Figure size 432x288 with 1 Axes>"
      ]
     },
     "metadata": {
      "needs_background": "light"
     },
     "output_type": "display_data"
    },
    {
     "name": "stdout",
     "output_type": "stream",
     "text": [
      "Expected Value : 133956\n"
     ]
    }
   ],
   "source": [
    "binfig, binax = plt.subplots(1, 1)\n",
    "\n",
    "binomn = 331675 # 197719 + 133956 = 331675\n",
    "binomp = 0.4 # 133956 / 331675 = 0.403877289513388\n",
    "\n",
    "mean, variance, skew, kurt = stats.binom.stats(binomn,binomp,moments='mvsk') #moments = 'mvsk stands for mean,var,skew,kurt'\n",
    "\n",
    "# PPF & PMF\n",
    "\n",
    "binomx = np.arange(stats.binom.ppf(0.01, binomn, binomp), stats.binom.ppf(0.99, binomn, binomp)) #Arranging the probability % from 0.01 to 0.99.\n",
    "binax.plot(binomx, stats.binom.pmf(binomx, binomn, binomp),'ko', ms=8) # Using PMF, because PMF is mainly used for discrete variable.\n",
    "binax.vlines(binomx, 0, stats.binom.pmf(binomx, binomn, binomp), colors='b', lw=5, alpha=0.5) # Setting vertical lines.\n",
    "\n",
    "# Binomial Distribution\n",
    "\n",
    "\n",
    "plt.title(\"'Blue' = Distribusi Binomial , 'Black' = PPF/PMF\") # NB : Blue is the PPF and PMF, Black is the binomial\n",
    "plt.show()\n",
    "print(\"Expected Value : 133956\")"
   ]
  },
  {
   "cell_type": "code",
   "execution_count": 59,
   "id": "96525592",
   "metadata": {},
   "outputs": [
    {
     "name": "stdout",
     "output_type": "stream",
     "text": [
      "132670.0\n",
      "79602.0\n",
      "0.0007088722996333738\n",
      "-5.527499309062589e-06\n"
     ]
    }
   ],
   "source": [
    "print(mean)\n",
    "print(variance)\n",
    "print(skew)\n",
    "print(kurt)"
   ]
  },
  {
   "cell_type": "markdown",
   "id": "7bc5a3b0",
   "metadata": {},
   "source": [
    "# Confidence Interval :"
   ]
  },
  {
   "cell_type": "code",
   "execution_count": 66,
   "id": "455acc4f",
   "metadata": {},
   "outputs": [
    {
     "data": {
      "text/plain": [
       "(-35950.452022128455, 51319.65202212844)"
      ]
     },
     "execution_count": 66,
     "metadata": {},
     "output_type": "execute_result"
    }
   ],
   "source": [
    "stats.norm.interval(0.4, loc=7684.6, scale=83209.4)"
   ]
  },
  {
   "cell_type": "markdown",
   "id": "7390bac4",
   "metadata": {},
   "source": [
    "# Hypothesis Testing :"
   ]
  },
  {
   "cell_type": "markdown",
   "id": "0d7ab36a",
   "metadata": {},
   "source": [
    "Creating a new columns for the hypothesis."
   ]
  },
  {
   "cell_type": "code",
   "execution_count": 64,
   "id": "9a13de94",
   "metadata": {},
   "outputs": [
    {
     "data": {
      "text/html": [
       "<div>\n",
       "<style scoped>\n",
       "    .dataframe tbody tr th:only-of-type {\n",
       "        vertical-align: middle;\n",
       "    }\n",
       "\n",
       "    .dataframe tbody tr th {\n",
       "        vertical-align: top;\n",
       "    }\n",
       "\n",
       "    .dataframe thead th {\n",
       "        text-align: right;\n",
       "    }\n",
       "</style>\n",
       "<table border=\"1\" class=\"dataframe\">\n",
       "  <thead>\n",
       "    <tr style=\"text-align: right;\">\n",
       "      <th></th>\n",
       "      <th>count</th>\n",
       "      <th>mean</th>\n",
       "      <th>std</th>\n",
       "      <th>min</th>\n",
       "      <th>25%</th>\n",
       "      <th>50%</th>\n",
       "      <th>75%</th>\n",
       "      <th>max</th>\n",
       "    </tr>\n",
       "  </thead>\n",
       "  <tbody>\n",
       "    <tr>\n",
       "      <th>backers</th>\n",
       "      <td>331675.0</td>\n",
       "      <td>116.4</td>\n",
       "      <td>965.4</td>\n",
       "      <td>0.0</td>\n",
       "      <td>2.0</td>\n",
       "      <td>15.0</td>\n",
       "      <td>63.0</td>\n",
       "      <td>219382.0</td>\n",
       "    </tr>\n",
       "    <tr>\n",
       "      <th>usd pledged</th>\n",
       "      <td>331465.0</td>\n",
       "      <td>7684.6</td>\n",
       "      <td>83209.4</td>\n",
       "      <td>0.0</td>\n",
       "      <td>25.0</td>\n",
       "      <td>502.0</td>\n",
       "      <td>3421.0</td>\n",
       "      <td>20338986.3</td>\n",
       "    </tr>\n",
       "    <tr>\n",
       "      <th>usd_goal_real</th>\n",
       "      <td>331675.0</td>\n",
       "      <td>41510.0</td>\n",
       "      <td>1108929.7</td>\n",
       "      <td>0.0</td>\n",
       "      <td>2000.0</td>\n",
       "      <td>5000.0</td>\n",
       "      <td>15000.0</td>\n",
       "      <td>166361390.7</td>\n",
       "    </tr>\n",
       "    <tr>\n",
       "      <th>launched_year</th>\n",
       "      <td>331675.0</td>\n",
       "      <td>2014.2</td>\n",
       "      <td>1.9</td>\n",
       "      <td>2009.0</td>\n",
       "      <td>2013.0</td>\n",
       "      <td>2014.0</td>\n",
       "      <td>2016.0</td>\n",
       "      <td>2017.0</td>\n",
       "    </tr>\n",
       "    <tr>\n",
       "      <th>pledge_goal_range</th>\n",
       "      <td>331465.0</td>\n",
       "      <td>-33838.6</td>\n",
       "      <td>1111812.1</td>\n",
       "      <td>-166361390.7</td>\n",
       "      <td>-9975.0</td>\n",
       "      <td>-2080.0</td>\n",
       "      <td>130.0</td>\n",
       "      <td>19838986.3</td>\n",
       "    </tr>\n",
       "  </tbody>\n",
       "</table>\n",
       "</div>"
      ],
      "text/plain": [
       "                      count     mean        std          min     25%     50%  \\\n",
       "backers            331675.0    116.4      965.4          0.0     2.0    15.0   \n",
       "usd pledged        331465.0   7684.6    83209.4          0.0    25.0   502.0   \n",
       "usd_goal_real      331675.0  41510.0  1108929.7          0.0  2000.0  5000.0   \n",
       "launched_year      331675.0   2014.2        1.9       2009.0  2013.0  2014.0   \n",
       "pledge_goal_range  331465.0 -33838.6  1111812.1 -166361390.7 -9975.0 -2080.0   \n",
       "\n",
       "                       75%          max  \n",
       "backers               63.0     219382.0  \n",
       "usd pledged         3421.0   20338986.3  \n",
       "usd_goal_real      15000.0  166361390.7  \n",
       "launched_year       2016.0       2017.0  \n",
       "pledge_goal_range    130.0   19838986.3  "
      ]
     },
     "execution_count": 64,
     "metadata": {},
     "output_type": "execute_result"
    }
   ],
   "source": [
    "new_df.describe().transpose().round(1)"
   ]
  },
  {
   "cell_type": "code",
   "execution_count": null,
   "id": "238c6849",
   "metadata": {},
   "outputs": [],
   "source": [
    "mean1 = above2014['usd pledged'].mean()\n",
    "mean1"
   ]
  },
  {
   "cell_type": "code",
   "execution_count": null,
   "id": "b7ea8be8",
   "metadata": {},
   "outputs": [],
   "source": [
    "above2014['state'].value_counts()"
   ]
  },
  {
   "cell_type": "code",
   "execution_count": null,
   "id": "5c49bee0",
   "metadata": {},
   "outputs": [],
   "source": [
    "mean2 = below2014['usd pledged'].mean()\n",
    "mean2"
   ]
  },
  {
   "cell_type": "code",
   "execution_count": null,
   "id": "e931b7e8",
   "metadata": {},
   "outputs": [],
   "source": [
    "below2014['state'].value_counts()"
   ]
  },
  {
   "cell_type": "markdown",
   "id": "5868d11f",
   "metadata": {},
   "source": [
    "- H0 : above2014 <= below2014\n",
    "\n",
    "- H1 = above2014 > below2014"
   ]
  },
  {
   "cell_type": "markdown",
   "id": "b7cbbcb2",
   "metadata": {},
   "source": [
    "Hypothesis Type 1, Type 2 Error :\n",
    "- True Positive : The year above 2014 gives more total pledged than the year below 2014 and more states were successful.\n",
    "\n",
    "- True Negative : The year above 2014 gives more total pledged than the year below 2014 but least goals were sucessful.\n",
    "\n",
    "- False Positive : The year above 2014 gives less total pledged than the year below 2014 but more goals were successful.\n",
    "\n",
    "- False Negative : The year above 2014 gives less total pledged than the year below 2014 and less goals were successful."
   ]
  },
  {
   "cell_type": "markdown",
   "id": "c69ef6f4",
   "metadata": {},
   "source": [
    "Statistical Testing :\n",
    "\n",
    "Using T-Test because :\n",
    "- They have a normal data distribution (Binomial distribution above),\n",
    "- It is used for testing 2 samples. "
   ]
  },
  {
   "cell_type": "code",
   "execution_count": null,
   "id": "7900f2ef",
   "metadata": {
    "scrolled": true
   },
   "outputs": [],
   "source": [
    "above2014.describe(include='all').round(1)"
   ]
  },
  {
   "cell_type": "code",
   "execution_count": null,
   "id": "757f85b7",
   "metadata": {
    "scrolled": true
   },
   "outputs": [],
   "source": [
    "below2014.describe(include='all').round(1)"
   ]
  },
  {
   "cell_type": "markdown",
   "id": "9db0fd2d",
   "metadata": {},
   "source": [
    "# T - Test :"
   ]
  },
  {
   "cell_type": "code",
   "execution_count": null,
   "id": "e039bb07",
   "metadata": {
    "scrolled": true
   },
   "outputs": [],
   "source": [
    "rvs1above = stats.norm.rvs(loc= 7508.1, scale= 90149.9, size= 217289)\n",
    "rvs2below = stats.norm.rvs(loc= 8019.5, scale= 68116.6, size= 114386)\n",
    "\n",
    "stats.ttest_ind(rvs1above, rvs2below)"
   ]
  },
  {
   "cell_type": "markdown",
   "id": "bea76dc5",
   "metadata": {},
   "source": [
    "- P-Value = 0.048, accepts Alternative Hypothesis. "
   ]
  }
 ],
 "metadata": {
  "kernelspec": {
   "display_name": "Python 3",
   "language": "python",
   "name": "python3"
  },
  "language_info": {
   "codemirror_mode": {
    "name": "ipython",
    "version": 3
   },
   "file_extension": ".py",
   "mimetype": "text/x-python",
   "name": "python",
   "nbconvert_exporter": "python",
   "pygments_lexer": "ipython3",
   "version": "3.8.8"
  }
 },
 "nbformat": 4,
 "nbformat_minor": 5
}
