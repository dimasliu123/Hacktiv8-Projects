{
 "cells": [
  {
   "cell_type": "markdown",
   "id": "5b80acc7",
   "metadata": {},
   "source": [
    "# Perkenalan :"
   ]
  },
  {
   "cell_type": "markdown",
   "id": "7b1eb251",
   "metadata": {},
   "source": [
    "Nama : Dimas Liu\n",
    "\n",
    "Batch : 001 "
   ]
  },
  {
   "cell_type": "markdown",
   "id": "ab0776d4",
   "metadata": {},
   "source": [
    "# Library Import :"
   ]
  },
  {
   "cell_type": "code",
   "execution_count": 1,
   "id": "31e28ce2",
   "metadata": {},
   "outputs": [],
   "source": [
    "import numpy as np\n",
    "import pandas as pd\n",
    "import matplotlib.pyplot as plt\n",
    "import seaborn as sns\n",
    "%matplotlib inline"
   ]
  },
  {
   "cell_type": "markdown",
   "id": "02fc686b",
   "metadata": {},
   "source": [
    "# Library for Modelling :"
   ]
  },
  {
   "cell_type": "code",
   "execution_count": 2,
   "id": "736d32f9",
   "metadata": {},
   "outputs": [],
   "source": [
    "from sklearn.model_selection import train_test_split\n",
    "from sklearn.decomposition import PCA\n",
    "from sklearn.metrics import silhouette_score\n",
    "from sklearn.cluster import KMeans\n",
    "from yellowbrick.cluster import SilhouetteVisualizer\n",
    "from yellowbrick.cluster import KElbowVisualizer\n",
    "from sklearn.cluster import AgglomerativeClustering\n",
    "from scipy.cluster.hierarchy import dendrogram\n",
    "from sklearn.ensemble import IsolationForest"
   ]
  },
  {
   "cell_type": "code",
   "execution_count": 3,
   "id": "ced214a8",
   "metadata": {},
   "outputs": [],
   "source": [
    "def plot_dendrogram(model, **kwargs):\n",
    "\n",
    "    counts = np.zeros(model.children_.shape[0])\n",
    "    n_samples = len(model.labels_)\n",
    "    for i, merge in enumerate(model.children_):\n",
    "        current_count = 0\n",
    "        for child_idx in merge:\n",
    "            if child_idx < n_samples:\n",
    "                current_count += 1\n",
    "            else:\n",
    "                current_count += counts[child_idx - n_samples]\n",
    "        counts[i] = current_count\n",
    "\n",
    "    linkage_matrix = np.column_stack([model.children_, model.distances_,\n",
    "                                      counts]).astype(float)\n",
    "    dendrogram(linkage_matrix, **kwargs)"
   ]
  },
  {
   "cell_type": "markdown",
   "id": "5e4e77f5",
   "metadata": {},
   "source": [
    "# Data Loading :"
   ]
  },
  {
   "cell_type": "code",
   "execution_count": 4,
   "id": "d6d012b5",
   "metadata": {},
   "outputs": [],
   "source": [
    "df = pd.read_csv('Life_expectancy_dataset.csv')"
   ]
  },
  {
   "cell_type": "code",
   "execution_count": 5,
   "id": "1704c567",
   "metadata": {},
   "outputs": [
    {
     "data": {
      "text/html": [
       "<div>\n",
       "<style scoped>\n",
       "    .dataframe tbody tr th:only-of-type {\n",
       "        vertical-align: middle;\n",
       "    }\n",
       "\n",
       "    .dataframe tbody tr th {\n",
       "        vertical-align: top;\n",
       "    }\n",
       "\n",
       "    .dataframe thead th {\n",
       "        text-align: right;\n",
       "    }\n",
       "</style>\n",
       "<table border=\"1\" class=\"dataframe\">\n",
       "  <thead>\n",
       "    <tr style=\"text-align: right;\">\n",
       "      <th></th>\n",
       "      <th>Rank</th>\n",
       "      <th>Country</th>\n",
       "      <th>Overall Life</th>\n",
       "      <th>Male Life</th>\n",
       "      <th>Female Life</th>\n",
       "      <th>Continent</th>\n",
       "    </tr>\n",
       "  </thead>\n",
       "  <tbody>\n",
       "    <tr>\n",
       "      <th>0</th>\n",
       "      <td>1</td>\n",
       "      <td>Monaco</td>\n",
       "      <td>89.5</td>\n",
       "      <td>85.6</td>\n",
       "      <td>93.5</td>\n",
       "      <td>Europe</td>\n",
       "    </tr>\n",
       "    <tr>\n",
       "      <th>1</th>\n",
       "      <td>2</td>\n",
       "      <td>Japan</td>\n",
       "      <td>85.0</td>\n",
       "      <td>81.7</td>\n",
       "      <td>88.5</td>\n",
       "      <td>Asia</td>\n",
       "    </tr>\n",
       "    <tr>\n",
       "      <th>2</th>\n",
       "      <td>3</td>\n",
       "      <td>Singapore</td>\n",
       "      <td>85.0</td>\n",
       "      <td>82.3</td>\n",
       "      <td>87.8</td>\n",
       "      <td>Asia</td>\n",
       "    </tr>\n",
       "    <tr>\n",
       "      <th>3</th>\n",
       "      <td>4</td>\n",
       "      <td>Macau; China</td>\n",
       "      <td>84.5</td>\n",
       "      <td>81.6</td>\n",
       "      <td>87.6</td>\n",
       "      <td>Asia</td>\n",
       "    </tr>\n",
       "    <tr>\n",
       "      <th>4</th>\n",
       "      <td>5</td>\n",
       "      <td>San Marino</td>\n",
       "      <td>83.3</td>\n",
       "      <td>80.7</td>\n",
       "      <td>86.1</td>\n",
       "      <td>Europe</td>\n",
       "    </tr>\n",
       "    <tr>\n",
       "      <th>...</th>\n",
       "      <td>...</td>\n",
       "      <td>...</td>\n",
       "      <td>...</td>\n",
       "      <td>...</td>\n",
       "      <td>...</td>\n",
       "      <td>...</td>\n",
       "    </tr>\n",
       "    <tr>\n",
       "      <th>218</th>\n",
       "      <td>219</td>\n",
       "      <td>Gabon</td>\n",
       "      <td>52.1</td>\n",
       "      <td>51.6</td>\n",
       "      <td>52.5</td>\n",
       "      <td>Africa</td>\n",
       "    </tr>\n",
       "    <tr>\n",
       "      <th>219</th>\n",
       "      <td>220</td>\n",
       "      <td>Swaziland</td>\n",
       "      <td>51.6</td>\n",
       "      <td>52.2</td>\n",
       "      <td>51.0</td>\n",
       "      <td>Africa</td>\n",
       "    </tr>\n",
       "    <tr>\n",
       "      <th>220</th>\n",
       "      <td>221</td>\n",
       "      <td>Afghanistan</td>\n",
       "      <td>51.3</td>\n",
       "      <td>49.9</td>\n",
       "      <td>52.7</td>\n",
       "      <td>Asia</td>\n",
       "    </tr>\n",
       "    <tr>\n",
       "      <th>221</th>\n",
       "      <td>222</td>\n",
       "      <td>Guinea-Bissau</td>\n",
       "      <td>50.6</td>\n",
       "      <td>48.6</td>\n",
       "      <td>52.7</td>\n",
       "      <td>Africa</td>\n",
       "    </tr>\n",
       "    <tr>\n",
       "      <th>222</th>\n",
       "      <td>223</td>\n",
       "      <td>Chad</td>\n",
       "      <td>50.2</td>\n",
       "      <td>49.0</td>\n",
       "      <td>51.3</td>\n",
       "      <td>Africa</td>\n",
       "    </tr>\n",
       "  </tbody>\n",
       "</table>\n",
       "<p>223 rows × 6 columns</p>\n",
       "</div>"
      ],
      "text/plain": [
       "     Rank        Country  Overall Life  Male Life  Female Life Continent\n",
       "0       1         Monaco          89.5       85.6         93.5    Europe\n",
       "1       2          Japan          85.0       81.7         88.5      Asia\n",
       "2       3      Singapore          85.0       82.3         87.8      Asia\n",
       "3       4   Macau; China          84.5       81.6         87.6      Asia\n",
       "4       5     San Marino          83.3       80.7         86.1    Europe\n",
       "..    ...            ...           ...        ...          ...       ...\n",
       "218   219          Gabon          52.1       51.6         52.5    Africa\n",
       "219   220      Swaziland          51.6       52.2         51.0    Africa\n",
       "220   221    Afghanistan          51.3       49.9         52.7      Asia\n",
       "221   222  Guinea-Bissau          50.6       48.6         52.7    Africa\n",
       "222   223           Chad          50.2       49.0         51.3    Africa\n",
       "\n",
       "[223 rows x 6 columns]"
      ]
     },
     "execution_count": 5,
     "metadata": {},
     "output_type": "execute_result"
    }
   ],
   "source": [
    "df"
   ]
  },
  {
   "cell_type": "markdown",
   "id": "bc7f3e50",
   "metadata": {},
   "source": [
    "# Data Cleaning :"
   ]
  },
  {
   "cell_type": "code",
   "execution_count": 6,
   "id": "1bc0e894",
   "metadata": {
    "scrolled": true
   },
   "outputs": [
    {
     "data": {
      "text/plain": [
       "Rank            0\n",
       "Country         0\n",
       "Overall Life    0\n",
       "Male Life       0\n",
       "Female Life     0\n",
       "Continent       0\n",
       "dtype: int64"
      ]
     },
     "execution_count": 6,
     "metadata": {},
     "output_type": "execute_result"
    }
   ],
   "source": [
    "df.isna().sum()"
   ]
  },
  {
   "cell_type": "code",
   "execution_count": 7,
   "id": "aa957437",
   "metadata": {},
   "outputs": [
    {
     "name": "stdout",
     "output_type": "stream",
     "text": [
      "<class 'pandas.core.frame.DataFrame'>\n",
      "RangeIndex: 223 entries, 0 to 222\n",
      "Data columns (total 6 columns):\n",
      " #   Column        Non-Null Count  Dtype  \n",
      "---  ------        --------------  -----  \n",
      " 0   Rank          223 non-null    int64  \n",
      " 1   Country       223 non-null    object \n",
      " 2   Overall Life  223 non-null    float64\n",
      " 3   Male Life     223 non-null    float64\n",
      " 4   Female Life   223 non-null    float64\n",
      " 5   Continent     223 non-null    object \n",
      "dtypes: float64(3), int64(1), object(2)\n",
      "memory usage: 10.6+ KB\n"
     ]
    }
   ],
   "source": [
    "df.info()"
   ]
  },
  {
   "cell_type": "markdown",
   "id": "305a2572",
   "metadata": {},
   "source": [
    "# EDA :"
   ]
  },
  {
   "cell_type": "code",
   "execution_count": 8,
   "id": "acf56f97",
   "metadata": {},
   "outputs": [
    {
     "data": {
      "image/png": "[encoded data removed]",
      "text/plain": [
       "<Figure size 432x288 with 1 Axes>"
      ]
     },
     "metadata": {},
     "output_type": "display_data"
    }
   ],
   "source": [
    "plt.figure(figsize=(6,4))\n",
    "sns.histplot(data=df, x='Overall Life', kde=True);"
   ]
  },
  {
   "cell_type": "code",
   "execution_count": 9,
   "id": "d1c14324",
   "metadata": {
    "scrolled": true
   },
   "outputs": [
    {
     "data": {
      "image/png": "[encoded data removed]",
      "text/plain": [
       "<Figure size 432x288 with 1 Axes>"
      ]
     },
     "metadata": {},
     "output_type": "display_data"
    }
   ],
   "source": [
    "plt.figure(figsize=(6,4))\n",
    "sns.histplot(data=df, x='Male Life', kde=True, alpha=0.4)\n",
    "sns.histplot(data=df, x='Female Life', kde=True, color='deeppink', alpha=0.6)\n",
    "plt.title('Merah= Female life, Biru= Male life (Expectancy)');"
   ]
  },
  {
   "cell_type": "code",
   "execution_count": 10,
   "id": "3df55965",
   "metadata": {},
   "outputs": [
    {
     "data": {
      "text/html": [
       "<div>\n",
       "<style scoped>\n",
       "    .dataframe tbody tr th:only-of-type {\n",
       "        vertical-align: middle;\n",
       "    }\n",
       "\n",
       "    .dataframe tbody tr th {\n",
       "        vertical-align: top;\n",
       "    }\n",
       "\n",
       "    .dataframe thead th {\n",
       "        text-align: right;\n",
       "    }\n",
       "</style>\n",
       "<table border=\"1\" class=\"dataframe\">\n",
       "  <thead>\n",
       "    <tr style=\"text-align: right;\">\n",
       "      <th></th>\n",
       "      <th>count</th>\n",
       "      <th>mean</th>\n",
       "      <th>std</th>\n",
       "      <th>min</th>\n",
       "      <th>25%</th>\n",
       "      <th>50%</th>\n",
       "      <th>75%</th>\n",
       "      <th>max</th>\n",
       "    </tr>\n",
       "  </thead>\n",
       "  <tbody>\n",
       "    <tr>\n",
       "      <th>Rank</th>\n",
       "      <td>223.0</td>\n",
       "      <td>112.000000</td>\n",
       "      <td>64.518731</td>\n",
       "      <td>1.0</td>\n",
       "      <td>56.50</td>\n",
       "      <td>112.0</td>\n",
       "      <td>167.50</td>\n",
       "      <td>223.0</td>\n",
       "    </tr>\n",
       "    <tr>\n",
       "      <th>Overall Life</th>\n",
       "      <td>223.0</td>\n",
       "      <td>72.487892</td>\n",
       "      <td>8.459335</td>\n",
       "      <td>50.2</td>\n",
       "      <td>67.45</td>\n",
       "      <td>74.9</td>\n",
       "      <td>78.60</td>\n",
       "      <td>89.5</td>\n",
       "    </tr>\n",
       "    <tr>\n",
       "      <th>Male Life</th>\n",
       "      <td>223.0</td>\n",
       "      <td>70.041704</td>\n",
       "      <td>8.074942</td>\n",
       "      <td>48.6</td>\n",
       "      <td>64.50</td>\n",
       "      <td>72.2</td>\n",
       "      <td>75.85</td>\n",
       "      <td>85.6</td>\n",
       "    </tr>\n",
       "    <tr>\n",
       "      <th>Female Life</th>\n",
       "      <td>223.0</td>\n",
       "      <td>75.019283</td>\n",
       "      <td>8.986633</td>\n",
       "      <td>51.0</td>\n",
       "      <td>69.75</td>\n",
       "      <td>77.9</td>\n",
       "      <td>81.60</td>\n",
       "      <td>93.5</td>\n",
       "    </tr>\n",
       "  </tbody>\n",
       "</table>\n",
       "</div>"
      ],
      "text/plain": [
       "              count        mean        std   min    25%    50%     75%    max\n",
       "Rank          223.0  112.000000  64.518731   1.0  56.50  112.0  167.50  223.0\n",
       "Overall Life  223.0   72.487892   8.459335  50.2  67.45   74.9   78.60   89.5\n",
       "Male Life     223.0   70.041704   8.074942  48.6  64.50   72.2   75.85   85.6\n",
       "Female Life   223.0   75.019283   8.986633  51.0  69.75   77.9   81.60   93.5"
      ]
     },
     "execution_count": 10,
     "metadata": {},
     "output_type": "execute_result"
    }
   ],
   "source": [
    "df.describe().transpose()"
   ]
  },
  {
   "cell_type": "markdown",
   "id": "d8ca49db",
   "metadata": {},
   "source": [
    "# Perempuan cenderung memiliki usia lebih panjang dari laki-laki."
   ]
  },
  {
   "cell_type": "code",
   "execution_count": 11,
   "id": "93dae381",
   "metadata": {},
   "outputs": [],
   "source": [
    "num_data = df._get_numeric_data()"
   ]
  },
  {
   "cell_type": "code",
   "execution_count": 12,
   "id": "b05b35bb",
   "metadata": {},
   "outputs": [
    {
     "data": {
      "image/png": "[encoded data removed]",
      "text/plain": [
       "<Figure size 540x540 with 9 Axes>"
      ]
     },
     "metadata": {},
     "output_type": "display_data"
    }
   ],
   "source": [
    "pair = sns.PairGrid(num_data, vars=['Overall Life', 'Male Life', 'Female Life'])\n",
    "pair.map(sns.scatterplot, color='red');"
   ]
  },
  {
   "cell_type": "markdown",
   "id": "16c97bf4",
   "metadata": {},
   "source": [
    "# Analisis berdasarkan benua :"
   ]
  },
  {
   "cell_type": "code",
   "execution_count": 13,
   "id": "39802065",
   "metadata": {},
   "outputs": [
    {
     "data": {
      "text/plain": [
       "Africa           55\n",
       "Europe           51\n",
       "Asia             49\n",
       "North America    34\n",
       "Oceania          20\n",
       "South America    14\n",
       "Name: Continent, dtype: int64"
      ]
     },
     "execution_count": 13,
     "metadata": {},
     "output_type": "execute_result"
    }
   ],
   "source": [
    "df['Continent'].value_counts()"
   ]
  },
  {
   "cell_type": "code",
   "execution_count": 14,
   "id": "f427fa6c",
   "metadata": {},
   "outputs": [],
   "source": [
    "continent = df.groupby(\"Continent\")['Overall Life'].describe()"
   ]
  },
  {
   "cell_type": "code",
   "execution_count": 15,
   "id": "22e45de2",
   "metadata": {},
   "outputs": [
    {
     "data": {
      "text/html": [
       "<div>\n",
       "<style scoped>\n",
       "    .dataframe tbody tr th:only-of-type {\n",
       "        vertical-align: middle;\n",
       "    }\n",
       "\n",
       "    .dataframe tbody tr th {\n",
       "        vertical-align: top;\n",
       "    }\n",
       "\n",
       "    .dataframe thead th {\n",
       "        text-align: right;\n",
       "    }\n",
       "</style>\n",
       "<table border=\"1\" class=\"dataframe\">\n",
       "  <thead>\n",
       "    <tr style=\"text-align: right;\">\n",
       "      <th></th>\n",
       "      <th>count</th>\n",
       "      <th>mean</th>\n",
       "      <th>std</th>\n",
       "      <th>min</th>\n",
       "      <th>25%</th>\n",
       "      <th>50%</th>\n",
       "      <th>75%</th>\n",
       "      <th>max</th>\n",
       "    </tr>\n",
       "    <tr>\n",
       "      <th>Continent</th>\n",
       "      <th></th>\n",
       "      <th></th>\n",
       "      <th></th>\n",
       "      <th></th>\n",
       "      <th></th>\n",
       "      <th></th>\n",
       "      <th></th>\n",
       "      <th></th>\n",
       "    </tr>\n",
       "  </thead>\n",
       "  <tbody>\n",
       "    <tr>\n",
       "      <th>Africa</th>\n",
       "      <td>55.0</td>\n",
       "      <td>61.800000</td>\n",
       "      <td>7.643298</td>\n",
       "      <td>50.2</td>\n",
       "      <td>55.650</td>\n",
       "      <td>61.70</td>\n",
       "      <td>64.900</td>\n",
       "      <td>79.5</td>\n",
       "    </tr>\n",
       "    <tr>\n",
       "      <th>Asia</th>\n",
       "      <td>49.0</td>\n",
       "      <td>73.618367</td>\n",
       "      <td>6.181244</td>\n",
       "      <td>51.3</td>\n",
       "      <td>70.100</td>\n",
       "      <td>74.60</td>\n",
       "      <td>77.200</td>\n",
       "      <td>85.0</td>\n",
       "    </tr>\n",
       "    <tr>\n",
       "      <th>Europe</th>\n",
       "      <td>51.0</td>\n",
       "      <td>79.019608</td>\n",
       "      <td>3.619835</td>\n",
       "      <td>70.7</td>\n",
       "      <td>76.200</td>\n",
       "      <td>80.20</td>\n",
       "      <td>81.750</td>\n",
       "      <td>89.5</td>\n",
       "    </tr>\n",
       "    <tr>\n",
       "      <th>North America</th>\n",
       "      <td>34.0</td>\n",
       "      <td>76.273529</td>\n",
       "      <td>4.012504</td>\n",
       "      <td>63.8</td>\n",
       "      <td>73.775</td>\n",
       "      <td>76.75</td>\n",
       "      <td>79.225</td>\n",
       "      <td>81.9</td>\n",
       "    </tr>\n",
       "    <tr>\n",
       "      <th>Oceania</th>\n",
       "      <td>20.0</td>\n",
       "      <td>74.230000</td>\n",
       "      <td>4.690876</td>\n",
       "      <td>66.2</td>\n",
       "      <td>72.850</td>\n",
       "      <td>74.50</td>\n",
       "      <td>77.325</td>\n",
       "      <td>82.2</td>\n",
       "    </tr>\n",
       "    <tr>\n",
       "      <th>South America</th>\n",
       "      <td>14.0</td>\n",
       "      <td>75.042857</td>\n",
       "      <td>3.194879</td>\n",
       "      <td>68.4</td>\n",
       "      <td>73.725</td>\n",
       "      <td>76.30</td>\n",
       "      <td>77.175</td>\n",
       "      <td>78.8</td>\n",
       "    </tr>\n",
       "  </tbody>\n",
       "</table>\n",
       "</div>"
      ],
      "text/plain": [
       "               count       mean       std   min     25%    50%     75%   max\n",
       "Continent                                                                   \n",
       "Africa          55.0  61.800000  7.643298  50.2  55.650  61.70  64.900  79.5\n",
       "Asia            49.0  73.618367  6.181244  51.3  70.100  74.60  77.200  85.0\n",
       "Europe          51.0  79.019608  3.619835  70.7  76.200  80.20  81.750  89.5\n",
       "North America   34.0  76.273529  4.012504  63.8  73.775  76.75  79.225  81.9\n",
       "Oceania         20.0  74.230000  4.690876  66.2  72.850  74.50  77.325  82.2\n",
       "South America   14.0  75.042857  3.194879  68.4  73.725  76.30  77.175  78.8"
      ]
     },
     "execution_count": 15,
     "metadata": {},
     "output_type": "execute_result"
    }
   ],
   "source": [
    "continent"
   ]
  },
  {
   "cell_type": "code",
   "execution_count": 16,
   "id": "82044620",
   "metadata": {},
   "outputs": [],
   "source": [
    "distribution = df[['Overall Life', 'Continent']]"
   ]
  },
  {
   "cell_type": "code",
   "execution_count": 81,
   "id": "63e4af71",
   "metadata": {},
   "outputs": [
    {
     "data": {
      "image/png": "[encoded data removed]",
      "text/plain": [
       "<Figure size 640x480 with 1 Axes>"
      ]
     },
     "metadata": {},
     "output_type": "display_data"
    }
   ],
   "source": [
    "plt.title('Distribusi umur berdasarkan kontinen')\n",
    "sns.kdeplot(x='Overall Life', hue='Continent',data=distribution);"
   ]
  },
  {
   "cell_type": "markdown",
   "id": "ce2dba11",
   "metadata": {},
   "source": [
    "- Kontinen Eropa dan Asia merupakan umur yang lebih panjang dibanding yang lain.\n",
    "- Africa memiliki umur yang paling lebih dibanding yang lain."
   ]
  },
  {
   "cell_type": "markdown",
   "id": "639c79c8",
   "metadata": {},
   "source": [
    "# Berdasarkan negara dari setiap benua :"
   ]
  },
  {
   "cell_type": "code",
   "execution_count": 52,
   "id": "ca76dab6",
   "metadata": {},
   "outputs": [],
   "source": [
    "asia = df.loc[df['Continent'] == 'Asia']\n",
    "eropa = df.loc[df['Continent'] == 'Europe']\n",
    "afrika = df.loc[df['Continent'] == 'Africa']\n",
    "oceania = df.loc[df['Continent'] == 'Oceania']\n",
    "NA = df.loc[df['Continent'] == 'North America']\n",
    "SA = df.loc[df['Continent'] == 'South America']"
   ]
  },
  {
   "cell_type": "code",
   "execution_count": 55,
   "id": "2a5876d4",
   "metadata": {},
   "outputs": [
    {
     "data": {
      "text/html": [
       "<div>\n",
       "<style scoped>\n",
       "    .dataframe tbody tr th:only-of-type {\n",
       "        vertical-align: middle;\n",
       "    }\n",
       "\n",
       "    .dataframe tbody tr th {\n",
       "        vertical-align: top;\n",
       "    }\n",
       "\n",
       "    .dataframe thead th {\n",
       "        text-align: right;\n",
       "    }\n",
       "</style>\n",
       "<table border=\"1\" class=\"dataframe\">\n",
       "  <thead>\n",
       "    <tr style=\"text-align: right;\">\n",
       "      <th></th>\n",
       "      <th>count</th>\n",
       "      <th>unique</th>\n",
       "      <th>top</th>\n",
       "      <th>freq</th>\n",
       "      <th>mean</th>\n",
       "      <th>std</th>\n",
       "      <th>min</th>\n",
       "      <th>25%</th>\n",
       "      <th>50%</th>\n",
       "      <th>75%</th>\n",
       "      <th>max</th>\n",
       "    </tr>\n",
       "  </thead>\n",
       "  <tbody>\n",
       "    <tr>\n",
       "      <th>Rank</th>\n",
       "      <td>20.0</td>\n",
       "      <td>NaN</td>\n",
       "      <td>NaN</td>\n",
       "      <td>NaN</td>\n",
       "      <td>108.4</td>\n",
       "      <td>48.343508</td>\n",
       "      <td>14.0</td>\n",
       "      <td>70.75</td>\n",
       "      <td>117.5</td>\n",
       "      <td>137.0</td>\n",
       "      <td>173.0</td>\n",
       "    </tr>\n",
       "    <tr>\n",
       "      <th>Country</th>\n",
       "      <td>20</td>\n",
       "      <td>20</td>\n",
       "      <td>Solomon Islands</td>\n",
       "      <td>1</td>\n",
       "      <td>NaN</td>\n",
       "      <td>NaN</td>\n",
       "      <td>NaN</td>\n",
       "      <td>NaN</td>\n",
       "      <td>NaN</td>\n",
       "      <td>NaN</td>\n",
       "      <td>NaN</td>\n",
       "    </tr>\n",
       "    <tr>\n",
       "      <th>Overall Life</th>\n",
       "      <td>20.0</td>\n",
       "      <td>NaN</td>\n",
       "      <td>NaN</td>\n",
       "      <td>NaN</td>\n",
       "      <td>74.23</td>\n",
       "      <td>4.690876</td>\n",
       "      <td>66.2</td>\n",
       "      <td>72.85</td>\n",
       "      <td>74.5</td>\n",
       "      <td>77.325</td>\n",
       "      <td>82.2</td>\n",
       "    </tr>\n",
       "    <tr>\n",
       "      <th>Male Life</th>\n",
       "      <td>20.0</td>\n",
       "      <td>NaN</td>\n",
       "      <td>NaN</td>\n",
       "      <td>NaN</td>\n",
       "      <td>71.625</td>\n",
       "      <td>4.770399</td>\n",
       "      <td>63.0</td>\n",
       "      <td>69.975</td>\n",
       "      <td>72.1</td>\n",
       "      <td>74.75</td>\n",
       "      <td>79.8</td>\n",
       "    </tr>\n",
       "    <tr>\n",
       "      <th>Female Life</th>\n",
       "      <td>20.0</td>\n",
       "      <td>NaN</td>\n",
       "      <td>NaN</td>\n",
       "      <td>NaN</td>\n",
       "      <td>76.915</td>\n",
       "      <td>4.769782</td>\n",
       "      <td>68.8</td>\n",
       "      <td>75.075</td>\n",
       "      <td>77.3</td>\n",
       "      <td>79.9</td>\n",
       "      <td>84.8</td>\n",
       "    </tr>\n",
       "    <tr>\n",
       "      <th>Continent</th>\n",
       "      <td>20</td>\n",
       "      <td>1</td>\n",
       "      <td>Oceania</td>\n",
       "      <td>20</td>\n",
       "      <td>NaN</td>\n",
       "      <td>NaN</td>\n",
       "      <td>NaN</td>\n",
       "      <td>NaN</td>\n",
       "      <td>NaN</td>\n",
       "      <td>NaN</td>\n",
       "      <td>NaN</td>\n",
       "    </tr>\n",
       "  </tbody>\n",
       "</table>\n",
       "</div>"
      ],
      "text/plain": [
       "             count unique              top freq    mean        std   min  \\\n",
       "Rank          20.0    NaN              NaN  NaN   108.4  48.343508  14.0   \n",
       "Country         20     20  Solomon Islands    1     NaN        NaN   NaN   \n",
       "Overall Life  20.0    NaN              NaN  NaN   74.23   4.690876  66.2   \n",
       "Male Life     20.0    NaN              NaN  NaN  71.625   4.770399  63.0   \n",
       "Female Life   20.0    NaN              NaN  NaN  76.915   4.769782  68.8   \n",
       "Continent       20      1          Oceania   20     NaN        NaN   NaN   \n",
       "\n",
       "                 25%    50%     75%    max  \n",
       "Rank           70.75  117.5   137.0  173.0  \n",
       "Country          NaN    NaN     NaN    NaN  \n",
       "Overall Life   72.85   74.5  77.325   82.2  \n",
       "Male Life     69.975   72.1   74.75   79.8  \n",
       "Female Life   75.075   77.3    79.9   84.8  \n",
       "Continent        NaN    NaN     NaN    NaN  "
      ]
     },
     "execution_count": 55,
     "metadata": {},
     "output_type": "execute_result"
    }
   ],
   "source": [
    "oceania.describe(include='all').transpose()"
   ]
  },
  {
   "cell_type": "code",
   "execution_count": 56,
   "id": "e2f58331",
   "metadata": {},
   "outputs": [
    {
     "data": {
      "text/html": [
       "<div>\n",
       "<style scoped>\n",
       "    .dataframe tbody tr th:only-of-type {\n",
       "        vertical-align: middle;\n",
       "    }\n",
       "\n",
       "    .dataframe tbody tr th {\n",
       "        vertical-align: top;\n",
       "    }\n",
       "\n",
       "    .dataframe thead th {\n",
       "        text-align: right;\n",
       "    }\n",
       "</style>\n",
       "<table border=\"1\" class=\"dataframe\">\n",
       "  <thead>\n",
       "    <tr style=\"text-align: right;\">\n",
       "      <th></th>\n",
       "      <th>count</th>\n",
       "      <th>unique</th>\n",
       "      <th>top</th>\n",
       "      <th>freq</th>\n",
       "      <th>mean</th>\n",
       "      <th>std</th>\n",
       "      <th>min</th>\n",
       "      <th>25%</th>\n",
       "      <th>50%</th>\n",
       "      <th>75%</th>\n",
       "      <th>max</th>\n",
       "    </tr>\n",
       "  </thead>\n",
       "  <tbody>\n",
       "    <tr>\n",
       "      <th>Rank</th>\n",
       "      <td>14.0</td>\n",
       "      <td>NaN</td>\n",
       "      <td>NaN</td>\n",
       "      <td>NaN</td>\n",
       "      <td>100.857143</td>\n",
       "      <td>36.808981</td>\n",
       "      <td>51.0</td>\n",
       "      <td>74.25</td>\n",
       "      <td>88.0</td>\n",
       "      <td>126.5</td>\n",
       "      <td>164.0</td>\n",
       "    </tr>\n",
       "    <tr>\n",
       "      <th>Country</th>\n",
       "      <td>14</td>\n",
       "      <td>14</td>\n",
       "      <td>Aruba</td>\n",
       "      <td>1</td>\n",
       "      <td>NaN</td>\n",
       "      <td>NaN</td>\n",
       "      <td>NaN</td>\n",
       "      <td>NaN</td>\n",
       "      <td>NaN</td>\n",
       "      <td>NaN</td>\n",
       "      <td>NaN</td>\n",
       "    </tr>\n",
       "    <tr>\n",
       "      <th>Overall Life</th>\n",
       "      <td>14.0</td>\n",
       "      <td>NaN</td>\n",
       "      <td>NaN</td>\n",
       "      <td>NaN</td>\n",
       "      <td>75.042857</td>\n",
       "      <td>3.194879</td>\n",
       "      <td>68.4</td>\n",
       "      <td>73.725</td>\n",
       "      <td>76.3</td>\n",
       "      <td>77.175</td>\n",
       "      <td>78.8</td>\n",
       "    </tr>\n",
       "    <tr>\n",
       "      <th>Male Life</th>\n",
       "      <td>14.0</td>\n",
       "      <td>NaN</td>\n",
       "      <td>NaN</td>\n",
       "      <td>NaN</td>\n",
       "      <td>72.157143</td>\n",
       "      <td>3.174832</td>\n",
       "      <td>65.4</td>\n",
       "      <td>70.575</td>\n",
       "      <td>73.2</td>\n",
       "      <td>74.075</td>\n",
       "      <td>75.7</td>\n",
       "    </tr>\n",
       "    <tr>\n",
       "      <th>Female Life</th>\n",
       "      <td>14.0</td>\n",
       "      <td>NaN</td>\n",
       "      <td>NaN</td>\n",
       "      <td>NaN</td>\n",
       "      <td>77.992857</td>\n",
       "      <td>3.219762</td>\n",
       "      <td>71.5</td>\n",
       "      <td>76.3</td>\n",
       "      <td>79.3</td>\n",
       "      <td>79.975</td>\n",
       "      <td>81.9</td>\n",
       "    </tr>\n",
       "    <tr>\n",
       "      <th>Continent</th>\n",
       "      <td>14</td>\n",
       "      <td>1</td>\n",
       "      <td>South America</td>\n",
       "      <td>14</td>\n",
       "      <td>NaN</td>\n",
       "      <td>NaN</td>\n",
       "      <td>NaN</td>\n",
       "      <td>NaN</td>\n",
       "      <td>NaN</td>\n",
       "      <td>NaN</td>\n",
       "      <td>NaN</td>\n",
       "    </tr>\n",
       "  </tbody>\n",
       "</table>\n",
       "</div>"
      ],
      "text/plain": [
       "             count unique            top freq        mean        std   min  \\\n",
       "Rank          14.0    NaN            NaN  NaN  100.857143  36.808981  51.0   \n",
       "Country         14     14          Aruba    1         NaN        NaN   NaN   \n",
       "Overall Life  14.0    NaN            NaN  NaN   75.042857   3.194879  68.4   \n",
       "Male Life     14.0    NaN            NaN  NaN   72.157143   3.174832  65.4   \n",
       "Female Life   14.0    NaN            NaN  NaN   77.992857   3.219762  71.5   \n",
       "Continent       14      1  South America   14         NaN        NaN   NaN   \n",
       "\n",
       "                 25%   50%     75%    max  \n",
       "Rank           74.25  88.0   126.5  164.0  \n",
       "Country          NaN   NaN     NaN    NaN  \n",
       "Overall Life  73.725  76.3  77.175   78.8  \n",
       "Male Life     70.575  73.2  74.075   75.7  \n",
       "Female Life     76.3  79.3  79.975   81.9  \n",
       "Continent        NaN   NaN     NaN    NaN  "
      ]
     },
     "execution_count": 56,
     "metadata": {},
     "output_type": "execute_result"
    }
   ],
   "source": [
    "SA.describe(include='all').transpose()"
   ]
  },
  {
   "cell_type": "code",
   "execution_count": 57,
   "id": "09c93eff",
   "metadata": {},
   "outputs": [
    {
     "data": {
      "text/html": [
       "<div>\n",
       "<style scoped>\n",
       "    .dataframe tbody tr th:only-of-type {\n",
       "        vertical-align: middle;\n",
       "    }\n",
       "\n",
       "    .dataframe tbody tr th {\n",
       "        vertical-align: top;\n",
       "    }\n",
       "\n",
       "    .dataframe thead th {\n",
       "        text-align: right;\n",
       "    }\n",
       "</style>\n",
       "<table border=\"1\" class=\"dataframe\">\n",
       "  <thead>\n",
       "    <tr style=\"text-align: right;\">\n",
       "      <th></th>\n",
       "      <th>count</th>\n",
       "      <th>unique</th>\n",
       "      <th>top</th>\n",
       "      <th>freq</th>\n",
       "      <th>mean</th>\n",
       "      <th>std</th>\n",
       "      <th>min</th>\n",
       "      <th>25%</th>\n",
       "      <th>50%</th>\n",
       "      <th>75%</th>\n",
       "      <th>max</th>\n",
       "    </tr>\n",
       "  </thead>\n",
       "  <tbody>\n",
       "    <tr>\n",
       "      <th>Rank</th>\n",
       "      <td>34.0</td>\n",
       "      <td>NaN</td>\n",
       "      <td>NaN</td>\n",
       "      <td>NaN</td>\n",
       "      <td>87.147059</td>\n",
       "      <td>46.705481</td>\n",
       "      <td>17.0</td>\n",
       "      <td>49.0</td>\n",
       "      <td>81.0</td>\n",
       "      <td>127.5</td>\n",
       "      <td>186.0</td>\n",
       "    </tr>\n",
       "    <tr>\n",
       "      <th>Country</th>\n",
       "      <td>34</td>\n",
       "      <td>34</td>\n",
       "      <td>Montserrat</td>\n",
       "      <td>1</td>\n",
       "      <td>NaN</td>\n",
       "      <td>NaN</td>\n",
       "      <td>NaN</td>\n",
       "      <td>NaN</td>\n",
       "      <td>NaN</td>\n",
       "      <td>NaN</td>\n",
       "      <td>NaN</td>\n",
       "    </tr>\n",
       "    <tr>\n",
       "      <th>Overall Life</th>\n",
       "      <td>34.0</td>\n",
       "      <td>NaN</td>\n",
       "      <td>NaN</td>\n",
       "      <td>NaN</td>\n",
       "      <td>76.273529</td>\n",
       "      <td>4.012504</td>\n",
       "      <td>63.8</td>\n",
       "      <td>73.775</td>\n",
       "      <td>76.75</td>\n",
       "      <td>79.225</td>\n",
       "      <td>81.9</td>\n",
       "    </tr>\n",
       "    <tr>\n",
       "      <th>Male Life</th>\n",
       "      <td>34.0</td>\n",
       "      <td>NaN</td>\n",
       "      <td>NaN</td>\n",
       "      <td>NaN</td>\n",
       "      <td>73.914706</td>\n",
       "      <td>3.874167</td>\n",
       "      <td>61.2</td>\n",
       "      <td>71.475</td>\n",
       "      <td>74.7</td>\n",
       "      <td>76.85</td>\n",
       "      <td>79.2</td>\n",
       "    </tr>\n",
       "    <tr>\n",
       "      <th>Female Life</th>\n",
       "      <td>34.0</td>\n",
       "      <td>NaN</td>\n",
       "      <td>NaN</td>\n",
       "      <td>NaN</td>\n",
       "      <td>78.738235</td>\n",
       "      <td>4.326242</td>\n",
       "      <td>66.4</td>\n",
       "      <td>75.6</td>\n",
       "      <td>79.45</td>\n",
       "      <td>81.975</td>\n",
       "      <td>84.6</td>\n",
       "    </tr>\n",
       "    <tr>\n",
       "      <th>Continent</th>\n",
       "      <td>34</td>\n",
       "      <td>1</td>\n",
       "      <td>North America</td>\n",
       "      <td>34</td>\n",
       "      <td>NaN</td>\n",
       "      <td>NaN</td>\n",
       "      <td>NaN</td>\n",
       "      <td>NaN</td>\n",
       "      <td>NaN</td>\n",
       "      <td>NaN</td>\n",
       "      <td>NaN</td>\n",
       "    </tr>\n",
       "  </tbody>\n",
       "</table>\n",
       "</div>"
      ],
      "text/plain": [
       "             count unique            top freq       mean        std   min  \\\n",
       "Rank          34.0    NaN            NaN  NaN  87.147059  46.705481  17.0   \n",
       "Country         34     34     Montserrat    1        NaN        NaN   NaN   \n",
       "Overall Life  34.0    NaN            NaN  NaN  76.273529   4.012504  63.8   \n",
       "Male Life     34.0    NaN            NaN  NaN  73.914706   3.874167  61.2   \n",
       "Female Life   34.0    NaN            NaN  NaN  78.738235   4.326242  66.4   \n",
       "Continent       34      1  North America   34        NaN        NaN   NaN   \n",
       "\n",
       "                 25%    50%     75%    max  \n",
       "Rank            49.0   81.0   127.5  186.0  \n",
       "Country          NaN    NaN     NaN    NaN  \n",
       "Overall Life  73.775  76.75  79.225   81.9  \n",
       "Male Life     71.475   74.7   76.85   79.2  \n",
       "Female Life     75.6  79.45  81.975   84.6  \n",
       "Continent        NaN    NaN     NaN    NaN  "
      ]
     },
     "execution_count": 57,
     "metadata": {},
     "output_type": "execute_result"
    }
   ],
   "source": [
    "NA.describe(include='all').transpose()"
   ]
  },
  {
   "cell_type": "code",
   "execution_count": 58,
   "id": "2827aa93",
   "metadata": {},
   "outputs": [
    {
     "data": {
      "text/html": [
       "<div>\n",
       "<style scoped>\n",
       "    .dataframe tbody tr th:only-of-type {\n",
       "        vertical-align: middle;\n",
       "    }\n",
       "\n",
       "    .dataframe tbody tr th {\n",
       "        vertical-align: top;\n",
       "    }\n",
       "\n",
       "    .dataframe thead th {\n",
       "        text-align: right;\n",
       "    }\n",
       "</style>\n",
       "<table border=\"1\" class=\"dataframe\">\n",
       "  <thead>\n",
       "    <tr style=\"text-align: right;\">\n",
       "      <th></th>\n",
       "      <th>count</th>\n",
       "      <th>unique</th>\n",
       "      <th>top</th>\n",
       "      <th>freq</th>\n",
       "      <th>mean</th>\n",
       "      <th>std</th>\n",
       "      <th>min</th>\n",
       "      <th>25%</th>\n",
       "      <th>50%</th>\n",
       "      <th>75%</th>\n",
       "      <th>max</th>\n",
       "    </tr>\n",
       "  </thead>\n",
       "  <tbody>\n",
       "    <tr>\n",
       "      <th>Rank</th>\n",
       "      <td>49.0</td>\n",
       "      <td>NaN</td>\n",
       "      <td>NaN</td>\n",
       "      <td>NaN</td>\n",
       "      <td>112.836735</td>\n",
       "      <td>55.749195</td>\n",
       "      <td>2.0</td>\n",
       "      <td>71.0</td>\n",
       "      <td>119.0</td>\n",
       "      <td>157.0</td>\n",
       "      <td>221.0</td>\n",
       "    </tr>\n",
       "    <tr>\n",
       "      <th>Country</th>\n",
       "      <td>49</td>\n",
       "      <td>49</td>\n",
       "      <td>Thailand</td>\n",
       "      <td>1</td>\n",
       "      <td>NaN</td>\n",
       "      <td>NaN</td>\n",
       "      <td>NaN</td>\n",
       "      <td>NaN</td>\n",
       "      <td>NaN</td>\n",
       "      <td>NaN</td>\n",
       "      <td>NaN</td>\n",
       "    </tr>\n",
       "    <tr>\n",
       "      <th>Overall Life</th>\n",
       "      <td>49.0</td>\n",
       "      <td>NaN</td>\n",
       "      <td>NaN</td>\n",
       "      <td>NaN</td>\n",
       "      <td>73.618367</td>\n",
       "      <td>6.181244</td>\n",
       "      <td>51.3</td>\n",
       "      <td>70.1</td>\n",
       "      <td>74.6</td>\n",
       "      <td>77.2</td>\n",
       "      <td>85.0</td>\n",
       "    </tr>\n",
       "    <tr>\n",
       "      <th>Male Life</th>\n",
       "      <td>49.0</td>\n",
       "      <td>NaN</td>\n",
       "      <td>NaN</td>\n",
       "      <td>NaN</td>\n",
       "      <td>71.046939</td>\n",
       "      <td>6.218323</td>\n",
       "      <td>49.9</td>\n",
       "      <td>66.5</td>\n",
       "      <td>72.2</td>\n",
       "      <td>74.8</td>\n",
       "      <td>82.3</td>\n",
       "    </tr>\n",
       "    <tr>\n",
       "      <th>Female Life</th>\n",
       "      <td>49.0</td>\n",
       "      <td>NaN</td>\n",
       "      <td>NaN</td>\n",
       "      <td>NaN</td>\n",
       "      <td>76.138776</td>\n",
       "      <td>6.423713</td>\n",
       "      <td>52.7</td>\n",
       "      <td>72.9</td>\n",
       "      <td>77.0</td>\n",
       "      <td>79.4</td>\n",
       "      <td>88.5</td>\n",
       "    </tr>\n",
       "    <tr>\n",
       "      <th>Continent</th>\n",
       "      <td>49</td>\n",
       "      <td>1</td>\n",
       "      <td>Asia</td>\n",
       "      <td>49</td>\n",
       "      <td>NaN</td>\n",
       "      <td>NaN</td>\n",
       "      <td>NaN</td>\n",
       "      <td>NaN</td>\n",
       "      <td>NaN</td>\n",
       "      <td>NaN</td>\n",
       "      <td>NaN</td>\n",
       "    </tr>\n",
       "  </tbody>\n",
       "</table>\n",
       "</div>"
      ],
      "text/plain": [
       "             count unique       top freq        mean        std   min   25%  \\\n",
       "Rank          49.0    NaN       NaN  NaN  112.836735  55.749195   2.0  71.0   \n",
       "Country         49     49  Thailand    1         NaN        NaN   NaN   NaN   \n",
       "Overall Life  49.0    NaN       NaN  NaN   73.618367   6.181244  51.3  70.1   \n",
       "Male Life     49.0    NaN       NaN  NaN   71.046939   6.218323  49.9  66.5   \n",
       "Female Life   49.0    NaN       NaN  NaN   76.138776   6.423713  52.7  72.9   \n",
       "Continent       49      1      Asia   49         NaN        NaN   NaN   NaN   \n",
       "\n",
       "                50%    75%    max  \n",
       "Rank          119.0  157.0  221.0  \n",
       "Country         NaN    NaN    NaN  \n",
       "Overall Life   74.6   77.2   85.0  \n",
       "Male Life      72.2   74.8   82.3  \n",
       "Female Life    77.0   79.4   88.5  \n",
       "Continent       NaN    NaN    NaN  "
      ]
     },
     "execution_count": 58,
     "metadata": {},
     "output_type": "execute_result"
    }
   ],
   "source": [
    "asia.describe(include='all').transpose()"
   ]
  },
  {
   "cell_type": "code",
   "execution_count": 61,
   "id": "11eae2cb",
   "metadata": {},
   "outputs": [
    {
     "data": {
      "text/html": [
       "<div>\n",
       "<style scoped>\n",
       "    .dataframe tbody tr th:only-of-type {\n",
       "        vertical-align: middle;\n",
       "    }\n",
       "\n",
       "    .dataframe tbody tr th {\n",
       "        vertical-align: top;\n",
       "    }\n",
       "\n",
       "    .dataframe thead th {\n",
       "        text-align: right;\n",
       "    }\n",
       "</style>\n",
       "<table border=\"1\" class=\"dataframe\">\n",
       "  <thead>\n",
       "    <tr style=\"text-align: right;\">\n",
       "      <th></th>\n",
       "      <th>count</th>\n",
       "      <th>unique</th>\n",
       "      <th>top</th>\n",
       "      <th>freq</th>\n",
       "      <th>mean</th>\n",
       "      <th>std</th>\n",
       "      <th>min</th>\n",
       "      <th>25%</th>\n",
       "      <th>50%</th>\n",
       "      <th>75%</th>\n",
       "      <th>max</th>\n",
       "    </tr>\n",
       "  </thead>\n",
       "  <tbody>\n",
       "    <tr>\n",
       "      <th>Rank</th>\n",
       "      <td>51.0</td>\n",
       "      <td>NaN</td>\n",
       "      <td>NaN</td>\n",
       "      <td>NaN</td>\n",
       "      <td>56.313725</td>\n",
       "      <td>42.991855</td>\n",
       "      <td>1.0</td>\n",
       "      <td>21.5</td>\n",
       "      <td>39.0</td>\n",
       "      <td>87.5</td>\n",
       "      <td>153.0</td>\n",
       "    </tr>\n",
       "    <tr>\n",
       "      <th>Country</th>\n",
       "      <td>51</td>\n",
       "      <td>51</td>\n",
       "      <td>France, metropolitan</td>\n",
       "      <td>1</td>\n",
       "      <td>NaN</td>\n",
       "      <td>NaN</td>\n",
       "      <td>NaN</td>\n",
       "      <td>NaN</td>\n",
       "      <td>NaN</td>\n",
       "      <td>NaN</td>\n",
       "      <td>NaN</td>\n",
       "    </tr>\n",
       "    <tr>\n",
       "      <th>Overall Life</th>\n",
       "      <td>51.0</td>\n",
       "      <td>NaN</td>\n",
       "      <td>NaN</td>\n",
       "      <td>NaN</td>\n",
       "      <td>79.019608</td>\n",
       "      <td>3.619835</td>\n",
       "      <td>70.7</td>\n",
       "      <td>76.2</td>\n",
       "      <td>80.2</td>\n",
       "      <td>81.75</td>\n",
       "      <td>89.5</td>\n",
       "    </tr>\n",
       "    <tr>\n",
       "      <th>Male Life</th>\n",
       "      <td>51.0</td>\n",
       "      <td>NaN</td>\n",
       "      <td>NaN</td>\n",
       "      <td>NaN</td>\n",
       "      <td>76.003922</td>\n",
       "      <td>4.201617</td>\n",
       "      <td>66.9</td>\n",
       "      <td>72.65</td>\n",
       "      <td>77.4</td>\n",
       "      <td>79.3</td>\n",
       "      <td>85.6</td>\n",
       "    </tr>\n",
       "    <tr>\n",
       "      <th>Female Life</th>\n",
       "      <td>51.0</td>\n",
       "      <td>NaN</td>\n",
       "      <td>NaN</td>\n",
       "      <td>NaN</td>\n",
       "      <td>82.237255</td>\n",
       "      <td>3.124481</td>\n",
       "      <td>74.8</td>\n",
       "      <td>80.3</td>\n",
       "      <td>82.8</td>\n",
       "      <td>84.2</td>\n",
       "      <td>93.5</td>\n",
       "    </tr>\n",
       "    <tr>\n",
       "      <th>Continent</th>\n",
       "      <td>51</td>\n",
       "      <td>1</td>\n",
       "      <td>Europe</td>\n",
       "      <td>51</td>\n",
       "      <td>NaN</td>\n",
       "      <td>NaN</td>\n",
       "      <td>NaN</td>\n",
       "      <td>NaN</td>\n",
       "      <td>NaN</td>\n",
       "      <td>NaN</td>\n",
       "      <td>NaN</td>\n",
       "    </tr>\n",
       "  </tbody>\n",
       "</table>\n",
       "</div>"
      ],
      "text/plain": [
       "             count unique                   top freq       mean        std  \\\n",
       "Rank          51.0    NaN                   NaN  NaN  56.313725  42.991855   \n",
       "Country         51     51  France, metropolitan    1        NaN        NaN   \n",
       "Overall Life  51.0    NaN                   NaN  NaN  79.019608   3.619835   \n",
       "Male Life     51.0    NaN                   NaN  NaN  76.003922   4.201617   \n",
       "Female Life   51.0    NaN                   NaN  NaN  82.237255   3.124481   \n",
       "Continent       51      1                Europe   51        NaN        NaN   \n",
       "\n",
       "               min    25%   50%    75%    max  \n",
       "Rank           1.0   21.5  39.0   87.5  153.0  \n",
       "Country        NaN    NaN   NaN    NaN    NaN  \n",
       "Overall Life  70.7   76.2  80.2  81.75   89.5  \n",
       "Male Life     66.9  72.65  77.4   79.3   85.6  \n",
       "Female Life   74.8   80.3  82.8   84.2   93.5  \n",
       "Continent      NaN    NaN   NaN    NaN    NaN  "
      ]
     },
     "execution_count": 61,
     "metadata": {},
     "output_type": "execute_result"
    }
   ],
   "source": [
    "eropa.describe(include='all').transpose()"
   ]
  },
  {
   "cell_type": "code",
   "execution_count": 60,
   "id": "25fed87c",
   "metadata": {
    "scrolled": true
   },
   "outputs": [
    {
     "data": {
      "text/html": [
       "<div>\n",
       "<style scoped>\n",
       "    .dataframe tbody tr th:only-of-type {\n",
       "        vertical-align: middle;\n",
       "    }\n",
       "\n",
       "    .dataframe tbody tr th {\n",
       "        vertical-align: top;\n",
       "    }\n",
       "\n",
       "    .dataframe thead th {\n",
       "        text-align: right;\n",
       "    }\n",
       "</style>\n",
       "<table border=\"1\" class=\"dataframe\">\n",
       "  <thead>\n",
       "    <tr style=\"text-align: right;\">\n",
       "      <th></th>\n",
       "      <th>count</th>\n",
       "      <th>unique</th>\n",
       "      <th>top</th>\n",
       "      <th>freq</th>\n",
       "      <th>mean</th>\n",
       "      <th>std</th>\n",
       "      <th>min</th>\n",
       "      <th>25%</th>\n",
       "      <th>50%</th>\n",
       "      <th>75%</th>\n",
       "      <th>max</th>\n",
       "    </tr>\n",
       "  </thead>\n",
       "  <tbody>\n",
       "    <tr>\n",
       "      <th>Rank</th>\n",
       "      <td>55.0</td>\n",
       "      <td>NaN</td>\n",
       "      <td>NaN</td>\n",
       "      <td>NaN</td>\n",
       "      <td>182.4</td>\n",
       "      <td>41.885912</td>\n",
       "      <td>45.0</td>\n",
       "      <td>178.5</td>\n",
       "      <td>195.0</td>\n",
       "      <td>208.5</td>\n",
       "      <td>223.0</td>\n",
       "    </tr>\n",
       "    <tr>\n",
       "      <th>Country</th>\n",
       "      <td>55</td>\n",
       "      <td>55</td>\n",
       "      <td>Cameroon</td>\n",
       "      <td>1</td>\n",
       "      <td>NaN</td>\n",
       "      <td>NaN</td>\n",
       "      <td>NaN</td>\n",
       "      <td>NaN</td>\n",
       "      <td>NaN</td>\n",
       "      <td>NaN</td>\n",
       "      <td>NaN</td>\n",
       "    </tr>\n",
       "    <tr>\n",
       "      <th>Overall Life</th>\n",
       "      <td>55.0</td>\n",
       "      <td>NaN</td>\n",
       "      <td>NaN</td>\n",
       "      <td>NaN</td>\n",
       "      <td>61.8</td>\n",
       "      <td>7.643298</td>\n",
       "      <td>50.2</td>\n",
       "      <td>55.65</td>\n",
       "      <td>61.7</td>\n",
       "      <td>64.9</td>\n",
       "      <td>79.5</td>\n",
       "    </tr>\n",
       "    <tr>\n",
       "      <th>Male Life</th>\n",
       "      <td>55.0</td>\n",
       "      <td>NaN</td>\n",
       "      <td>NaN</td>\n",
       "      <td>NaN</td>\n",
       "      <td>60.109091</td>\n",
       "      <td>7.157779</td>\n",
       "      <td>48.6</td>\n",
       "      <td>54.55</td>\n",
       "      <td>59.7</td>\n",
       "      <td>62.55</td>\n",
       "      <td>76.6</td>\n",
       "    </tr>\n",
       "    <tr>\n",
       "      <th>Female Life</th>\n",
       "      <td>55.0</td>\n",
       "      <td>NaN</td>\n",
       "      <td>NaN</td>\n",
       "      <td>NaN</td>\n",
       "      <td>63.583636</td>\n",
       "      <td>8.275595</td>\n",
       "      <td>51.0</td>\n",
       "      <td>57.4</td>\n",
       "      <td>63.3</td>\n",
       "      <td>66.95</td>\n",
       "      <td>82.6</td>\n",
       "    </tr>\n",
       "    <tr>\n",
       "      <th>Continent</th>\n",
       "      <td>55</td>\n",
       "      <td>1</td>\n",
       "      <td>Africa</td>\n",
       "      <td>55</td>\n",
       "      <td>NaN</td>\n",
       "      <td>NaN</td>\n",
       "      <td>NaN</td>\n",
       "      <td>NaN</td>\n",
       "      <td>NaN</td>\n",
       "      <td>NaN</td>\n",
       "      <td>NaN</td>\n",
       "    </tr>\n",
       "  </tbody>\n",
       "</table>\n",
       "</div>"
      ],
      "text/plain": [
       "             count unique       top freq       mean        std   min    25%  \\\n",
       "Rank          55.0    NaN       NaN  NaN      182.4  41.885912  45.0  178.5   \n",
       "Country         55     55  Cameroon    1        NaN        NaN   NaN    NaN   \n",
       "Overall Life  55.0    NaN       NaN  NaN       61.8   7.643298  50.2  55.65   \n",
       "Male Life     55.0    NaN       NaN  NaN  60.109091   7.157779  48.6  54.55   \n",
       "Female Life   55.0    NaN       NaN  NaN  63.583636   8.275595  51.0   57.4   \n",
       "Continent       55      1    Africa   55        NaN        NaN   NaN    NaN   \n",
       "\n",
       "                50%    75%    max  \n",
       "Rank          195.0  208.5  223.0  \n",
       "Country         NaN    NaN    NaN  \n",
       "Overall Life   61.7   64.9   79.5  \n",
       "Male Life      59.7  62.55   76.6  \n",
       "Female Life    63.3  66.95   82.6  \n",
       "Continent       NaN    NaN    NaN  "
      ]
     },
     "execution_count": 60,
     "metadata": {},
     "output_type": "execute_result"
    }
   ],
   "source": [
    "afrika.describe(include='all').transpose()"
   ]
  },
  {
   "cell_type": "code",
   "execution_count": 62,
   "id": "22b4317d",
   "metadata": {},
   "outputs": [],
   "source": [
    "asia = asia.set_index('Rank')\n",
    "eropa = eropa.set_index('Rank')\n",
    "afrika = afrika.set_index('Rank')\n",
    "NA = NA.set_index('Rank')\n",
    "SA = SA.set_index('Rank')\n",
    "oceania = oceania.set_index('Rank')"
   ]
  },
  {
   "cell_type": "code",
   "execution_count": 66,
   "id": "c7426818",
   "metadata": {},
   "outputs": [
    {
     "data": {
      "text/html": [
       "<div>\n",
       "<style scoped>\n",
       "    .dataframe tbody tr th:only-of-type {\n",
       "        vertical-align: middle;\n",
       "    }\n",
       "\n",
       "    .dataframe tbody tr th {\n",
       "        vertical-align: top;\n",
       "    }\n",
       "\n",
       "    .dataframe thead th {\n",
       "        text-align: right;\n",
       "    }\n",
       "</style>\n",
       "<table border=\"1\" class=\"dataframe\">\n",
       "  <thead>\n",
       "    <tr style=\"text-align: right;\">\n",
       "      <th></th>\n",
       "      <th>Country</th>\n",
       "      <th>Overall Life</th>\n",
       "      <th>Male Life</th>\n",
       "      <th>Female Life</th>\n",
       "      <th>Continent</th>\n",
       "    </tr>\n",
       "    <tr>\n",
       "      <th>Rank</th>\n",
       "      <th></th>\n",
       "      <th></th>\n",
       "      <th></th>\n",
       "      <th></th>\n",
       "      <th></th>\n",
       "    </tr>\n",
       "  </thead>\n",
       "  <tbody>\n",
       "    <tr>\n",
       "      <th>2</th>\n",
       "      <td>Japan</td>\n",
       "      <td>85.0</td>\n",
       "      <td>81.7</td>\n",
       "      <td>88.5</td>\n",
       "      <td>Asia</td>\n",
       "    </tr>\n",
       "  </tbody>\n",
       "</table>\n",
       "</div>"
      ],
      "text/plain": [
       "     Country  Overall Life  Male Life  Female Life Continent\n",
       "Rank                                                        \n",
       "2      Japan          85.0       81.7         88.5      Asia"
      ]
     },
     "execution_count": 66,
     "metadata": {},
     "output_type": "execute_result"
    }
   ],
   "source": [
    "asia.head(1)"
   ]
  },
  {
   "cell_type": "code",
   "execution_count": 67,
   "id": "7bc40dd4",
   "metadata": {},
   "outputs": [
    {
     "data": {
      "text/html": [
       "<div>\n",
       "<style scoped>\n",
       "    .dataframe tbody tr th:only-of-type {\n",
       "        vertical-align: middle;\n",
       "    }\n",
       "\n",
       "    .dataframe tbody tr th {\n",
       "        vertical-align: top;\n",
       "    }\n",
       "\n",
       "    .dataframe thead th {\n",
       "        text-align: right;\n",
       "    }\n",
       "</style>\n",
       "<table border=\"1\" class=\"dataframe\">\n",
       "  <thead>\n",
       "    <tr style=\"text-align: right;\">\n",
       "      <th></th>\n",
       "      <th>Country</th>\n",
       "      <th>Overall Life</th>\n",
       "      <th>Male Life</th>\n",
       "      <th>Female Life</th>\n",
       "      <th>Continent</th>\n",
       "    </tr>\n",
       "    <tr>\n",
       "      <th>Rank</th>\n",
       "      <th></th>\n",
       "      <th></th>\n",
       "      <th></th>\n",
       "      <th></th>\n",
       "      <th></th>\n",
       "    </tr>\n",
       "  </thead>\n",
       "  <tbody>\n",
       "    <tr>\n",
       "      <th>1</th>\n",
       "      <td>Monaco</td>\n",
       "      <td>89.5</td>\n",
       "      <td>85.6</td>\n",
       "      <td>93.5</td>\n",
       "      <td>Europe</td>\n",
       "    </tr>\n",
       "  </tbody>\n",
       "</table>\n",
       "</div>"
      ],
      "text/plain": [
       "     Country  Overall Life  Male Life  Female Life Continent\n",
       "Rank                                                        \n",
       "1     Monaco          89.5       85.6         93.5    Europe"
      ]
     },
     "execution_count": 67,
     "metadata": {},
     "output_type": "execute_result"
    }
   ],
   "source": [
    "eropa.head(1)"
   ]
  },
  {
   "cell_type": "code",
   "execution_count": 68,
   "id": "699d7475",
   "metadata": {},
   "outputs": [
    {
     "data": {
      "text/html": [
       "<div>\n",
       "<style scoped>\n",
       "    .dataframe tbody tr th:only-of-type {\n",
       "        vertical-align: middle;\n",
       "    }\n",
       "\n",
       "    .dataframe tbody tr th {\n",
       "        vertical-align: top;\n",
       "    }\n",
       "\n",
       "    .dataframe thead th {\n",
       "        text-align: right;\n",
       "    }\n",
       "</style>\n",
       "<table border=\"1\" class=\"dataframe\">\n",
       "  <thead>\n",
       "    <tr style=\"text-align: right;\">\n",
       "      <th></th>\n",
       "      <th>Country</th>\n",
       "      <th>Overall Life</th>\n",
       "      <th>Male Life</th>\n",
       "      <th>Female Life</th>\n",
       "      <th>Continent</th>\n",
       "    </tr>\n",
       "    <tr>\n",
       "      <th>Rank</th>\n",
       "      <th></th>\n",
       "      <th></th>\n",
       "      <th></th>\n",
       "      <th></th>\n",
       "      <th></th>\n",
       "    </tr>\n",
       "  </thead>\n",
       "  <tbody>\n",
       "    <tr>\n",
       "      <th>45</th>\n",
       "      <td>Saint Helena, Ascension and Tristan da Cunha</td>\n",
       "      <td>79.5</td>\n",
       "      <td>76.6</td>\n",
       "      <td>82.6</td>\n",
       "      <td>Africa</td>\n",
       "    </tr>\n",
       "  </tbody>\n",
       "</table>\n",
       "</div>"
      ],
      "text/plain": [
       "                                           Country  Overall Life  Male Life  \\\n",
       "Rank                                                                          \n",
       "45    Saint Helena, Ascension and Tristan da Cunha          79.5       76.6   \n",
       "\n",
       "      Female Life Continent  \n",
       "Rank                         \n",
       "45           82.6    Africa  "
      ]
     },
     "execution_count": 68,
     "metadata": {},
     "output_type": "execute_result"
    }
   ],
   "source": [
    "afrika.head(1)"
   ]
  },
  {
   "cell_type": "code",
   "execution_count": 69,
   "id": "6622d8e8",
   "metadata": {},
   "outputs": [
    {
     "data": {
      "text/html": [
       "<div>\n",
       "<style scoped>\n",
       "    .dataframe tbody tr th:only-of-type {\n",
       "        vertical-align: middle;\n",
       "    }\n",
       "\n",
       "    .dataframe tbody tr th {\n",
       "        vertical-align: top;\n",
       "    }\n",
       "\n",
       "    .dataframe thead th {\n",
       "        text-align: right;\n",
       "    }\n",
       "</style>\n",
       "<table border=\"1\" class=\"dataframe\">\n",
       "  <thead>\n",
       "    <tr style=\"text-align: right;\">\n",
       "      <th></th>\n",
       "      <th>Country</th>\n",
       "      <th>Overall Life</th>\n",
       "      <th>Male Life</th>\n",
       "      <th>Female Life</th>\n",
       "      <th>Continent</th>\n",
       "    </tr>\n",
       "    <tr>\n",
       "      <th>Rank</th>\n",
       "      <th></th>\n",
       "      <th></th>\n",
       "      <th></th>\n",
       "      <th></th>\n",
       "      <th></th>\n",
       "    </tr>\n",
       "  </thead>\n",
       "  <tbody>\n",
       "    <tr>\n",
       "      <th>17</th>\n",
       "      <td>Canada</td>\n",
       "      <td>81.9</td>\n",
       "      <td>79.2</td>\n",
       "      <td>84.6</td>\n",
       "      <td>North America</td>\n",
       "    </tr>\n",
       "  </tbody>\n",
       "</table>\n",
       "</div>"
      ],
      "text/plain": [
       "     Country  Overall Life  Male Life  Female Life      Continent\n",
       "Rank                                                             \n",
       "17    Canada          81.9       79.2         84.6  North America"
      ]
     },
     "execution_count": 69,
     "metadata": {},
     "output_type": "execute_result"
    }
   ],
   "source": [
    "NA.head(1)"
   ]
  },
  {
   "cell_type": "code",
   "execution_count": 70,
   "id": "ced23516",
   "metadata": {},
   "outputs": [
    {
     "data": {
      "text/html": [
       "<div>\n",
       "<style scoped>\n",
       "    .dataframe tbody tr th:only-of-type {\n",
       "        vertical-align: middle;\n",
       "    }\n",
       "\n",
       "    .dataframe tbody tr th {\n",
       "        vertical-align: top;\n",
       "    }\n",
       "\n",
       "    .dataframe thead th {\n",
       "        text-align: right;\n",
       "    }\n",
       "</style>\n",
       "<table border=\"1\" class=\"dataframe\">\n",
       "  <thead>\n",
       "    <tr style=\"text-align: right;\">\n",
       "      <th></th>\n",
       "      <th>Country</th>\n",
       "      <th>Overall Life</th>\n",
       "      <th>Male Life</th>\n",
       "      <th>Female Life</th>\n",
       "      <th>Continent</th>\n",
       "    </tr>\n",
       "    <tr>\n",
       "      <th>Rank</th>\n",
       "      <th></th>\n",
       "      <th></th>\n",
       "      <th></th>\n",
       "      <th></th>\n",
       "      <th></th>\n",
       "    </tr>\n",
       "  </thead>\n",
       "  <tbody>\n",
       "    <tr>\n",
       "      <th>51</th>\n",
       "      <td>Chile</td>\n",
       "      <td>78.8</td>\n",
       "      <td>75.7</td>\n",
       "      <td>81.9</td>\n",
       "      <td>South America</td>\n",
       "    </tr>\n",
       "  </tbody>\n",
       "</table>\n",
       "</div>"
      ],
      "text/plain": [
       "     Country  Overall Life  Male Life  Female Life      Continent\n",
       "Rank                                                             \n",
       "51     Chile          78.8       75.7         81.9  South America"
      ]
     },
     "execution_count": 70,
     "metadata": {},
     "output_type": "execute_result"
    }
   ],
   "source": [
    "SA.head(1)"
   ]
  },
  {
   "cell_type": "code",
   "execution_count": 71,
   "id": "a41d6c1f",
   "metadata": {},
   "outputs": [
    {
     "data": {
      "text/html": [
       "<div>\n",
       "<style scoped>\n",
       "    .dataframe tbody tr th:only-of-type {\n",
       "        vertical-align: middle;\n",
       "    }\n",
       "\n",
       "    .dataframe tbody tr th {\n",
       "        vertical-align: top;\n",
       "    }\n",
       "\n",
       "    .dataframe thead th {\n",
       "        text-align: right;\n",
       "    }\n",
       "</style>\n",
       "<table border=\"1\" class=\"dataframe\">\n",
       "  <thead>\n",
       "    <tr style=\"text-align: right;\">\n",
       "      <th></th>\n",
       "      <th>Country</th>\n",
       "      <th>Overall Life</th>\n",
       "      <th>Male Life</th>\n",
       "      <th>Female Life</th>\n",
       "      <th>Continent</th>\n",
       "    </tr>\n",
       "    <tr>\n",
       "      <th>Rank</th>\n",
       "      <th></th>\n",
       "      <th></th>\n",
       "      <th></th>\n",
       "      <th></th>\n",
       "      <th></th>\n",
       "    </tr>\n",
       "  </thead>\n",
       "  <tbody>\n",
       "    <tr>\n",
       "      <th>14</th>\n",
       "      <td>Australia</td>\n",
       "      <td>82.2</td>\n",
       "      <td>79.8</td>\n",
       "      <td>84.8</td>\n",
       "      <td>Oceania</td>\n",
       "    </tr>\n",
       "  </tbody>\n",
       "</table>\n",
       "</div>"
      ],
      "text/plain": [
       "        Country  Overall Life  Male Life  Female Life Continent\n",
       "Rank                                                           \n",
       "14    Australia          82.2       79.8         84.8   Oceania"
      ]
     },
     "execution_count": 71,
     "metadata": {},
     "output_type": "execute_result"
    }
   ],
   "source": [
    "oceania.head(1)"
   ]
  },
  {
   "cell_type": "markdown",
   "id": "49928f76",
   "metadata": {},
   "source": [
    "# PCA :"
   ]
  },
  {
   "cell_type": "code",
   "execution_count": 18,
   "id": "aa410adb",
   "metadata": {},
   "outputs": [],
   "source": [
    "num_data = num_data.set_index('Rank')"
   ]
  },
  {
   "cell_type": "code",
   "execution_count": 19,
   "id": "39b470d1",
   "metadata": {
    "scrolled": true
   },
   "outputs": [],
   "source": [
    "X = num_data"
   ]
  },
  {
   "cell_type": "code",
   "execution_count": 20,
   "id": "d0178f68",
   "metadata": {},
   "outputs": [
    {
     "data": {
      "text/plain": [
       "PCA(n_components=2)"
      ]
     },
     "execution_count": 20,
     "metadata": {},
     "output_type": "execute_result"
    }
   ],
   "source": [
    "pca= PCA(2)\n",
    "pca.fit(X)"
   ]
  },
  {
   "cell_type": "code",
   "execution_count": 21,
   "id": "e186c5ac",
   "metadata": {},
   "outputs": [],
   "source": [
    "X2D = pca.transform(X)"
   ]
  },
  {
   "cell_type": "markdown",
   "id": "5fd7daa4",
   "metadata": {},
   "source": [
    "# Unsupervised Model Implementation :"
   ]
  },
  {
   "cell_type": "markdown",
   "id": "092824a9",
   "metadata": {},
   "source": [
    "# KMeans :"
   ]
  },
  {
   "cell_type": "code",
   "execution_count": 23,
   "id": "070a903a",
   "metadata": {},
   "outputs": [
    {
     "data": {
      "image/png": "[encoded data removed]",
      "text/plain": [
       "<Figure size 432x288 with 2 Axes>"
      ]
     },
     "metadata": {},
     "output_type": "display_data"
    }
   ],
   "source": [
    "plt.figure(figsize=(6,4))\n",
    "viz = KElbowVisualizer(kmeans, k=(2,12))\n",
    "viz.fit(X2D)\n",
    "viz.show();"
   ]
  },
  {
   "cell_type": "code",
   "execution_count": 24,
   "id": "d3206948",
   "metadata": {},
   "outputs": [
    {
     "data": {
      "image/png": "[encoded data removed]",
      "text/plain": [
       "<Figure size 432x288 with 1 Axes>"
      ]
     },
     "metadata": {},
     "output_type": "display_data"
    }
   ],
   "source": [
    "plt.figure(figsize=(6,4))\n",
    "viskm = SilhouetteVisualizer(KMeans(4), color='yellowbrick')\n",
    "viskm.fit(X2D);"
   ]
  },
  {
   "cell_type": "code",
   "execution_count": 78,
   "id": "c36a52a8",
   "metadata": {},
   "outputs": [
    {
     "data": {
      "text/plain": [
       "KMeans(n_clusters=4, random_state=42)"
      ]
     },
     "execution_count": 78,
     "metadata": {},
     "output_type": "execute_result"
    }
   ],
   "source": [
    "kmeans = KMeans(random_state= 42, n_clusters= 4)\n",
    "kmeans.fit(X2D)"
   ]
  },
  {
   "cell_type": "code",
   "execution_count": 79,
   "id": "18e297e4",
   "metadata": {},
   "outputs": [],
   "source": [
    "kmlabel= kmeans.labels_\n",
    "centroid = kmeans.cluster_centers_"
   ]
  },
  {
   "cell_type": "code",
   "execution_count": 80,
   "id": "fd89d6b6",
   "metadata": {},
   "outputs": [
    {
     "data": {
      "image/png": "[encoded data removed]",
      "text/plain": [
       "<Figure size 480x320 with 1 Axes>"
      ]
     },
     "metadata": {},
     "output_type": "display_data"
    }
   ],
   "source": [
    "plt.figure(figsize=(6,4))\n",
    "plt.scatter(X2D[:, 0], X2D[:, 1], c=kmlabel, cmap='rainbow')\n",
    "\n",
    "plt.scatter(centroid[:, 0], centroid[:, 1], c='black', s=150, alpha=0.6);\n",
    "plt.xlabel('x1')\n",
    "plt.ylabel('x2')\n",
    "plt.title('Cluster Group');"
   ]
  },
  {
   "cell_type": "code",
   "execution_count": 27,
   "id": "9525e283",
   "metadata": {},
   "outputs": [
    {
     "name": "stdout",
     "output_type": "stream",
     "text": [
      "KMeans Silhouette Score :  0.45891010764581075\n"
     ]
    }
   ],
   "source": [
    "print(\"KMeans Silhouette Score : \", silhouette_score(X2D, kmlabel))"
   ]
  },
  {
   "cell_type": "code",
   "execution_count": 28,
   "id": "ab337212",
   "metadata": {},
   "outputs": [
    {
     "data": {
      "text/plain": [
       "AgglomerativeClustering()"
      ]
     },
     "execution_count": 28,
     "metadata": {},
     "output_type": "execute_result"
    }
   ],
   "source": [
    "agg1 = AgglomerativeClustering(n_clusters=2)\n",
    "agg1.fit(X2D)"
   ]
  },
  {
   "cell_type": "code",
   "execution_count": 29,
   "id": "c13e0e2f",
   "metadata": {},
   "outputs": [],
   "source": [
    "agg1label = agg1.labels_"
   ]
  },
  {
   "cell_type": "code",
   "execution_count": 30,
   "id": "cf3c30a6",
   "metadata": {},
   "outputs": [
    {
     "data": {
      "image/png": "[encoded data removed]",
      "text/plain": [
       "<Figure size 480x320 with 1 Axes>"
      ]
     },
     "metadata": {},
     "output_type": "display_data"
    }
   ],
   "source": [
    "plt.figure(figsize=(6,4)) # hanya untuk melihat scoring dari clusters\n",
    "plt.scatter(X2D[:,0], X2D[:,1], c=agg1label, cmap='ocean');"
   ]
  },
  {
   "cell_type": "code",
   "execution_count": 31,
   "id": "62cc2b98",
   "metadata": {},
   "outputs": [
    {
     "name": "stdout",
     "output_type": "stream",
     "text": [
      "0.6602462801877551\n"
     ]
    }
   ],
   "source": [
    "print(silhouette_score(X2D, agg1label))"
   ]
  },
  {
   "cell_type": "code",
   "execution_count": 32,
   "id": "30955d0e",
   "metadata": {},
   "outputs": [
    {
     "data": {
      "text/plain": [
       "AgglomerativeClustering(distance_threshold=0, n_clusters=None)"
      ]
     },
     "execution_count": 32,
     "metadata": {},
     "output_type": "execute_result"
    }
   ],
   "source": [
    "agg= AgglomerativeClustering(distance_threshold=0, n_clusters=None)\n",
    "agg.fit(X2D)"
   ]
  },
  {
   "cell_type": "code",
   "execution_count": 33,
   "id": "15356936",
   "metadata": {},
   "outputs": [],
   "source": [
    "agglabel= agg.labels_"
   ]
  },
  {
   "cell_type": "code",
   "execution_count": 34,
   "id": "fdf1704f",
   "metadata": {},
   "outputs": [
    {
     "data": {
      "image/png": "[encoded data removed]",
      "text/plain": [
       "<Figure size 560x320 with 1 Axes>"
      ]
     },
     "metadata": {},
     "output_type": "display_data"
    }
   ],
   "source": [
    "plt.figure(figsize=(7,4))\n",
    "plot_dendrogram(agg, truncate_mode='level', p=2)\n",
    "plt.title('Dendrogram Hierarchy Clustering(Agglomerative)');"
   ]
  },
  {
   "cell_type": "markdown",
   "id": "11b2ff34",
   "metadata": {},
   "source": [
    "# Model Evaluation :"
   ]
  },
  {
   "cell_type": "markdown",
   "id": "a066ccc5",
   "metadata": {},
   "source": [
    "# KMeans :\n",
    "- KMeans mengelompokkan 4 kelompok, dimana kelompok ini menunjukkan life expectancy tiap kelompok (namun sudah di PCA), semakin ke kanan, maka semakin lama life expectancy nya."
   ]
  },
  {
   "cell_type": "code",
   "execution_count": 83,
   "id": "c9aaa736",
   "metadata": {},
   "outputs": [
    {
     "data": {
      "image/png": "[encoded data removed]",
      "text/plain": [
       "<Figure size 640x440 with 1 Axes>"
      ]
     },
     "metadata": {},
     "output_type": "display_data"
    }
   ],
   "source": [
    "plt.style.use('seaborn')\n",
    "plt.title('Distribusi umur berdasarkan kontinen')\n",
    "sns.kdeplot(x='Overall Life', hue='Continent',data=distribution);"
   ]
  },
  {
   "cell_type": "markdown",
   "id": "3b7efa33",
   "metadata": {},
   "source": [
    "# Asumsi :\n",
    "- kebanyakan negara yang berada di Eropa dan Asia terdistribusi di scatter warna merah dan biru muda, dikarenakan life expectancy dari Eropa dan Asia merupakan yang paling panjang di banding dengan negara lain."
   ]
  },
  {
   "cell_type": "code",
   "execution_count": 40,
   "id": "df10d3e0",
   "metadata": {
    "scrolled": true
   },
   "outputs": [
    {
     "data": {
      "image/png": "[encoded data removed]",
      "text/plain": [
       "<Figure size 480x320 with 1 Axes>"
      ]
     },
     "metadata": {},
     "output_type": "display_data"
    }
   ],
   "source": [
    "plt.figure(figsize=(6,4))\n",
    "sns.histplot(data=df, x='Male Life', kde=True, alpha=0.4)\n",
    "sns.histplot(data=df, x='Female Life', kde=True, color='deeppink', alpha=0.6)\n",
    "plt.title('Merah= Female life, Biru= Male life (Expectancy)');"
   ]
  },
  {
   "cell_type": "markdown",
   "id": "b124857a",
   "metadata": {},
   "source": [
    "# Asumsi :"
   ]
  },
  {
   "cell_type": "markdown",
   "id": "2c67c1d4",
   "metadata": {},
   "source": [
    "Isolation Forest mendeteksi kalau adanya kelompok yang berada di ujung kanan/ujung kiri distribusi.\n",
    "\n",
    "\n",
    "yang berarti lebih lama/cepat tutup usia."
   ]
  },
  {
   "cell_type": "markdown",
   "id": "a273bbb8",
   "metadata": {},
   "source": [
    "# Kesimpulan :"
   ]
  },
  {
   "cell_type": "markdown",
   "id": "52389db9",
   "metadata": {},
   "source": [
    "# Benua :\n",
    "- Benua Eropa dan Asia merupakan umur yang lebih panjang dibanding yang lain.\n",
    "- Africa memiliki umur yang paling lebih dibanding yang lain."
   ]
  },
  {
   "cell_type": "markdown",
   "id": "61689f9a",
   "metadata": {},
   "source": [
    "# Negara yang cenderung tutup usia lebih cepat berdasarkan kontinen :\n",
    "- Oceania : Solomon Islands\n",
    "- South America : Aruba\n",
    "- North America : Montsterrat\n",
    "- Asia : Thailand\n",
    "- Eropa : Prancis\n",
    "- Afrika : Cameroon"
   ]
  },
  {
   "cell_type": "markdown",
   "id": "093f6947",
   "metadata": {},
   "source": [
    "# Negara yang cenderung memiliki usia  terlama berdasarkan kontinen :\n",
    "- Oceania : Australia\n",
    "- South America : Chille\n",
    "- North America : Canada\n",
    "- Eropa : Monaco\n",
    "- Asia : Jepang"
   ]
  }
 ],
 "metadata": {
  "kernelspec": {
   "display_name": "Python 3",
   "language": "python",
   "name": "python3"
  },
  "language_info": {
   "codemirror_mode": {
    "name": "ipython",
    "version": 3
   },
   "file_extension": ".py",
   "mimetype": "text/x-python",
   "name": "python",
   "nbconvert_exporter": "python",
   "pygments_lexer": "ipython3",
   "version": "3.8.8"
  }
 },
 "nbformat": 4,
 "nbformat_minor": 5
}
