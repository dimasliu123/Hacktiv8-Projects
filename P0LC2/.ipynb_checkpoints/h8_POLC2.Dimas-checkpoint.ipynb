{
 "cells": [
  {
   "cell_type": "code",
   "execution_count": 174,
   "id": "0a77c97f",
   "metadata": {},
   "outputs": [],
   "source": [
    "import pandas as pd\n",
    "import numpy as np\n",
    "import scipy\n",
    "import matplotlib.pyplot as plt\n",
    "import sympy as sy"
   ]
  },
  {
   "cell_type": "markdown",
   "id": "5671fc3e",
   "metadata": {},
   "source": [
    "# 1)\n",
    "- Menggunakan pandas untuk memuat data.\n",
    "\n",
    "- Menggunakan numpy untuk mengubah dataset tersebut menjadi matrix.\n",
    "\n",
    "- Menggunakan rumus linear kombinasi untuk mencari harga produk."
   ]
  },
  {
   "cell_type": "markdown",
   "id": "2a162fe2",
   "metadata": {},
   "source": [
    "# Data Loading :"
   ]
  },
  {
   "cell_type": "markdown",
   "id": "1b99570b",
   "metadata": {},
   "source": [
    "- Menyusun dataset menjadi sebuah DataFrame."
   ]
  },
  {
   "cell_type": "code",
   "execution_count": 140,
   "id": "eba898b6",
   "metadata": {
    "scrolled": true
   },
   "outputs": [
    {
     "data": {
      "text/html": [
       "<div>\n",
       "<style scoped>\n",
       "    .dataframe tbody tr th:only-of-type {\n",
       "        vertical-align: middle;\n",
       "    }\n",
       "\n",
       "    .dataframe tbody tr th {\n",
       "        vertical-align: top;\n",
       "    }\n",
       "\n",
       "    .dataframe thead th {\n",
       "        text-align: right;\n",
       "    }\n",
       "</style>\n",
       "<table border=\"1\" class=\"dataframe\">\n",
       "  <thead>\n",
       "    <tr style=\"text-align: right;\">\n",
       "      <th></th>\n",
       "      <th>Hari ke-</th>\n",
       "      <th>A</th>\n",
       "      <th>B</th>\n",
       "      <th>C</th>\n",
       "      <th>D</th>\n",
       "      <th>E</th>\n",
       "      <th>F</th>\n",
       "      <th>G</th>\n",
       "      <th>H</th>\n",
       "      <th>I</th>\n",
       "      <th>J</th>\n",
       "      <th>Pendapatan</th>\n",
       "    </tr>\n",
       "  </thead>\n",
       "  <tbody>\n",
       "    <tr>\n",
       "      <th>0</th>\n",
       "      <td>1</td>\n",
       "      <td>14</td>\n",
       "      <td>10</td>\n",
       "      <td>2</td>\n",
       "      <td>44</td>\n",
       "      <td>9</td>\n",
       "      <td>40</td>\n",
       "      <td>3</td>\n",
       "      <td>40</td>\n",
       "      <td>17</td>\n",
       "      <td>22</td>\n",
       "      <td>1402500</td>\n",
       "    </tr>\n",
       "    <tr>\n",
       "      <th>1</th>\n",
       "      <td>2</td>\n",
       "      <td>7</td>\n",
       "      <td>26</td>\n",
       "      <td>26</td>\n",
       "      <td>24</td>\n",
       "      <td>54</td>\n",
       "      <td>4</td>\n",
       "      <td>2</td>\n",
       "      <td>4</td>\n",
       "      <td>22</td>\n",
       "      <td>18</td>\n",
       "      <td>2325000</td>\n",
       "    </tr>\n",
       "    <tr>\n",
       "      <th>2</th>\n",
       "      <td>3</td>\n",
       "      <td>37</td>\n",
       "      <td>54</td>\n",
       "      <td>1</td>\n",
       "      <td>43</td>\n",
       "      <td>46</td>\n",
       "      <td>36</td>\n",
       "      <td>37</td>\n",
       "      <td>36</td>\n",
       "      <td>18</td>\n",
       "      <td>17</td>\n",
       "      <td>330700</td>\n",
       "    </tr>\n",
       "    <tr>\n",
       "      <th>3</th>\n",
       "      <td>4</td>\n",
       "      <td>19</td>\n",
       "      <td>19</td>\n",
       "      <td>45</td>\n",
       "      <td>41</td>\n",
       "      <td>43</td>\n",
       "      <td>51</td>\n",
       "      <td>38</td>\n",
       "      <td>51</td>\n",
       "      <td>56</td>\n",
       "      <td>37</td>\n",
       "      <td>4077000</td>\n",
       "    </tr>\n",
       "    <tr>\n",
       "      <th>4</th>\n",
       "      <td>5</td>\n",
       "      <td>47</td>\n",
       "      <td>28</td>\n",
       "      <td>50</td>\n",
       "      <td>10</td>\n",
       "      <td>44</td>\n",
       "      <td>47</td>\n",
       "      <td>3</td>\n",
       "      <td>47</td>\n",
       "      <td>2</td>\n",
       "      <td>21</td>\n",
       "      <td>3998000</td>\n",
       "    </tr>\n",
       "    <tr>\n",
       "      <th>5</th>\n",
       "      <td>6</td>\n",
       "      <td>12</td>\n",
       "      <td>41</td>\n",
       "      <td>31</td>\n",
       "      <td>25</td>\n",
       "      <td>44</td>\n",
       "      <td>9</td>\n",
       "      <td>16</td>\n",
       "      <td>9</td>\n",
       "      <td>47</td>\n",
       "      <td>3</td>\n",
       "      <td>2674500</td>\n",
       "    </tr>\n",
       "    <tr>\n",
       "      <th>6</th>\n",
       "      <td>7</td>\n",
       "      <td>20</td>\n",
       "      <td>19</td>\n",
       "      <td>53</td>\n",
       "      <td>56</td>\n",
       "      <td>34</td>\n",
       "      <td>37</td>\n",
       "      <td>60</td>\n",
       "      <td>37</td>\n",
       "      <td>35</td>\n",
       "      <td>49</td>\n",
       "      <td>4014000</td>\n",
       "    </tr>\n",
       "    <tr>\n",
       "      <th>7</th>\n",
       "      <td>8</td>\n",
       "      <td>60</td>\n",
       "      <td>44</td>\n",
       "      <td>1</td>\n",
       "      <td>16</td>\n",
       "      <td>9</td>\n",
       "      <td>55</td>\n",
       "      <td>55</td>\n",
       "      <td>55</td>\n",
       "      <td>30</td>\n",
       "      <td>10</td>\n",
       "      <td>2754500</td>\n",
       "    </tr>\n",
       "    <tr>\n",
       "      <th>8</th>\n",
       "      <td>9</td>\n",
       "      <td>41</td>\n",
       "      <td>55</td>\n",
       "      <td>50</td>\n",
       "      <td>28</td>\n",
       "      <td>59</td>\n",
       "      <td>9</td>\n",
       "      <td>40</td>\n",
       "      <td>9</td>\n",
       "      <td>45</td>\n",
       "      <td>34</td>\n",
       "      <td>5511500</td>\n",
       "    </tr>\n",
       "    <tr>\n",
       "      <th>9</th>\n",
       "      <td>10</td>\n",
       "      <td>14</td>\n",
       "      <td>14</td>\n",
       "      <td>11</td>\n",
       "      <td>39</td>\n",
       "      <td>2</td>\n",
       "      <td>51</td>\n",
       "      <td>51</td>\n",
       "      <td>19</td>\n",
       "      <td>19</td>\n",
       "      <td>39</td>\n",
       "      <td>3338500</td>\n",
       "    </tr>\n",
       "  </tbody>\n",
       "</table>\n",
       "</div>"
      ],
      "text/plain": [
       "   Hari ke-   A   B   C   D   E   F   G   H   I   J  Pendapatan\n",
       "0         1  14  10   2  44   9  40   3  40  17  22     1402500\n",
       "1         2   7  26  26  24  54   4   2   4  22  18     2325000\n",
       "2         3  37  54   1  43  46  36  37  36  18  17      330700\n",
       "3         4  19  19  45  41  43  51  38  51  56  37     4077000\n",
       "4         5  47  28  50  10  44  47   3  47   2  21     3998000\n",
       "5         6  12  41  31  25  44   9  16   9  47   3     2674500\n",
       "6         7  20  19  53  56  34  37  60  37  35  49     4014000\n",
       "7         8  60  44   1  16   9  55  55  55  30  10     2754500\n",
       "8         9  41  55  50  28  59   9  40   9  45  34     5511500\n",
       "9        10  14  14  11  39   2  51  51  19  19  39     3338500"
      ]
     },
     "execution_count": 140,
     "metadata": {},
     "output_type": "execute_result"
    }
   ],
   "source": [
    "# Hari ke-\tA\tB\tC\tD\tE\tF\tG\tH\tI\tJ\tPendapatan\n",
    "# 1\t14\t19\t2\t44\t9\t1\t3\t40\t17\t22\t1402500\n",
    "# 2\t7\t26\t26\t24\t54\t2\t2\t4\t22\t18\t2325000\n",
    "# 3\t37\t54\t1\t43\t46\t23\t37\t36\t18\t17\t3307000\n",
    "# 4\t19\t19\t45\t41\t43\t21\t38\t51\t56\t37\t4077000\n",
    "# 5\t47\t28\t50\t10\t44\t54\t3\t47\t2\t21\t3998000\n",
    "# 6\t12\t41\t31\t25\t44\t13\t16\t9\t47\t3\t2674500\n",
    "# 7\t20\t19\t53\t56\t34\t6\t60\t37\t35\t49\t4014000\n",
    "# 8\t60\t44\t1\t16\t9\t24\t55\t55\t30\t10\t2754500\n",
    "# 9\t41\t55\t50\t28\t59\t54\t40\t9\t45\t34\t5511500\n",
    "# 10\t14\t11\t39\t2\t26\t17\t51\t19\t38\t39\t3338500\n",
    "\n",
    "dict0 = {\n",
    "    'Hari ke-' : [1,2,3,4,5,6,7,8,9,10],\n",
    "    'A' : [14,7,37,19,47,12,20,60,41,14],\n",
    "    'B' : [10,26,54,19,28,41,19,44,55,14],\n",
    "    'C' : [2,26,1,45,50,31,53,1,50,11],\n",
    "    'D' : [44,24,43,41,10,25,56,16,28,39],\n",
    "    'E' : [9,54,46,43,44,44,34,9,59,2],\n",
    "    'F' : [40,4,36,51,47,9,37,55,9,51],\n",
    "    'G' : [3,2,37,38,3,16,60,55,40,51],\n",
    "    'H' : [40,4,36,51,47,9,37,55,9,19],\n",
    "    'I' : [17,22,18,56,2,47,35,30,45,19],\n",
    "    'J' : [22,18,17,37,21,3,49,10,34,39],\n",
    "    'Pendapatan' : [1402500, 2325000, 330700, 4077000, 3998000, 2674500, 4014000, 2754500, 5511500, 3338500]}\n",
    "\n",
    "df = pd.DataFrame(dict0)\n",
    "\n",
    "df"
   ]
  },
  {
   "cell_type": "markdown",
   "id": "645a8a12",
   "metadata": {},
   "source": [
    "Mengubah DataFrame dari library pandas menjadi numpy untuk di ubah menjadi matrix."
   ]
  },
  {
   "cell_type": "code",
   "execution_count": 141,
   "id": "137301ea",
   "metadata": {},
   "outputs": [],
   "source": [
    "array = df.to_numpy() #Mengubah dataset tersebut menjadi numpy."
   ]
  },
  {
   "cell_type": "code",
   "execution_count": 142,
   "id": "661f4011",
   "metadata": {
    "scrolled": false
   },
   "outputs": [
    {
     "name": "stdout",
     "output_type": "stream",
     "text": [
      "[[      1      14      10       2      44       9      40       3      40\n",
      "       17      22 1402500]\n",
      " [      2       7      26      26      24      54       4       2       4\n",
      "       22      18 2325000]\n",
      " [      3      37      54       1      43      46      36      37      36\n",
      "       18      17  330700]\n",
      " [      4      19      19      45      41      43      51      38      51\n",
      "       56      37 4077000]\n",
      " [      5      47      28      50      10      44      47       3      47\n",
      "        2      21 3998000]\n",
      " [      6      12      41      31      25      44       9      16       9\n",
      "       47       3 2674500]\n",
      " [      7      20      19      53      56      34      37      60      37\n",
      "       35      49 4014000]\n",
      " [      8      60      44       1      16       9      55      55      55\n",
      "       30      10 2754500]\n",
      " [      9      41      55      50      28      59       9      40       9\n",
      "       45      34 5511500]\n",
      " [     10      14      14      11      39       2      51      51      19\n",
      "       19      39 3338500]]\n"
     ]
    },
    {
     "data": {
      "text/plain": [
       "(10, 12)"
      ]
     },
     "execution_count": 142,
     "metadata": {},
     "output_type": "execute_result"
    }
   ],
   "source": [
    "print(array)\n",
    "np.shape(array)"
   ]
  },
  {
   "cell_type": "code",
   "execution_count": 143,
   "id": "690682c8",
   "metadata": {
    "scrolled": false
   },
   "outputs": [
    {
     "data": {
      "text/plain": [
       "[<matplotlib.lines.Line2D at 0x7f9a3a6cf5e0>,\n",
       " <matplotlib.lines.Line2D at 0x7f9a3a6cf6d0>,\n",
       " <matplotlib.lines.Line2D at 0x7f9a3a6cf790>,\n",
       " <matplotlib.lines.Line2D at 0x7f9a3a6cf850>,\n",
       " <matplotlib.lines.Line2D at 0x7f9a3a6cf910>,\n",
       " <matplotlib.lines.Line2D at 0x7f9a3a6cf9d0>,\n",
       " <matplotlib.lines.Line2D at 0x7f9a3a6cfa90>,\n",
       " <matplotlib.lines.Line2D at 0x7f9a3a6cfb50>,\n",
       " <matplotlib.lines.Line2D at 0x7f9a3a6cfc10>,\n",
       " <matplotlib.lines.Line2D at 0x7f9a3a6cfcd0>,\n",
       " <matplotlib.lines.Line2D at 0x7f9a3a64d8b0>,\n",
       " <matplotlib.lines.Line2D at 0x7f9a3a6cfe20>]"
      ]
     },
     "execution_count": 143,
     "metadata": {},
     "output_type": "execute_result"
    },
    {
     "data": {
      "image/png": "[encoded data removed]",
      "text/plain": [
       "<Figure size 432x288 with 1 Axes>"
      ]
     },
     "metadata": {
      "needs_background": "light"
     },
     "output_type": "display_data"
    }
   ],
   "source": [
    "plt.plot(array)"
   ]
  },
  {
   "cell_type": "markdown",
   "id": "ca5fdb9d",
   "metadata": {},
   "source": [
    "# Menggunakan rumus linear transformasi untuk mencari harga tersebut."
   ]
  },
  {
   "cell_type": "code",
   "execution_count": 210,
   "id": "13a8afab",
   "metadata": {},
   "outputs": [],
   "source": [
    "# Sebuah matrix berupa binary (0,1)\n",
    "# berasal dari np.random.randint(0,2, size=(10,10))\n",
    "randmat = np.array([([[0, 0, 1, 0, 1, 0, 0, 0, 1, 0],\n",
    "       [0, 0, 1, 0, 0, 1, 1, 1, 1, 0],\n",
    "       [1, 1, 1, 1, 1, 1, 0, 1, 1, 1],\n",
    "       [0, 1, 0, 0, 1, 0, 1, 1, 1, 0],\n",
    "       [1, 0, 0, 0, 0, 0, 0, 0, 0, 0],\n",
    "       [1, 0, 0, 1, 0, 0, 1, 1, 1, 1],\n",
    "       [0, 0, 0, 0, 0, 1, 0, 0, 1, 1],\n",
    "       [1, 0, 1, 0, 0, 1, 0, 0, 0, 1],\n",
    "       [0, 0, 0, 1, 0, 0, 0, 1, 1, 0],\n",
    "       [1, 0, 0, 0, 1, 1, 1, 0, 1, 1]])])"
   ]
  },
  {
   "cell_type": "code",
   "execution_count": 214,
   "id": "1f8f8ec2",
   "metadata": {},
   "outputs": [
    {
     "name": "stdout",
     "output_type": "stream",
     "text": [
      "[[14  7 37 19 47 12 20 60 41 14]\n",
      " [10 26 54 19 28 41 19 44 55 14]\n",
      " [ 2 26  1 45 50 31 53  1 50 11]\n",
      " [44 24 43 41 10 25 56 16 28 39]\n",
      " [ 9 54 46 43 44 44 34  9 59  2]\n",
      " [40  4 36 51 47  9 37 55  9 51]\n",
      " [ 3  2 37 38  3 16 60 55 40 51]\n",
      " [40  4 36 51 47  9 37 55  9 19]\n",
      " [17 22 18 56  2 47 35 30 45 19]\n",
      " [22 18 17 37 21  3 49 10 34 39]]\n"
     ]
    },
    {
     "data": {
      "text/plain": [
       "(10, 10)"
      ]
     },
     "execution_count": 214,
     "metadata": {},
     "output_type": "execute_result"
    }
   ],
   "source": [
    "x = df['A'], df['B'], df['C'], df['D'], df['E'], df['F'], df['G'], df['H'], df['I'], df['J']\n",
    "mat = np.array(x)\n",
    "print(mat)\n",
    "np.shape(mat)"
   ]
  },
  {
   "cell_type": "code",
   "execution_count": 171,
   "id": "318e6102",
   "metadata": {
    "scrolled": false
   },
   "outputs": [
    {
     "name": "stdout",
     "output_type": "stream",
     "text": [
      "[[[-2.83444047e-02  2.52895954e-02  3.72941556e-03  4.48630017e-03\n",
      "    5.52195532e-02 -4.90786212e-02  8.52933463e-03  1.81464870e-02\n",
      "    2.70997606e-02 -3.85873398e-02]\n",
      "  [-1.70066288e-01  8.80447267e-02 -2.42327174e-01  6.78858672e-02\n",
      "    1.54195729e-01 -5.95655497e-01 -2.37050578e-01 -7.59430195e-02\n",
      "    1.56775844e-02 -2.67348425e-01]\n",
      "  [ 1.09934582e-01 -6.88075292e-02  1.13416240e-01 -6.86512758e-02\n",
      "   -1.16673015e-01  3.32978737e-01  1.30061326e-01  9.33656274e-03\n",
      "   -4.26412364e-02  1.48978123e-01]\n",
      "  [ 1.21469224e-01 -8.83074152e-02  8.12021812e-02 -3.52538508e-02\n",
      "   -1.13046822e-01  2.86054448e-01  9.58373106e-02 -6.82148645e-03\n",
      "   -4.08847351e-02  1.45952307e-01]\n",
      "  [ 2.72863252e-02  5.18655961e-03  3.05733833e-02  1.01271922e-02\n",
      "   -6.26498086e-03  4.39382898e-02  2.55688811e-02  2.29305788e-02\n",
      "    4.82679162e-03  2.93397292e-02]\n",
      "  [-3.80457089e-02  4.63052700e-02  4.81228783e-04  4.49898640e-02\n",
      "    3.68278898e-03 -5.29842102e-02 -4.54786970e-03  6.86766260e-02\n",
      "    2.56941204e-02 -3.16709616e-02]\n",
      "  [-6.59020550e-02  6.64264812e-02 -4.28010198e-02  8.63118117e-03\n",
      "    6.69639302e-02 -1.52891050e-01 -8.95005959e-02 -1.65119463e-02\n",
      "    5.50079977e-03 -6.99863758e-02]\n",
      "  [-1.17075026e-01  5.38296278e-02 -1.18478715e-01  4.29080350e-02\n",
      "    9.39717381e-02 -3.39233658e-01 -1.51400346e-01 -3.97200824e-02\n",
      "    1.97659894e-02 -1.55321311e-01]\n",
      "  [ 6.65469457e-02 -5.13265070e-02  9.42525762e-02 -3.72817324e-02\n",
      "   -2.71945102e-02  2.32231532e-01  1.02344758e-01  1.06290949e-02\n",
      "    1.45544382e-02  9.38162872e-02]\n",
      "  [-6.93889390e-18 -3.46944695e-18 -3.12500000e-02  3.12500000e-02\n",
      "    6.93889390e-18 -3.12500000e-02  3.12500000e-02  3.12500000e-02\n",
      "    3.12500000e-02  0.00000000e+00]]]\n"
     ]
    }
   ],
   "source": [
    "res = np.linalg.solve(mat, randmat)\n",
    "print(res)"
   ]
  },
  {
   "cell_type": "markdown",
   "id": "4f06ef3d",
   "metadata": {},
   "source": [
    "# 2)\n",
    "- Menggunakan integral untuk menentukan luas kota negara swiss dan koordinatnya"
   ]
  },
  {
   "cell_type": "code",
   "execution_count": 205,
   "id": "61ef7e01",
   "metadata": {},
   "outputs": [
    {
     "data": {
      "text/plain": [
       "[<matplotlib.lines.Line2D at 0x7f9a3b1ec4f0>]"
      ]
     },
     "execution_count": 205,
     "metadata": {},
     "output_type": "execute_result"
    },
    {
     "data": {
      "image/png": "[encoded data removed]",
      "text/plain": [
       "<Figure size 432x288 with 1 Axes>"
      ]
     },
     "metadata": {
      "needs_background": "light"
     },
     "output_type": "display_data"
    }
   ],
   "source": [
    "plt.plot(df2['longitude'], df2['latitude'], color='brown')"
   ]
  },
  {
   "cell_type": "code",
   "execution_count": 147,
   "id": "9a752125",
   "metadata": {
    "scrolled": false
   },
   "outputs": [
    {
     "data": {
      "text/html": [
       "<div>\n",
       "<style scoped>\n",
       "    .dataframe tbody tr th:only-of-type {\n",
       "        vertical-align: middle;\n",
       "    }\n",
       "\n",
       "    .dataframe tbody tr th {\n",
       "        vertical-align: top;\n",
       "    }\n",
       "\n",
       "    .dataframe thead th {\n",
       "        text-align: right;\n",
       "    }\n",
       "</style>\n",
       "<table border=\"1\" class=\"dataframe\">\n",
       "  <thead>\n",
       "    <tr style=\"text-align: right;\">\n",
       "      <th></th>\n",
       "      <th>longitude</th>\n",
       "      <th>latitude</th>\n",
       "    </tr>\n",
       "  </thead>\n",
       "  <tbody>\n",
       "    <tr>\n",
       "      <th>0</th>\n",
       "      <td>9.56672</td>\n",
       "      <td>47.54045</td>\n",
       "    </tr>\n",
       "    <tr>\n",
       "      <th>1</th>\n",
       "      <td>9.55980</td>\n",
       "      <td>47.50209</td>\n",
       "    </tr>\n",
       "    <tr>\n",
       "      <th>2</th>\n",
       "      <td>9.59660</td>\n",
       "      <td>47.46944</td>\n",
       "    </tr>\n",
       "    <tr>\n",
       "      <th>3</th>\n",
       "      <td>9.64965</td>\n",
       "      <td>47.45861</td>\n",
       "    </tr>\n",
       "    <tr>\n",
       "      <th>4</th>\n",
       "      <td>9.67035</td>\n",
       "      <td>47.39069</td>\n",
       "    </tr>\n",
       "    <tr>\n",
       "      <th>...</th>\n",
       "      <td>...</td>\n",
       "      <td>...</td>\n",
       "    </tr>\n",
       "    <tr>\n",
       "      <th>273</th>\n",
       "      <td>9.03333</td>\n",
       "      <td>47.68833</td>\n",
       "    </tr>\n",
       "    <tr>\n",
       "      <th>274</th>\n",
       "      <td>9.08264</td>\n",
       "      <td>47.68541</td>\n",
       "    </tr>\n",
       "    <tr>\n",
       "      <th>275</th>\n",
       "      <td>9.26110</td>\n",
       "      <td>47.66284</td>\n",
       "    </tr>\n",
       "    <tr>\n",
       "      <th>276</th>\n",
       "      <td>9.47832</td>\n",
       "      <td>47.57585</td>\n",
       "    </tr>\n",
       "    <tr>\n",
       "      <th>277</th>\n",
       "      <td>9.56672</td>\n",
       "      <td>47.54045</td>\n",
       "    </tr>\n",
       "  </tbody>\n",
       "</table>\n",
       "<p>278 rows × 2 columns</p>\n",
       "</div>"
      ],
      "text/plain": [
       "     longitude  latitude\n",
       "0      9.56672  47.54045\n",
       "1      9.55980  47.50209\n",
       "2      9.59660  47.46944\n",
       "3      9.64965  47.45861\n",
       "4      9.67035  47.39069\n",
       "..         ...       ...\n",
       "273    9.03333  47.68833\n",
       "274    9.08264  47.68541\n",
       "275    9.26110  47.66284\n",
       "276    9.47832  47.57585\n",
       "277    9.56672  47.54045\n",
       "\n",
       "[278 rows x 2 columns]"
      ]
     },
     "execution_count": 147,
     "metadata": {},
     "output_type": "execute_result"
    }
   ],
   "source": [
    "df2 = pd.read_csv('Swiss_boundaries.txt')\n",
    "df2"
   ]
  },
  {
   "cell_type": "markdown",
   "id": "c1210976",
   "metadata": {},
   "source": [
    "# Differensial :"
   ]
  },
  {
   "cell_type": "code",
   "execution_count": 203,
   "id": "7394a188",
   "metadata": {},
   "outputs": [],
   "source": [
    "der1 =np.diff(df2['latitude'])/np.diff(df2['longitude'])"
   ]
  },
  {
   "cell_type": "code",
   "execution_count": 204,
   "id": "15646f23",
   "metadata": {
    "scrolled": true
   },
   "outputs": [
    {
     "data": {
      "text/plain": [
       "[<matplotlib.lines.Line2D at 0x7f9a3b0d4b20>]"
      ]
     },
     "execution_count": 204,
     "metadata": {},
     "output_type": "execute_result"
    },
    {
     "data": {
      "image/png": "[encoded data removed]",
      "text/plain": [
       "<Figure size 432x288 with 1 Axes>"
      ]
     },
     "metadata": {
      "needs_background": "light"
     },
     "output_type": "display_data"
    }
   ],
   "source": [
    "plt.plot(der1)"
   ]
  },
  {
   "cell_type": "code",
   "execution_count": 208,
   "id": "2ee6cc8d",
   "metadata": {},
   "outputs": [
    {
     "data": {
      "text/plain": [
       "longitude     5.96701\n",
       "latitude     45.82944\n",
       "dtype: float64"
      ]
     },
     "execution_count": 208,
     "metadata": {},
     "output_type": "execute_result"
    }
   ],
   "source": [
    "df2.min()"
   ]
  },
  {
   "cell_type": "code",
   "execution_count": 209,
   "id": "a21bc303",
   "metadata": {},
   "outputs": [
    {
     "data": {
      "text/plain": [
       "longitude    10.48821\n",
       "latitude     47.80666\n",
       "dtype: float64"
      ]
     },
     "execution_count": 209,
     "metadata": {},
     "output_type": "execute_result"
    }
   ],
   "source": [
    "df2.max()"
   ]
  }
 ],
 "metadata": {
  "kernelspec": {
   "display_name": "Python 3",
   "language": "python",
   "name": "python3"
  },
  "language_info": {
   "codemirror_mode": {
    "name": "ipython",
    "version": 3
   },
   "file_extension": ".py",
   "mimetype": "text/x-python",
   "name": "python",
   "nbconvert_exporter": "python",
   "pygments_lexer": "ipython3",
   "version": "3.8.8"
  }
 },
 "nbformat": 4,
 "nbformat_minor": 5
}
